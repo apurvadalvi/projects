{
 "cells": [
  {
   "cell_type": "code",
   "execution_count": 1,
   "id": "decdb5b7",
   "metadata": {},
   "outputs": [],
   "source": [
    "# import libraries\n",
    "import pandas as pd\n",
    "import matplotlib.pyplot as plt\n",
    "import seaborn as sns\n",
    "import numpy as np"
   ]
  },
  {
   "cell_type": "code",
   "execution_count": 2,
   "id": "107571b8",
   "metadata": {},
   "outputs": [],
   "source": [
    "# load csv files\n",
    "customer_df = pd.read_csv('customer_signups.csv')\n",
    "support_tickets_df = pd.read_csv('support_tickets.csv')"
   ]
  },
  {
   "cell_type": "markdown",
   "id": "05d1ac2c",
   "metadata": {},
   "source": [
    "# Exploratory Data Analysis"
   ]
  },
  {
   "cell_type": "markdown",
   "id": "ab2ca7ef",
   "metadata": {},
   "source": [
    "## Customer Signup data exploration"
   ]
  },
  {
   "cell_type": "code",
   "execution_count": 3,
   "id": "6a1e5419",
   "metadata": {},
   "outputs": [
    {
     "data": {
      "text/html": [
       "<div>\n",
       "<style scoped>\n",
       "    .dataframe tbody tr th:only-of-type {\n",
       "        vertical-align: middle;\n",
       "    }\n",
       "\n",
       "    .dataframe tbody tr th {\n",
       "        vertical-align: top;\n",
       "    }\n",
       "\n",
       "    .dataframe thead th {\n",
       "        text-align: right;\n",
       "    }\n",
       "</style>\n",
       "<table border=\"1\" class=\"dataframe\">\n",
       "  <thead>\n",
       "    <tr style=\"text-align: right;\">\n",
       "      <th></th>\n",
       "      <th>customer_id</th>\n",
       "      <th>name</th>\n",
       "      <th>email</th>\n",
       "      <th>signup_date</th>\n",
       "      <th>source</th>\n",
       "      <th>region</th>\n",
       "      <th>plan_selected</th>\n",
       "      <th>marketing_opt_in</th>\n",
       "      <th>age</th>\n",
       "      <th>gender</th>\n",
       "    </tr>\n",
       "  </thead>\n",
       "  <tbody>\n",
       "    <tr>\n",
       "      <th>count</th>\n",
       "      <td>298</td>\n",
       "      <td>291</td>\n",
       "      <td>266</td>\n",
       "      <td>298</td>\n",
       "      <td>291</td>\n",
       "      <td>270</td>\n",
       "      <td>292</td>\n",
       "      <td>291</td>\n",
       "      <td>288</td>\n",
       "      <td>292</td>\n",
       "    </tr>\n",
       "    <tr>\n",
       "      <th>unique</th>\n",
       "      <td>298</td>\n",
       "      <td>291</td>\n",
       "      <td>265</td>\n",
       "      <td>295</td>\n",
       "      <td>7</td>\n",
       "      <td>5</td>\n",
       "      <td>8</td>\n",
       "      <td>4</td>\n",
       "      <td>11</td>\n",
       "      <td>7</td>\n",
       "    </tr>\n",
       "    <tr>\n",
       "      <th>top</th>\n",
       "      <td>CUST00000</td>\n",
       "      <td>Joshua Bryant</td>\n",
       "      <td>lisa11@mailhub.org</td>\n",
       "      <td>not a date</td>\n",
       "      <td>YouTube</td>\n",
       "      <td>North</td>\n",
       "      <td>Premium</td>\n",
       "      <td>No</td>\n",
       "      <td>40</td>\n",
       "      <td>Other</td>\n",
       "    </tr>\n",
       "    <tr>\n",
       "      <th>freq</th>\n",
       "      <td>1</td>\n",
       "      <td>1</td>\n",
       "      <td>2</td>\n",
       "      <td>4</td>\n",
       "      <td>58</td>\n",
       "      <td>65</td>\n",
       "      <td>57</td>\n",
       "      <td>156</td>\n",
       "      <td>50</td>\n",
       "      <td>59</td>\n",
       "    </tr>\n",
       "  </tbody>\n",
       "</table>\n",
       "</div>"
      ],
      "text/plain": [
       "       customer_id           name               email signup_date   source  \\\n",
       "count          298            291                 266         298      291   \n",
       "unique         298            291                 265         295        7   \n",
       "top      CUST00000  Joshua Bryant  lisa11@mailhub.org  not a date  YouTube   \n",
       "freq             1              1                   2           4       58   \n",
       "\n",
       "       region plan_selected marketing_opt_in  age gender  \n",
       "count     270           292              291  288    292  \n",
       "unique      5             8                4   11      7  \n",
       "top     North       Premium               No   40  Other  \n",
       "freq       65            57              156   50     59  "
      ]
     },
     "execution_count": 3,
     "metadata": {},
     "output_type": "execute_result"
    }
   ],
   "source": [
    "customer_df.describe()"
   ]
  },
  {
   "cell_type": "code",
   "execution_count": 4,
   "id": "fb5141ca",
   "metadata": {},
   "outputs": [
    {
     "data": {
      "text/html": [
       "<div>\n",
       "<style scoped>\n",
       "    .dataframe tbody tr th:only-of-type {\n",
       "        vertical-align: middle;\n",
       "    }\n",
       "\n",
       "    .dataframe tbody tr th {\n",
       "        vertical-align: top;\n",
       "    }\n",
       "\n",
       "    .dataframe thead th {\n",
       "        text-align: right;\n",
       "    }\n",
       "</style>\n",
       "<table border=\"1\" class=\"dataframe\">\n",
       "  <thead>\n",
       "    <tr style=\"text-align: right;\">\n",
       "      <th></th>\n",
       "      <th>customer_id</th>\n",
       "      <th>name</th>\n",
       "      <th>email</th>\n",
       "      <th>signup_date</th>\n",
       "      <th>source</th>\n",
       "      <th>region</th>\n",
       "      <th>plan_selected</th>\n",
       "      <th>marketing_opt_in</th>\n",
       "      <th>age</th>\n",
       "      <th>gender</th>\n",
       "    </tr>\n",
       "  </thead>\n",
       "  <tbody>\n",
       "    <tr>\n",
       "      <th>0</th>\n",
       "      <td>CUST00000</td>\n",
       "      <td>Joshua Bryant</td>\n",
       "      <td>NaN</td>\n",
       "      <td>NaN</td>\n",
       "      <td>Instagram</td>\n",
       "      <td>NaN</td>\n",
       "      <td>basic</td>\n",
       "      <td>No</td>\n",
       "      <td>34</td>\n",
       "      <td>Female</td>\n",
       "    </tr>\n",
       "    <tr>\n",
       "      <th>1</th>\n",
       "      <td>CUST00001</td>\n",
       "      <td>Nicole Stewart</td>\n",
       "      <td>nicole1@example.com</td>\n",
       "      <td>02-01-24</td>\n",
       "      <td>LinkedIn</td>\n",
       "      <td>West</td>\n",
       "      <td>basic</td>\n",
       "      <td>Yes</td>\n",
       "      <td>29</td>\n",
       "      <td>Male</td>\n",
       "    </tr>\n",
       "    <tr>\n",
       "      <th>2</th>\n",
       "      <td>CUST00002</td>\n",
       "      <td>Rachel Allen</td>\n",
       "      <td>rachel2@example.com</td>\n",
       "      <td>03-01-24</td>\n",
       "      <td>Google</td>\n",
       "      <td>North</td>\n",
       "      <td>PREMIUM</td>\n",
       "      <td>Yes</td>\n",
       "      <td>34</td>\n",
       "      <td>Non-Binary</td>\n",
       "    </tr>\n",
       "    <tr>\n",
       "      <th>3</th>\n",
       "      <td>CUST00003</td>\n",
       "      <td>Zachary Sanchez</td>\n",
       "      <td>zachary3@mailhub.org</td>\n",
       "      <td>04-01-24</td>\n",
       "      <td>YouTube</td>\n",
       "      <td>NaN</td>\n",
       "      <td>Pro</td>\n",
       "      <td>No</td>\n",
       "      <td>40</td>\n",
       "      <td>Male</td>\n",
       "    </tr>\n",
       "    <tr>\n",
       "      <th>4</th>\n",
       "      <td>CUST00004</td>\n",
       "      <td>NaN</td>\n",
       "      <td>matthew4@mailhub.org</td>\n",
       "      <td>05-01-24</td>\n",
       "      <td>LinkedIn</td>\n",
       "      <td>West</td>\n",
       "      <td>Premium</td>\n",
       "      <td>No</td>\n",
       "      <td>25</td>\n",
       "      <td>Other</td>\n",
       "    </tr>\n",
       "  </tbody>\n",
       "</table>\n",
       "</div>"
      ],
      "text/plain": [
       "  customer_id             name                 email signup_date     source  \\\n",
       "0   CUST00000    Joshua Bryant                   NaN         NaN  Instagram   \n",
       "1   CUST00001   Nicole Stewart   nicole1@example.com    02-01-24   LinkedIn   \n",
       "2   CUST00002     Rachel Allen   rachel2@example.com    03-01-24     Google   \n",
       "3   CUST00003  Zachary Sanchez  zachary3@mailhub.org    04-01-24    YouTube   \n",
       "4   CUST00004              NaN  matthew4@mailhub.org    05-01-24   LinkedIn   \n",
       "\n",
       "  region plan_selected marketing_opt_in age      gender  \n",
       "0    NaN         basic               No  34      Female  \n",
       "1   West         basic              Yes  29        Male  \n",
       "2  North       PREMIUM              Yes  34  Non-Binary  \n",
       "3    NaN           Pro               No  40        Male  \n",
       "4   West       Premium               No  25       Other  "
      ]
     },
     "execution_count": 4,
     "metadata": {},
     "output_type": "execute_result"
    }
   ],
   "source": [
    "customer_df.head()"
   ]
  },
  {
   "cell_type": "code",
   "execution_count": 5,
   "id": "ad7df59f",
   "metadata": {},
   "outputs": [],
   "source": [
    "df1 = customer_df.copy()"
   ]
  },
  {
   "cell_type": "markdown",
   "id": "9f048d99",
   "metadata": {},
   "source": [
    "## Datatype conversion"
   ]
  },
  {
   "cell_type": "code",
   "execution_count": 6,
   "id": "e5f533c4",
   "metadata": {},
   "outputs": [
    {
     "data": {
      "text/plain": [
       "customer_id         object\n",
       "name                object\n",
       "email               object\n",
       "signup_date         object\n",
       "source              object\n",
       "region              object\n",
       "plan_selected       object\n",
       "marketing_opt_in    object\n",
       "age                 object\n",
       "gender              object\n",
       "dtype: object"
      ]
     },
     "execution_count": 6,
     "metadata": {},
     "output_type": "execute_result"
    }
   ],
   "source": [
    "df1.dtypes"
   ]
  },
  {
   "cell_type": "markdown",
   "id": "95d14f3e",
   "metadata": {},
   "source": [
    "### signup_date column conversion"
   ]
  },
  {
   "cell_type": "code",
   "execution_count": 7,
   "id": "9beff726",
   "metadata": {},
   "outputs": [
    {
     "data": {
      "text/plain": [
       "0           NaN\n",
       "1      02-01-24\n",
       "2      03-01-24\n",
       "3      04-01-24\n",
       "4      05-01-24\n",
       "         ...   \n",
       "295    22-10-24\n",
       "296    23-10-24\n",
       "297    24-10-24\n",
       "298    25-10-24\n",
       "299    26-10-24\n",
       "Name: signup_date, Length: 300, dtype: object"
      ]
     },
     "execution_count": 7,
     "metadata": {},
     "output_type": "execute_result"
    }
   ],
   "source": [
    "# Checking the date format\n",
    "df1['signup_date']"
   ]
  },
  {
   "cell_type": "code",
   "execution_count": 8,
   "id": "8e835601",
   "metadata": {},
   "outputs": [
    {
     "data": {
      "text/plain": [
       "2"
      ]
     },
     "execution_count": 8,
     "metadata": {},
     "output_type": "execute_result"
    }
   ],
   "source": [
    "# null value count for verification\n",
    "df1['signup_date'].isna().sum()"
   ]
  },
  {
   "cell_type": "code",
   "execution_count": 9,
   "id": "00c8e14e",
   "metadata": {},
   "outputs": [],
   "source": [
    "# converting dtype to datetime dtype, errors will be set to null for invalid parsing\n",
    "df1['signup_date'] = pd.to_datetime(df1['signup_date'], dayfirst=True, errors='coerce')"
   ]
  },
  {
   "cell_type": "code",
   "execution_count": 10,
   "id": "a91653d9",
   "metadata": {},
   "outputs": [
    {
     "data": {
      "text/plain": [
       "6"
      ]
     },
     "execution_count": 10,
     "metadata": {},
     "output_type": "execute_result"
    }
   ],
   "source": [
    "# null value count for verification - had 4 'not a date' values\n",
    "df1['signup_date'].isna().sum()"
   ]
  },
  {
   "cell_type": "markdown",
   "id": "b2691041",
   "metadata": {},
   "source": [
    "### Age column conversion"
   ]
  },
  {
   "cell_type": "code",
   "execution_count": 11,
   "id": "c278efda",
   "metadata": {},
   "outputs": [
    {
     "data": {
      "text/plain": [
       "12"
      ]
     },
     "execution_count": 11,
     "metadata": {},
     "output_type": "execute_result"
    }
   ],
   "source": [
    "# null value count for verification\n",
    "df1['age'].isnull().sum()"
   ]
  },
  {
   "cell_type": "code",
   "execution_count": 12,
   "id": "ee6b4474",
   "metadata": {},
   "outputs": [],
   "source": [
    "# converting age to numeric dtype, errors will be set to null for invalid parsing\n",
    "df1['age'] = pd.to_numeric(df1['age'], errors= 'coerce').astype('Int64')"
   ]
  },
  {
   "cell_type": "code",
   "execution_count": 13,
   "id": "3bb8185b",
   "metadata": {},
   "outputs": [
    {
     "data": {
      "text/plain": [
       "19"
      ]
     },
     "execution_count": 13,
     "metadata": {},
     "output_type": "execute_result"
    }
   ],
   "source": [
    "# null value count for verification\n",
    "df1['age'].isnull().sum()"
   ]
  },
  {
   "cell_type": "code",
   "execution_count": 14,
   "id": "d205bae9",
   "metadata": {},
   "outputs": [
    {
     "data": {
      "text/html": [
       "<div>\n",
       "<style scoped>\n",
       "    .dataframe tbody tr th:only-of-type {\n",
       "        vertical-align: middle;\n",
       "    }\n",
       "\n",
       "    .dataframe tbody tr th {\n",
       "        vertical-align: top;\n",
       "    }\n",
       "\n",
       "    .dataframe thead th {\n",
       "        text-align: right;\n",
       "    }\n",
       "</style>\n",
       "<table border=\"1\" class=\"dataframe\">\n",
       "  <thead>\n",
       "    <tr style=\"text-align: right;\">\n",
       "      <th></th>\n",
       "      <th>customer_id</th>\n",
       "      <th>original_age</th>\n",
       "      <th>cust_id</th>\n",
       "      <th>converted_age</th>\n",
       "    </tr>\n",
       "  </thead>\n",
       "  <tbody>\n",
       "    <tr>\n",
       "      <th>21</th>\n",
       "      <td>CUST00021</td>\n",
       "      <td>NaN</td>\n",
       "      <td>CUST00021</td>\n",
       "      <td>&lt;NA&gt;</td>\n",
       "    </tr>\n",
       "    <tr>\n",
       "      <th>23</th>\n",
       "      <td>CUST00023</td>\n",
       "      <td>unknown</td>\n",
       "      <td>CUST00023</td>\n",
       "      <td>&lt;NA&gt;</td>\n",
       "    </tr>\n",
       "    <tr>\n",
       "      <th>33</th>\n",
       "      <td>CUST00033</td>\n",
       "      <td>unknown</td>\n",
       "      <td>CUST00033</td>\n",
       "      <td>&lt;NA&gt;</td>\n",
       "    </tr>\n",
       "    <tr>\n",
       "      <th>37</th>\n",
       "      <td>CUST00037</td>\n",
       "      <td>NaN</td>\n",
       "      <td>CUST00037</td>\n",
       "      <td>&lt;NA&gt;</td>\n",
       "    </tr>\n",
       "    <tr>\n",
       "      <th>40</th>\n",
       "      <td>CUST00040</td>\n",
       "      <td>unknown</td>\n",
       "      <td>CUST00040</td>\n",
       "      <td>&lt;NA&gt;</td>\n",
       "    </tr>\n",
       "    <tr>\n",
       "      <th>53</th>\n",
       "      <td>CUST00053</td>\n",
       "      <td>NaN</td>\n",
       "      <td>CUST00053</td>\n",
       "      <td>&lt;NA&gt;</td>\n",
       "    </tr>\n",
       "    <tr>\n",
       "      <th>56</th>\n",
       "      <td>CUST00056</td>\n",
       "      <td>NaN</td>\n",
       "      <td>CUST00056</td>\n",
       "      <td>&lt;NA&gt;</td>\n",
       "    </tr>\n",
       "    <tr>\n",
       "      <th>76</th>\n",
       "      <td>CUST00076</td>\n",
       "      <td>NaN</td>\n",
       "      <td>CUST00076</td>\n",
       "      <td>&lt;NA&gt;</td>\n",
       "    </tr>\n",
       "    <tr>\n",
       "      <th>88</th>\n",
       "      <td>CUST00088</td>\n",
       "      <td>unknown</td>\n",
       "      <td>CUST00088</td>\n",
       "      <td>&lt;NA&gt;</td>\n",
       "    </tr>\n",
       "    <tr>\n",
       "      <th>108</th>\n",
       "      <td>CUST00108</td>\n",
       "      <td>NaN</td>\n",
       "      <td>CUST00108</td>\n",
       "      <td>&lt;NA&gt;</td>\n",
       "    </tr>\n",
       "    <tr>\n",
       "      <th>116</th>\n",
       "      <td>CUST00116</td>\n",
       "      <td>thirty</td>\n",
       "      <td>CUST00116</td>\n",
       "      <td>&lt;NA&gt;</td>\n",
       "    </tr>\n",
       "    <tr>\n",
       "      <th>126</th>\n",
       "      <td>CUST00126</td>\n",
       "      <td>NaN</td>\n",
       "      <td>CUST00126</td>\n",
       "      <td>&lt;NA&gt;</td>\n",
       "    </tr>\n",
       "    <tr>\n",
       "      <th>129</th>\n",
       "      <td>CUST00129</td>\n",
       "      <td>unknown</td>\n",
       "      <td>CUST00129</td>\n",
       "      <td>&lt;NA&gt;</td>\n",
       "    </tr>\n",
       "    <tr>\n",
       "      <th>142</th>\n",
       "      <td>CUST00142</td>\n",
       "      <td>NaN</td>\n",
       "      <td>CUST00142</td>\n",
       "      <td>&lt;NA&gt;</td>\n",
       "    </tr>\n",
       "    <tr>\n",
       "      <th>227</th>\n",
       "      <td>CUST00227</td>\n",
       "      <td>NaN</td>\n",
       "      <td>CUST00227</td>\n",
       "      <td>&lt;NA&gt;</td>\n",
       "    </tr>\n",
       "    <tr>\n",
       "      <th>232</th>\n",
       "      <td>CUST00232</td>\n",
       "      <td>NaN</td>\n",
       "      <td>CUST00232</td>\n",
       "      <td>&lt;NA&gt;</td>\n",
       "    </tr>\n",
       "    <tr>\n",
       "      <th>241</th>\n",
       "      <td>CUST00241</td>\n",
       "      <td>NaN</td>\n",
       "      <td>CUST00241</td>\n",
       "      <td>&lt;NA&gt;</td>\n",
       "    </tr>\n",
       "    <tr>\n",
       "      <th>245</th>\n",
       "      <td>CUST00245</td>\n",
       "      <td>unknown</td>\n",
       "      <td>CUST00245</td>\n",
       "      <td>&lt;NA&gt;</td>\n",
       "    </tr>\n",
       "    <tr>\n",
       "      <th>289</th>\n",
       "      <td>CUST00289</td>\n",
       "      <td>NaN</td>\n",
       "      <td>CUST00289</td>\n",
       "      <td>&lt;NA&gt;</td>\n",
       "    </tr>\n",
       "  </tbody>\n",
       "</table>\n",
       "</div>"
      ],
      "text/plain": [
       "    customer_id original_age    cust_id  converted_age\n",
       "21    CUST00021          NaN  CUST00021           <NA>\n",
       "23    CUST00023      unknown  CUST00023           <NA>\n",
       "33    CUST00033      unknown  CUST00033           <NA>\n",
       "37    CUST00037          NaN  CUST00037           <NA>\n",
       "40    CUST00040      unknown  CUST00040           <NA>\n",
       "53    CUST00053          NaN  CUST00053           <NA>\n",
       "56    CUST00056          NaN  CUST00056           <NA>\n",
       "76    CUST00076          NaN  CUST00076           <NA>\n",
       "88    CUST00088      unknown  CUST00088           <NA>\n",
       "108   CUST00108          NaN  CUST00108           <NA>\n",
       "116   CUST00116       thirty  CUST00116           <NA>\n",
       "126   CUST00126          NaN  CUST00126           <NA>\n",
       "129   CUST00129      unknown  CUST00129           <NA>\n",
       "142   CUST00142          NaN  CUST00142           <NA>\n",
       "227   CUST00227          NaN  CUST00227           <NA>\n",
       "232   CUST00232          NaN  CUST00232           <NA>\n",
       "241   CUST00241          NaN  CUST00241           <NA>\n",
       "245   CUST00245      unknown  CUST00245           <NA>\n",
       "289   CUST00289          NaN  CUST00289           <NA>"
      ]
     },
     "execution_count": 14,
     "metadata": {},
     "output_type": "execute_result"
    }
   ],
   "source": [
    "# Checking for discrepancies between original and converted age columns\n",
    "# Create a DataFrame with both original and converted age columns\n",
    "comparison = pd.DataFrame({\n",
    "    'customer_id' : customer_df['customer_id'],\n",
    "    'original_age': customer_df['age'],\n",
    "    'cust_id': df1['customer_id'],\n",
    "    'converted_age': df1['age']\n",
    "})\n",
    "\n",
    "# filter only rows where either column is null\n",
    "null_rows = comparison[comparison['original_age'].isnull() | comparison['converted_age'].isnull()]\n",
    "\n",
    "# Display the result\n",
    "null_rows"
   ]
  },
  {
   "cell_type": "code",
   "execution_count": 15,
   "id": "d51d5c6f",
   "metadata": {},
   "outputs": [],
   "source": [
    "# Manually correcting the age value for customer_id 'CUST00116' from 'twenty' to 30\n",
    "df1.loc[df1['customer_id'] == 'CUST00116', 'age'] = 30"
   ]
  },
  {
   "cell_type": "markdown",
   "id": "6bc17789",
   "metadata": {},
   "source": [
    "## Visualisations for understanding the data in age column"
   ]
  },
  {
   "cell_type": "code",
   "execution_count": 16,
   "id": "0d435870",
   "metadata": {},
   "outputs": [
    {
     "data": {
      "image/png": "[encoded data removed]",
      "text/plain": [
       "<Figure size 800x500 with 1 Axes>"
      ]
     },
     "metadata": {},
     "output_type": "display_data"
    }
   ],
   "source": [
    "# Visualizing the age distribution\n",
    "plt.figure(figsize=(8,5))\n",
    "plt.hist(df1['age'].dropna(), bins=20, color='skyblue', edgecolor='black')\n",
    "plt.title('Age Distribution')\n",
    "plt.xlabel('Age')\n",
    "plt.ylabel('Frequency')\n",
    "plt.show()"
   ]
  },
  {
   "cell_type": "markdown",
   "id": "295d9225",
   "metadata": {},
   "source": [
    "## Handling Missing Data and Standardisation"
   ]
  },
  {
   "cell_type": "markdown",
   "id": "a6c86155",
   "metadata": {},
   "source": [
    "### Summary of Missing Data"
   ]
  },
  {
   "cell_type": "code",
   "execution_count": 17,
   "id": "a7213235",
   "metadata": {},
   "outputs": [
    {
     "data": {
      "text/plain": [
       "customer_id          2\n",
       "name                 9\n",
       "email               34\n",
       "signup_date          2\n",
       "source               9\n",
       "region              30\n",
       "plan_selected        8\n",
       "marketing_opt_in     9\n",
       "age                 12\n",
       "gender               8\n",
       "dtype: int64"
      ]
     },
     "execution_count": 17,
     "metadata": {},
     "output_type": "execute_result"
    }
   ],
   "source": [
    "# Missing Data Count before dtype conversions\n",
    "customer_df.isnull().sum()"
   ]
  },
  {
   "cell_type": "code",
   "execution_count": 18,
   "id": "f0c9b379",
   "metadata": {},
   "outputs": [
    {
     "data": {
      "text/plain": [
       "customer_id          2\n",
       "name                 9\n",
       "email               34\n",
       "signup_date          6\n",
       "source               9\n",
       "region              30\n",
       "plan_selected        8\n",
       "marketing_opt_in     9\n",
       "age                 18\n",
       "gender               8\n",
       "dtype: int64"
      ]
     },
     "execution_count": 18,
     "metadata": {},
     "output_type": "execute_result"
    }
   ],
   "source": [
    "# Missing Data Count after dtype conversions\n",
    "df1.isnull().sum()     "
   ]
  },
  {
   "cell_type": "code",
   "execution_count": 19,
   "id": "822a421d",
   "metadata": {},
   "outputs": [
    {
     "data": {
      "text/plain": [
       "customer_id          0.666667\n",
       "name                 3.000000\n",
       "email               11.333333\n",
       "signup_date          2.000000\n",
       "source               3.000000\n",
       "region              10.000000\n",
       "plan_selected        2.666667\n",
       "marketing_opt_in     3.000000\n",
       "age                  6.000000\n",
       "gender               2.666667\n",
       "dtype: float64"
      ]
     },
     "execution_count": 19,
     "metadata": {},
     "output_type": "execute_result"
    }
   ],
   "source": [
    "# Percentage of missing data after dtype conversions\n",
    "(df1.isna().sum() / len(df1)) * 100\n"
   ]
  },
  {
   "cell_type": "markdown",
   "id": "88156bcb",
   "metadata": {},
   "source": [
    "### Checking for Duplicate Values"
   ]
  },
  {
   "cell_type": "code",
   "execution_count": 20,
   "id": "e06357bb",
   "metadata": {},
   "outputs": [
    {
     "data": {
      "text/plain": [
       "False    300\n",
       "dtype: int64"
      ]
     },
     "execution_count": 20,
     "metadata": {},
     "output_type": "execute_result"
    }
   ],
   "source": [
    "df1.duplicated().value_counts()"
   ]
  },
  {
   "cell_type": "markdown",
   "id": "c0065ab6",
   "metadata": {},
   "source": [
    "### Handling Missing Data"
   ]
  },
  {
   "cell_type": "markdown",
   "id": "9966d22e",
   "metadata": {},
   "source": [
    "#### customer_id column"
   ]
  },
  {
   "cell_type": "code",
   "execution_count": 21,
   "id": "83021bab",
   "metadata": {},
   "outputs": [
    {
     "data": {
      "text/plain": [
       "False    298\n",
       "True       2\n",
       "Name: customer_id, dtype: int64"
      ]
     },
     "execution_count": 21,
     "metadata": {},
     "output_type": "execute_result"
    }
   ],
   "source": [
    "mask = df1['customer_id'].isna()\n",
    "mask.value_counts()"
   ]
  },
  {
   "cell_type": "code",
   "execution_count": 22,
   "id": "b839aaa3",
   "metadata": {},
   "outputs": [],
   "source": [
    "df1.loc[mask, 'customer_id'] = [f\"TEMP{i+1}\" for i in range(mask.sum())]"
   ]
  },
  {
   "cell_type": "code",
   "execution_count": 23,
   "id": "db4295be",
   "metadata": {},
   "outputs": [
    {
     "data": {
      "text/plain": [
       "False    300\n",
       "Name: customer_id, dtype: int64"
      ]
     },
     "execution_count": 23,
     "metadata": {},
     "output_type": "execute_result"
    }
   ],
   "source": [
    "mask = df1['customer_id'].isna()\n",
    "mask.value_counts()"
   ]
  },
  {
   "cell_type": "code",
   "execution_count": 24,
   "id": "1a59694c",
   "metadata": {},
   "outputs": [
    {
     "data": {
      "text/html": [
       "<div>\n",
       "<style scoped>\n",
       "    .dataframe tbody tr th:only-of-type {\n",
       "        vertical-align: middle;\n",
       "    }\n",
       "\n",
       "    .dataframe tbody tr th {\n",
       "        vertical-align: top;\n",
       "    }\n",
       "\n",
       "    .dataframe thead th {\n",
       "        text-align: right;\n",
       "    }\n",
       "</style>\n",
       "<table border=\"1\" class=\"dataframe\">\n",
       "  <thead>\n",
       "    <tr style=\"text-align: right;\">\n",
       "      <th></th>\n",
       "      <th>customer_id</th>\n",
       "      <th>name</th>\n",
       "      <th>email</th>\n",
       "      <th>signup_date</th>\n",
       "      <th>source</th>\n",
       "      <th>region</th>\n",
       "      <th>plan_selected</th>\n",
       "      <th>marketing_opt_in</th>\n",
       "      <th>age</th>\n",
       "      <th>gender</th>\n",
       "    </tr>\n",
       "  </thead>\n",
       "  <tbody>\n",
       "    <tr>\n",
       "      <th>161</th>\n",
       "      <td>TEMP1</td>\n",
       "      <td>Robert Carter</td>\n",
       "      <td>robert61@example.com</td>\n",
       "      <td>2024-06-10</td>\n",
       "      <td>LinkedIn</td>\n",
       "      <td>South</td>\n",
       "      <td>Pro</td>\n",
       "      <td>Yes</td>\n",
       "      <td>34</td>\n",
       "      <td>Male</td>\n",
       "    </tr>\n",
       "    <tr>\n",
       "      <th>287</th>\n",
       "      <td>TEMP2</td>\n",
       "      <td>Antonio Hammond</td>\n",
       "      <td>antonio87@inboxmail.net</td>\n",
       "      <td>2024-10-14</td>\n",
       "      <td>Instagram</td>\n",
       "      <td>West</td>\n",
       "      <td>prem</td>\n",
       "      <td>Yes</td>\n",
       "      <td>25</td>\n",
       "      <td>FEMALE</td>\n",
       "    </tr>\n",
       "  </tbody>\n",
       "</table>\n",
       "</div>"
      ],
      "text/plain": [
       "    customer_id             name                    email signup_date  \\\n",
       "161       TEMP1    Robert Carter     robert61@example.com  2024-06-10   \n",
       "287       TEMP2  Antonio Hammond  antonio87@inboxmail.net  2024-10-14   \n",
       "\n",
       "        source region plan_selected marketing_opt_in  age  gender  \n",
       "161   LinkedIn  South           Pro              Yes   34    Male  \n",
       "287  Instagram   West          prem              Yes   25  FEMALE  "
      ]
     },
     "execution_count": 24,
     "metadata": {},
     "output_type": "execute_result"
    }
   ],
   "source": [
    "df1[df1['customer_id'].str.startswith('TEMP')]"
   ]
  },
  {
   "cell_type": "markdown",
   "id": "b720d8d6",
   "metadata": {},
   "source": [
    "#### plan_selected column"
   ]
  },
  {
   "cell_type": "code",
   "execution_count": 25,
   "id": "eb526ddf",
   "metadata": {},
   "outputs": [
    {
     "data": {
      "text/plain": [
       "Premium        57\n",
       "Pro            53\n",
       "basic          46\n",
       "Basic          46\n",
       "PREMIUM        42\n",
       "PRO            41\n",
       "UnknownPlan     6\n",
       "prem            1\n",
       "Name: plan_selected, dtype: int64"
      ]
     },
     "execution_count": 25,
     "metadata": {},
     "output_type": "execute_result"
    }
   ],
   "source": [
    "# Exploring the plan_selected column\n",
    "df1['plan_selected'].value_counts()"
   ]
  },
  {
   "cell_type": "code",
   "execution_count": 26,
   "id": "a668269b",
   "metadata": {},
   "outputs": [],
   "source": [
    "# Standardising the plan_selected column\n",
    "df1['plan_selected'] = df1['plan_selected'].replace({'PRO': 'Pro', 'basic': 'Basic', 'PREMIUM' : 'Premium', 'prem' : 'Premium'})"
   ]
  },
  {
   "cell_type": "code",
   "execution_count": 27,
   "id": "d2b8c4e8",
   "metadata": {},
   "outputs": [
    {
     "data": {
      "text/plain": [
       "Premium        100\n",
       "Pro             94\n",
       "Basic           92\n",
       "UnknownPlan      6\n",
       "Name: plan_selected, dtype: int64"
      ]
     },
     "execution_count": 27,
     "metadata": {},
     "output_type": "execute_result"
    }
   ],
   "source": [
    "df1['plan_selected'].value_counts()"
   ]
  },
  {
   "cell_type": "code",
   "execution_count": 28,
   "id": "68d00bf6",
   "metadata": {},
   "outputs": [
    {
     "data": {
      "text/plain": [
       "8"
      ]
     },
     "execution_count": 28,
     "metadata": {},
     "output_type": "execute_result"
    }
   ],
   "source": [
    "df1['plan_selected'].isnull().sum()"
   ]
  },
  {
   "cell_type": "markdown",
   "id": "488ef75e",
   "metadata": {},
   "source": [
    "#### gender column"
   ]
  },
  {
   "cell_type": "code",
   "execution_count": 29,
   "id": "526b791f",
   "metadata": {},
   "outputs": [
    {
     "data": {
      "text/plain": [
       "Other         59\n",
       "FEMALE        52\n",
       "male          48\n",
       "Male          44\n",
       "Non-Binary    42\n",
       "Female        41\n",
       "123            6\n",
       "Name: gender, dtype: int64"
      ]
     },
     "execution_count": 29,
     "metadata": {},
     "output_type": "execute_result"
    }
   ],
   "source": [
    "# Exploring the gender column\n",
    "df1['gender'].value_counts()"
   ]
  },
  {
   "cell_type": "code",
   "execution_count": 30,
   "id": "33be3ce7",
   "metadata": {},
   "outputs": [],
   "source": [
    "# Standardising the gender column\n",
    "df1['gender'] = df1['gender'].replace({'male': 'Male', 'FEMALE': 'Female', 'female': 'Female'})"
   ]
  },
  {
   "cell_type": "code",
   "execution_count": 31,
   "id": "d6fcf735",
   "metadata": {},
   "outputs": [],
   "source": [
    "# Handling invalid gender entries\n",
    "df1['gender'] = df1['gender'].replace({'123': pd.NA})"
   ]
  },
  {
   "cell_type": "code",
   "execution_count": 32,
   "id": "6688d0dc",
   "metadata": {},
   "outputs": [
    {
     "data": {
      "text/plain": [
       "14"
      ]
     },
     "execution_count": 32,
     "metadata": {},
     "output_type": "execute_result"
    }
   ],
   "source": [
    "# Change in null value count\n",
    "df1['gender'].isnull().sum()"
   ]
  },
  {
   "cell_type": "markdown",
   "id": "53ae2bc9",
   "metadata": {},
   "source": [
    "#### region column"
   ]
  },
  {
   "cell_type": "code",
   "execution_count": 33,
   "id": "9cc30860",
   "metadata": {},
   "outputs": [
    {
     "data": {
      "text/plain": [
       "North      65\n",
       "East       61\n",
       "South      59\n",
       "West       46\n",
       "Central    39\n",
       "Name: region, dtype: int64"
      ]
     },
     "execution_count": 33,
     "metadata": {},
     "output_type": "execute_result"
    }
   ],
   "source": [
    "# Exploring the region column\n",
    "df1['region'].value_counts()"
   ]
  },
  {
   "cell_type": "code",
   "execution_count": 34,
   "id": "1b3242ad",
   "metadata": {},
   "outputs": [
    {
     "data": {
      "text/plain": [
       "30"
      ]
     },
     "execution_count": 34,
     "metadata": {},
     "output_type": "execute_result"
    }
   ],
   "source": [
    "df1['region'].isnull().sum()"
   ]
  },
  {
   "cell_type": "code",
   "execution_count": 35,
   "id": "66266f41",
   "metadata": {},
   "outputs": [],
   "source": [
    "# df1['region'].fillna('Unknown', inplace=True)"
   ]
  },
  {
   "cell_type": "markdown",
   "id": "39bf9981",
   "metadata": {},
   "source": [
    "#### Source column"
   ]
  },
  {
   "cell_type": "code",
   "execution_count": 36,
   "id": "6118fc28",
   "metadata": {},
   "outputs": [
    {
     "data": {
      "text/plain": [
       "YouTube      58\n",
       "Google       50\n",
       "Instagram    49\n",
       "Referral     49\n",
       "Facebook     40\n",
       "LinkedIn     39\n",
       "??            6\n",
       "Name: source, dtype: int64"
      ]
     },
     "execution_count": 36,
     "metadata": {},
     "output_type": "execute_result"
    }
   ],
   "source": [
    "# Exploring the Source column\n",
    "df1['source'].value_counts()"
   ]
  },
  {
   "cell_type": "code",
   "execution_count": 37,
   "id": "d93df648",
   "metadata": {},
   "outputs": [],
   "source": [
    "# Handling invalid source entries\n",
    "df1['source'] = df1['source'].replace({'??': pd.NA})"
   ]
  },
  {
   "cell_type": "code",
   "execution_count": 38,
   "id": "0add28f1",
   "metadata": {},
   "outputs": [
    {
     "data": {
      "text/plain": [
       "15"
      ]
     },
     "execution_count": 38,
     "metadata": {},
     "output_type": "execute_result"
    }
   ],
   "source": [
    "# Change in null value count\n",
    "df1['source'].isnull().sum()"
   ]
  },
  {
   "cell_type": "markdown",
   "id": "25d8680f",
   "metadata": {},
   "source": [
    "#### marketing_opt_in column"
   ]
  },
  {
   "cell_type": "code",
   "execution_count": 39,
   "id": "76aff382",
   "metadata": {},
   "outputs": [
    {
     "data": {
      "text/plain": [
       "No      156\n",
       "Yes     133\n",
       "Nil       1\n",
       "None      1\n",
       "Name: marketing_opt_in, dtype: int64"
      ]
     },
     "execution_count": 39,
     "metadata": {},
     "output_type": "execute_result"
    }
   ],
   "source": [
    "# Exploring the marketing_opt_in column\n",
    "df1['marketing_opt_in'].value_counts()"
   ]
  },
  {
   "cell_type": "code",
   "execution_count": 40,
   "id": "213a6bae",
   "metadata": {},
   "outputs": [],
   "source": [
    "# Standardising the marketing_opt_in column - None is considered as No\n",
    "df1['marketing_opt_in'] = df1['marketing_opt_in'].replace({'None': 'No', 'Nil': pd.NA})"
   ]
  },
  {
   "cell_type": "code",
   "execution_count": 41,
   "id": "7a952504",
   "metadata": {},
   "outputs": [
    {
     "data": {
      "text/plain": [
       "10"
      ]
     },
     "execution_count": 41,
     "metadata": {},
     "output_type": "execute_result"
    }
   ],
   "source": [
    "# Change in null value count\n",
    "df1['marketing_opt_in'].isnull().sum() "
   ]
  },
  {
   "cell_type": "markdown",
   "id": "4411ecb9",
   "metadata": {},
   "source": [
    "#### age column"
   ]
  },
  {
   "cell_type": "code",
   "execution_count": 42,
   "id": "ddd56a32",
   "metadata": {},
   "outputs": [
    {
     "data": {
      "text/plain": [
       "count    282.000000\n",
       "mean      36.113475\n",
       "std       14.963820\n",
       "min       21.000000\n",
       "25%       25.000000\n",
       "50%       34.000000\n",
       "75%       40.000000\n",
       "max      206.000000\n",
       "Name: age, dtype: float64"
      ]
     },
     "execution_count": 42,
     "metadata": {},
     "output_type": "execute_result"
    }
   ],
   "source": [
    "# Understanding the spread of the age column - numeric column\n",
    "df1['age'].describe()"
   ]
  },
  {
   "cell_type": "code",
   "execution_count": 43,
   "id": "d1d7e130",
   "metadata": {},
   "outputs": [
    {
     "data": {
      "text/plain": [
       "1"
      ]
     },
     "execution_count": 43,
     "metadata": {},
     "output_type": "execute_result"
    }
   ],
   "source": [
    "# IQR method to identify outliers\n",
    "desc = df1['age'].describe()\n",
    "Q1 = desc['25%']\n",
    "Q3 = desc['75%']\n",
    "IQR = Q3 - Q1\n",
    "\n",
    "df1.loc[(df1['age'] < Q1 - 1.5*IQR) | (df1['age'] > Q3 + 1.5*IQR), 'age'].count()\n"
   ]
  },
  {
   "cell_type": "code",
   "execution_count": 44,
   "id": "b884105c",
   "metadata": {},
   "outputs": [],
   "source": [
    "# Handling outliers by setting them to NaN\n",
    "df1.loc[(df1['age'] < Q1 - 1.5*IQR) | (df1['age'] > Q3 + 1.5*IQR), 'age'] = pd.NA"
   ]
  },
  {
   "cell_type": "code",
   "execution_count": 45,
   "id": "6cda564f",
   "metadata": {},
   "outputs": [],
   "source": [
    "# Could fill the NaN values with median age - decided to keep as NaN for analysis\n",
    "# df1['age'].fillna(df1['age'].median(), inplace=True)"
   ]
  },
  {
   "cell_type": "code",
   "execution_count": 46,
   "id": "e53b468d",
   "metadata": {},
   "outputs": [
    {
     "data": {
      "image/png": "[encoded data removed]",
      "text/plain": [
       "<Figure size 800x500 with 1 Axes>"
      ]
     },
     "metadata": {},
     "output_type": "display_data"
    }
   ],
   "source": [
    "# Visualizing the age distribution\n",
    "plt.figure(figsize=(8,5))\n",
    "plt.hist(df1['age'].dropna(), bins=10, color='skyblue', edgecolor='black')\n",
    "plt.title('Age Distribution')\n",
    "plt.xlabel('Age')\n",
    "plt.ylabel('Frequency')\n",
    "plt.show()"
   ]
  },
  {
   "cell_type": "markdown",
   "id": "9e0c235d",
   "metadata": {},
   "source": [
    "## Summary Outputs"
   ]
  },
  {
   "cell_type": "markdown",
   "id": "005e135b",
   "metadata": {},
   "source": [
    "### weekly sign ups"
   ]
  },
  {
   "cell_type": "code",
   "execution_count": 47,
   "id": "dd763f74",
   "metadata": {},
   "outputs": [
    {
     "data": {
      "text/html": [
       "<div>\n",
       "<style scoped>\n",
       "    .dataframe tbody tr th:only-of-type {\n",
       "        vertical-align: middle;\n",
       "    }\n",
       "\n",
       "    .dataframe tbody tr th {\n",
       "        vertical-align: top;\n",
       "    }\n",
       "\n",
       "    .dataframe thead th {\n",
       "        text-align: right;\n",
       "    }\n",
       "</style>\n",
       "<table border=\"1\" class=\"dataframe\">\n",
       "  <thead>\n",
       "    <tr style=\"text-align: right;\">\n",
       "      <th></th>\n",
       "      <th>signup_date</th>\n",
       "      <th>signups</th>\n",
       "      <th>week_number</th>\n",
       "    </tr>\n",
       "  </thead>\n",
       "  <tbody>\n",
       "    <tr>\n",
       "      <th>0</th>\n",
       "      <td>2024-01-07</td>\n",
       "      <td>6</td>\n",
       "      <td>1</td>\n",
       "    </tr>\n",
       "    <tr>\n",
       "      <th>1</th>\n",
       "      <td>2024-01-14</td>\n",
       "      <td>7</td>\n",
       "      <td>2</td>\n",
       "    </tr>\n",
       "    <tr>\n",
       "      <th>2</th>\n",
       "      <td>2024-01-21</td>\n",
       "      <td>7</td>\n",
       "      <td>3</td>\n",
       "    </tr>\n",
       "    <tr>\n",
       "      <th>3</th>\n",
       "      <td>2024-01-28</td>\n",
       "      <td>7</td>\n",
       "      <td>4</td>\n",
       "    </tr>\n",
       "    <tr>\n",
       "      <th>4</th>\n",
       "      <td>2024-02-04</td>\n",
       "      <td>8</td>\n",
       "      <td>5</td>\n",
       "    </tr>\n",
       "    <tr>\n",
       "      <th>5</th>\n",
       "      <td>2024-02-11</td>\n",
       "      <td>7</td>\n",
       "      <td>6</td>\n",
       "    </tr>\n",
       "    <tr>\n",
       "      <th>6</th>\n",
       "      <td>2024-02-18</td>\n",
       "      <td>7</td>\n",
       "      <td>7</td>\n",
       "    </tr>\n",
       "    <tr>\n",
       "      <th>7</th>\n",
       "      <td>2024-02-25</td>\n",
       "      <td>7</td>\n",
       "      <td>8</td>\n",
       "    </tr>\n",
       "    <tr>\n",
       "      <th>8</th>\n",
       "      <td>2024-03-03</td>\n",
       "      <td>7</td>\n",
       "      <td>9</td>\n",
       "    </tr>\n",
       "    <tr>\n",
       "      <th>9</th>\n",
       "      <td>2024-03-10</td>\n",
       "      <td>7</td>\n",
       "      <td>10</td>\n",
       "    </tr>\n",
       "    <tr>\n",
       "      <th>10</th>\n",
       "      <td>2024-03-17</td>\n",
       "      <td>7</td>\n",
       "      <td>11</td>\n",
       "    </tr>\n",
       "    <tr>\n",
       "      <th>11</th>\n",
       "      <td>2024-03-24</td>\n",
       "      <td>6</td>\n",
       "      <td>12</td>\n",
       "    </tr>\n",
       "    <tr>\n",
       "      <th>12</th>\n",
       "      <td>2024-03-31</td>\n",
       "      <td>6</td>\n",
       "      <td>13</td>\n",
       "    </tr>\n",
       "    <tr>\n",
       "      <th>13</th>\n",
       "      <td>2024-04-07</td>\n",
       "      <td>7</td>\n",
       "      <td>14</td>\n",
       "    </tr>\n",
       "    <tr>\n",
       "      <th>14</th>\n",
       "      <td>2024-04-14</td>\n",
       "      <td>7</td>\n",
       "      <td>15</td>\n",
       "    </tr>\n",
       "    <tr>\n",
       "      <th>15</th>\n",
       "      <td>2024-04-21</td>\n",
       "      <td>7</td>\n",
       "      <td>16</td>\n",
       "    </tr>\n",
       "    <tr>\n",
       "      <th>16</th>\n",
       "      <td>2024-04-28</td>\n",
       "      <td>7</td>\n",
       "      <td>17</td>\n",
       "    </tr>\n",
       "    <tr>\n",
       "      <th>17</th>\n",
       "      <td>2024-05-05</td>\n",
       "      <td>6</td>\n",
       "      <td>18</td>\n",
       "    </tr>\n",
       "    <tr>\n",
       "      <th>18</th>\n",
       "      <td>2024-05-12</td>\n",
       "      <td>7</td>\n",
       "      <td>19</td>\n",
       "    </tr>\n",
       "    <tr>\n",
       "      <th>19</th>\n",
       "      <td>2024-05-19</td>\n",
       "      <td>7</td>\n",
       "      <td>20</td>\n",
       "    </tr>\n",
       "    <tr>\n",
       "      <th>20</th>\n",
       "      <td>2024-05-26</td>\n",
       "      <td>7</td>\n",
       "      <td>21</td>\n",
       "    </tr>\n",
       "    <tr>\n",
       "      <th>21</th>\n",
       "      <td>2024-06-02</td>\n",
       "      <td>7</td>\n",
       "      <td>22</td>\n",
       "    </tr>\n",
       "    <tr>\n",
       "      <th>22</th>\n",
       "      <td>2024-06-09</td>\n",
       "      <td>6</td>\n",
       "      <td>23</td>\n",
       "    </tr>\n",
       "    <tr>\n",
       "      <th>23</th>\n",
       "      <td>2024-06-16</td>\n",
       "      <td>7</td>\n",
       "      <td>24</td>\n",
       "    </tr>\n",
       "    <tr>\n",
       "      <th>24</th>\n",
       "      <td>2024-06-23</td>\n",
       "      <td>7</td>\n",
       "      <td>25</td>\n",
       "    </tr>\n",
       "    <tr>\n",
       "      <th>25</th>\n",
       "      <td>2024-06-30</td>\n",
       "      <td>7</td>\n",
       "      <td>26</td>\n",
       "    </tr>\n",
       "    <tr>\n",
       "      <th>26</th>\n",
       "      <td>2024-07-07</td>\n",
       "      <td>7</td>\n",
       "      <td>27</td>\n",
       "    </tr>\n",
       "    <tr>\n",
       "      <th>27</th>\n",
       "      <td>2024-07-14</td>\n",
       "      <td>7</td>\n",
       "      <td>28</td>\n",
       "    </tr>\n",
       "    <tr>\n",
       "      <th>28</th>\n",
       "      <td>2024-07-21</td>\n",
       "      <td>6</td>\n",
       "      <td>29</td>\n",
       "    </tr>\n",
       "    <tr>\n",
       "      <th>29</th>\n",
       "      <td>2024-07-28</td>\n",
       "      <td>7</td>\n",
       "      <td>30</td>\n",
       "    </tr>\n",
       "    <tr>\n",
       "      <th>30</th>\n",
       "      <td>2024-08-04</td>\n",
       "      <td>7</td>\n",
       "      <td>31</td>\n",
       "    </tr>\n",
       "    <tr>\n",
       "      <th>31</th>\n",
       "      <td>2024-08-11</td>\n",
       "      <td>6</td>\n",
       "      <td>32</td>\n",
       "    </tr>\n",
       "    <tr>\n",
       "      <th>32</th>\n",
       "      <td>2024-08-18</td>\n",
       "      <td>7</td>\n",
       "      <td>33</td>\n",
       "    </tr>\n",
       "    <tr>\n",
       "      <th>33</th>\n",
       "      <td>2024-08-25</td>\n",
       "      <td>7</td>\n",
       "      <td>34</td>\n",
       "    </tr>\n",
       "    <tr>\n",
       "      <th>34</th>\n",
       "      <td>2024-09-01</td>\n",
       "      <td>7</td>\n",
       "      <td>35</td>\n",
       "    </tr>\n",
       "    <tr>\n",
       "      <th>35</th>\n",
       "      <td>2024-09-08</td>\n",
       "      <td>7</td>\n",
       "      <td>36</td>\n",
       "    </tr>\n",
       "    <tr>\n",
       "      <th>36</th>\n",
       "      <td>2024-09-15</td>\n",
       "      <td>7</td>\n",
       "      <td>37</td>\n",
       "    </tr>\n",
       "    <tr>\n",
       "      <th>37</th>\n",
       "      <td>2024-09-22</td>\n",
       "      <td>7</td>\n",
       "      <td>38</td>\n",
       "    </tr>\n",
       "    <tr>\n",
       "      <th>38</th>\n",
       "      <td>2024-09-29</td>\n",
       "      <td>7</td>\n",
       "      <td>39</td>\n",
       "    </tr>\n",
       "    <tr>\n",
       "      <th>39</th>\n",
       "      <td>2024-10-06</td>\n",
       "      <td>7</td>\n",
       "      <td>40</td>\n",
       "    </tr>\n",
       "    <tr>\n",
       "      <th>40</th>\n",
       "      <td>2024-10-13</td>\n",
       "      <td>7</td>\n",
       "      <td>41</td>\n",
       "    </tr>\n",
       "    <tr>\n",
       "      <th>41</th>\n",
       "      <td>2024-10-20</td>\n",
       "      <td>7</td>\n",
       "      <td>42</td>\n",
       "    </tr>\n",
       "    <tr>\n",
       "      <th>42</th>\n",
       "      <td>2024-10-27</td>\n",
       "      <td>6</td>\n",
       "      <td>43</td>\n",
       "    </tr>\n",
       "  </tbody>\n",
       "</table>\n",
       "</div>"
      ],
      "text/plain": [
       "   signup_date  signups  week_number\n",
       "0   2024-01-07        6            1\n",
       "1   2024-01-14        7            2\n",
       "2   2024-01-21        7            3\n",
       "3   2024-01-28        7            4\n",
       "4   2024-02-04        8            5\n",
       "5   2024-02-11        7            6\n",
       "6   2024-02-18        7            7\n",
       "7   2024-02-25        7            8\n",
       "8   2024-03-03        7            9\n",
       "9   2024-03-10        7           10\n",
       "10  2024-03-17        7           11\n",
       "11  2024-03-24        6           12\n",
       "12  2024-03-31        6           13\n",
       "13  2024-04-07        7           14\n",
       "14  2024-04-14        7           15\n",
       "15  2024-04-21        7           16\n",
       "16  2024-04-28        7           17\n",
       "17  2024-05-05        6           18\n",
       "18  2024-05-12        7           19\n",
       "19  2024-05-19        7           20\n",
       "20  2024-05-26        7           21\n",
       "21  2024-06-02        7           22\n",
       "22  2024-06-09        6           23\n",
       "23  2024-06-16        7           24\n",
       "24  2024-06-23        7           25\n",
       "25  2024-06-30        7           26\n",
       "26  2024-07-07        7           27\n",
       "27  2024-07-14        7           28\n",
       "28  2024-07-21        6           29\n",
       "29  2024-07-28        7           30\n",
       "30  2024-08-04        7           31\n",
       "31  2024-08-11        6           32\n",
       "32  2024-08-18        7           33\n",
       "33  2024-08-25        7           34\n",
       "34  2024-09-01        7           35\n",
       "35  2024-09-08        7           36\n",
       "36  2024-09-15        7           37\n",
       "37  2024-09-22        7           38\n",
       "38  2024-09-29        7           39\n",
       "39  2024-10-06        7           40\n",
       "40  2024-10-13        7           41\n",
       "41  2024-10-20        7           42\n",
       "42  2024-10-27        6           43"
      ]
     },
     "execution_count": 47,
     "metadata": {},
     "output_type": "execute_result"
    }
   ],
   "source": [
    "weekly_signups = df1.groupby(pd.Grouper(key='signup_date', freq='W', dropna=True))['signup_date'].count().reset_index(name='signups')\n",
    "weekly_signups['week_number'] = weekly_signups['signup_date'].dt.isocalendar().week\n",
    "weekly_signups"
   ]
  },
  {
   "cell_type": "code",
   "execution_count": 48,
   "id": "382390c4",
   "metadata": {},
   "outputs": [
    {
     "data": {
      "image/png": "[encoded data removed]",
      "text/plain": [
       "<Figure size 1000x500 with 1 Axes>"
      ]
     },
     "metadata": {},
     "output_type": "display_data"
    }
   ],
   "source": [
    "sns.set(style=\"whitegrid\")\n",
    "plt.figure(figsize=(10,5))\n",
    "sns.barplot(data=weekly_signups, x='week_number', y='signups', color = 'yellow')\n",
    "plt.title('Weekly Sign-ups by Week Number')\n",
    "plt.xlabel('Week Number')\n",
    "plt.ylabel('Number of Sign-ups')\n",
    "plt.xticks(rotation=0)\n",
    "plt.tight_layout()\n",
    "plt.show()"
   ]
  },
  {
   "cell_type": "markdown",
   "id": "4df88848",
   "metadata": {},
   "source": [
    "### sign ups by source"
   ]
  },
  {
   "cell_type": "code",
   "execution_count": 49,
   "id": "5c4abc5d",
   "metadata": {},
   "outputs": [
    {
     "data": {
      "text/html": [
       "<div>\n",
       "<style scoped>\n",
       "    .dataframe tbody tr th:only-of-type {\n",
       "        vertical-align: middle;\n",
       "    }\n",
       "\n",
       "    .dataframe tbody tr th {\n",
       "        vertical-align: top;\n",
       "    }\n",
       "\n",
       "    .dataframe thead th {\n",
       "        text-align: right;\n",
       "    }\n",
       "</style>\n",
       "<table border=\"1\" class=\"dataframe\">\n",
       "  <thead>\n",
       "    <tr style=\"text-align: right;\">\n",
       "      <th></th>\n",
       "      <th>source</th>\n",
       "      <th>count</th>\n",
       "    </tr>\n",
       "  </thead>\n",
       "  <tbody>\n",
       "    <tr>\n",
       "      <th>0</th>\n",
       "      <td>Facebook</td>\n",
       "      <td>40</td>\n",
       "    </tr>\n",
       "    <tr>\n",
       "      <th>1</th>\n",
       "      <td>Google</td>\n",
       "      <td>50</td>\n",
       "    </tr>\n",
       "    <tr>\n",
       "      <th>2</th>\n",
       "      <td>Instagram</td>\n",
       "      <td>49</td>\n",
       "    </tr>\n",
       "    <tr>\n",
       "      <th>3</th>\n",
       "      <td>LinkedIn</td>\n",
       "      <td>39</td>\n",
       "    </tr>\n",
       "    <tr>\n",
       "      <th>4</th>\n",
       "      <td>Referral</td>\n",
       "      <td>49</td>\n",
       "    </tr>\n",
       "    <tr>\n",
       "      <th>5</th>\n",
       "      <td>YouTube</td>\n",
       "      <td>58</td>\n",
       "    </tr>\n",
       "  </tbody>\n",
       "</table>\n",
       "</div>"
      ],
      "text/plain": [
       "      source  count\n",
       "0   Facebook     40\n",
       "1     Google     50\n",
       "2  Instagram     49\n",
       "3   LinkedIn     39\n",
       "4   Referral     49\n",
       "5    YouTube     58"
      ]
     },
     "execution_count": 49,
     "metadata": {},
     "output_type": "execute_result"
    }
   ],
   "source": [
    "source_counts = df1.groupby('source')['customer_id'].count().reset_index(name='count')\n",
    "source_counts"
   ]
  },
  {
   "cell_type": "code",
   "execution_count": 50,
   "id": "2663525b",
   "metadata": {},
   "outputs": [
    {
     "data": {
      "image/png": "[encoded data removed]",
      "text/plain": [
       "<Figure size 1000x500 with 1 Axes>"
      ]
     },
     "metadata": {},
     "output_type": "display_data"
    }
   ],
   "source": [
    "sns.set(style=\"whitegrid\")\n",
    "plt.figure(figsize=(10,5))\n",
    "sns.barplot(data=source_counts, x='source', y='count', color = 'orange')\n",
    "plt.title('Sign-ups by Source')\n",
    "plt.xlabel('Source')\n",
    "plt.ylabel('Number of Sign-ups')\n",
    "plt.xticks(rotation=0)\n",
    "plt.tight_layout()\n",
    "plt.show()"
   ]
  },
  {
   "cell_type": "markdown",
   "id": "a38eea93",
   "metadata": {},
   "source": [
    "### sign ups by region"
   ]
  },
  {
   "cell_type": "code",
   "execution_count": 51,
   "id": "7dc8fd59",
   "metadata": {},
   "outputs": [
    {
     "data": {
      "text/html": [
       "<div>\n",
       "<style scoped>\n",
       "    .dataframe tbody tr th:only-of-type {\n",
       "        vertical-align: middle;\n",
       "    }\n",
       "\n",
       "    .dataframe tbody tr th {\n",
       "        vertical-align: top;\n",
       "    }\n",
       "\n",
       "    .dataframe thead th {\n",
       "        text-align: right;\n",
       "    }\n",
       "</style>\n",
       "<table border=\"1\" class=\"dataframe\">\n",
       "  <thead>\n",
       "    <tr style=\"text-align: right;\">\n",
       "      <th></th>\n",
       "      <th>region</th>\n",
       "      <th>count</th>\n",
       "    </tr>\n",
       "  </thead>\n",
       "  <tbody>\n",
       "    <tr>\n",
       "      <th>0</th>\n",
       "      <td>Central</td>\n",
       "      <td>39</td>\n",
       "    </tr>\n",
       "    <tr>\n",
       "      <th>1</th>\n",
       "      <td>East</td>\n",
       "      <td>61</td>\n",
       "    </tr>\n",
       "    <tr>\n",
       "      <th>2</th>\n",
       "      <td>North</td>\n",
       "      <td>65</td>\n",
       "    </tr>\n",
       "    <tr>\n",
       "      <th>3</th>\n",
       "      <td>South</td>\n",
       "      <td>59</td>\n",
       "    </tr>\n",
       "    <tr>\n",
       "      <th>4</th>\n",
       "      <td>West</td>\n",
       "      <td>46</td>\n",
       "    </tr>\n",
       "  </tbody>\n",
       "</table>\n",
       "</div>"
      ],
      "text/plain": [
       "    region  count\n",
       "0  Central     39\n",
       "1     East     61\n",
       "2    North     65\n",
       "3    South     59\n",
       "4     West     46"
      ]
     },
     "execution_count": 51,
     "metadata": {},
     "output_type": "execute_result"
    }
   ],
   "source": [
    "region_count = df1.groupby('region')['customer_id'].count().reset_index(name='count')\n",
    "region_count"
   ]
  },
  {
   "cell_type": "code",
   "execution_count": 52,
   "id": "c3b96f05",
   "metadata": {},
   "outputs": [
    {
     "data": {
      "image/png": "[encoded data removed]",
      "text/plain": [
       "<Figure size 1000x500 with 1 Axes>"
      ]
     },
     "metadata": {},
     "output_type": "display_data"
    }
   ],
   "source": [
    "sns.set(style=\"whitegrid\")\n",
    "plt.figure(figsize=(10,5))\n",
    "sns.barplot(data=region_count, x='region', y='count', color = 'pink')\n",
    "plt.title('Region-wise Sign-ups')\n",
    "plt.xlabel('Region')\n",
    "plt.ylabel('Number of Sign-ups')\n",
    "plt.xticks(rotation=0)\n",
    "plt.tight_layout()\n",
    "plt.show()"
   ]
  },
  {
   "cell_type": "markdown",
   "id": "d8e7c0ae",
   "metadata": {},
   "source": [
    "### Gender based distribution for marketing opt-in"
   ]
  },
  {
   "cell_type": "code",
   "execution_count": 53,
   "id": "4f206d57",
   "metadata": {},
   "outputs": [
    {
     "data": {
      "text/html": [
       "<div>\n",
       "<style scoped>\n",
       "    .dataframe tbody tr th:only-of-type {\n",
       "        vertical-align: middle;\n",
       "    }\n",
       "\n",
       "    .dataframe tbody tr th {\n",
       "        vertical-align: top;\n",
       "    }\n",
       "\n",
       "    .dataframe thead th {\n",
       "        text-align: right;\n",
       "    }\n",
       "</style>\n",
       "<table border=\"1\" class=\"dataframe\">\n",
       "  <thead>\n",
       "    <tr style=\"text-align: right;\">\n",
       "      <th></th>\n",
       "      <th>marketing_opt_in</th>\n",
       "      <th>gender</th>\n",
       "      <th>count</th>\n",
       "    </tr>\n",
       "  </thead>\n",
       "  <tbody>\n",
       "    <tr>\n",
       "      <th>0</th>\n",
       "      <td>No</td>\n",
       "      <td>Female</td>\n",
       "      <td>47</td>\n",
       "    </tr>\n",
       "    <tr>\n",
       "      <th>1</th>\n",
       "      <td>No</td>\n",
       "      <td>Male</td>\n",
       "      <td>51</td>\n",
       "    </tr>\n",
       "    <tr>\n",
       "      <th>2</th>\n",
       "      <td>No</td>\n",
       "      <td>Non-Binary</td>\n",
       "      <td>20</td>\n",
       "    </tr>\n",
       "    <tr>\n",
       "      <th>3</th>\n",
       "      <td>No</td>\n",
       "      <td>Other</td>\n",
       "      <td>32</td>\n",
       "    </tr>\n",
       "    <tr>\n",
       "      <th>4</th>\n",
       "      <td>Yes</td>\n",
       "      <td>Female</td>\n",
       "      <td>45</td>\n",
       "    </tr>\n",
       "    <tr>\n",
       "      <th>5</th>\n",
       "      <td>Yes</td>\n",
       "      <td>Male</td>\n",
       "      <td>38</td>\n",
       "    </tr>\n",
       "    <tr>\n",
       "      <th>6</th>\n",
       "      <td>Yes</td>\n",
       "      <td>Non-Binary</td>\n",
       "      <td>19</td>\n",
       "    </tr>\n",
       "    <tr>\n",
       "      <th>7</th>\n",
       "      <td>Yes</td>\n",
       "      <td>Other</td>\n",
       "      <td>24</td>\n",
       "    </tr>\n",
       "  </tbody>\n",
       "</table>\n",
       "</div>"
      ],
      "text/plain": [
       "  marketing_opt_in      gender  count\n",
       "0               No      Female     47\n",
       "1               No        Male     51\n",
       "2               No  Non-Binary     20\n",
       "3               No       Other     32\n",
       "4              Yes      Female     45\n",
       "5              Yes        Male     38\n",
       "6              Yes  Non-Binary     19\n",
       "7              Yes       Other     24"
      ]
     },
     "execution_count": 53,
     "metadata": {},
     "output_type": "execute_result"
    }
   ],
   "source": [
    "marketing_gender_distribuiton = df1.groupby(['marketing_opt_in', 'gender'])['customer_id'].count().reset_index(name='count')\n",
    "marketing_gender_distribuiton"
   ]
  },
  {
   "cell_type": "markdown",
   "id": "4f7c1147",
   "metadata": {},
   "source": [
    "### Comaparison between Age and Marketing opt-in"
   ]
  },
  {
   "cell_type": "code",
   "execution_count": 54,
   "id": "f8d8dda9",
   "metadata": {},
   "outputs": [
    {
     "data": {
      "image/png": "[encoded data removed]",
      "text/plain": [
       "<Figure size 800x500 with 1 Axes>"
      ]
     },
     "metadata": {},
     "output_type": "display_data"
    }
   ],
   "source": [
    "# Visualizing age distribution by plan using violin plot\n",
    "plt.figure(figsize=(8,5))\n",
    "sns.violinplot(x='marketing_opt_in', y='age', data=df1)\n",
    "plt.title('Marketing Opt-In vs Age Distribution')\n",
    "plt.xlabel('Marketing Opt-In')\n",
    "plt.ylabel('Age')\n",
    "plt.show()"
   ]
  },
  {
   "cell_type": "markdown",
   "id": "d12c57b4",
   "metadata": {},
   "source": [
    "### age summary"
   ]
  },
  {
   "cell_type": "code",
   "execution_count": 55,
   "id": "5a6eb5e3",
   "metadata": {},
   "outputs": [
    {
     "data": {
      "text/html": [
       "<div>\n",
       "<style scoped>\n",
       "    .dataframe tbody tr th:only-of-type {\n",
       "        vertical-align: middle;\n",
       "    }\n",
       "\n",
       "    .dataframe tbody tr th {\n",
       "        vertical-align: top;\n",
       "    }\n",
       "\n",
       "    .dataframe thead th {\n",
       "        text-align: right;\n",
       "    }\n",
       "</style>\n",
       "<table border=\"1\" class=\"dataframe\">\n",
       "  <thead>\n",
       "    <tr style=\"text-align: right;\">\n",
       "      <th></th>\n",
       "      <th>max_age</th>\n",
       "      <th>min_age</th>\n",
       "      <th>mean_age</th>\n",
       "      <th>median_age</th>\n",
       "    </tr>\n",
       "  </thead>\n",
       "  <tbody>\n",
       "    <tr>\n",
       "      <th>0</th>\n",
       "      <td>60</td>\n",
       "      <td>21</td>\n",
       "      <td>35.508897</td>\n",
       "      <td>34.0</td>\n",
       "    </tr>\n",
       "  </tbody>\n",
       "</table>\n",
       "</div>"
      ],
      "text/plain": [
       "   max_age  min_age   mean_age  median_age\n",
       "0       60       21  35.508897        34.0"
      ]
     },
     "execution_count": 55,
     "metadata": {},
     "output_type": "execute_result"
    }
   ],
   "source": [
    "age_summary = pd.DataFrame({'max_age': [df1['age'].max()],\n",
    "                            'min_age': [df1['age'].min()],\n",
    "                            'mean_age': [df1['age'].mean()],\n",
    "                            'median_age': [df1['age'].median()]})\n",
    "age_summary\n"
   ]
  },
  {
   "cell_type": "code",
   "execution_count": 56,
   "id": "eb1f02e7",
   "metadata": {},
   "outputs": [
    {
     "data": {
      "image/png": "[encoded data removed]",
      "text/plain": [
       "<Figure size 800x500 with 1 Axes>"
      ]
     },
     "metadata": {},
     "output_type": "display_data"
    }
   ],
   "source": [
    "# Visualizing the age distribution\n",
    "plt.figure(figsize=(8,5))\n",
    "plt.hist(df1['age'].dropna(), bins=20, color='skyblue', edgecolor='black')\n",
    "plt.title('Age Distribution')\n",
    "plt.xlabel('Age')\n",
    "plt.ylabel('Frequency')\n",
    "plt.show()"
   ]
  },
  {
   "cell_type": "markdown",
   "id": "31496ae3",
   "metadata": {},
   "source": [
    "# Business Questions"
   ]
  },
  {
   "cell_type": "markdown",
   "id": "ea7b1527",
   "metadata": {},
   "source": [
    "## Question 1 : Which acquisition source brought in the most users last month?"
   ]
  },
  {
   "cell_type": "code",
   "execution_count": 57,
   "id": "32b71608",
   "metadata": {},
   "outputs": [
    {
     "data": {
      "text/html": [
       "<div>\n",
       "<style scoped>\n",
       "    .dataframe tbody tr th:only-of-type {\n",
       "        vertical-align: middle;\n",
       "    }\n",
       "\n",
       "    .dataframe tbody tr th {\n",
       "        vertical-align: top;\n",
       "    }\n",
       "\n",
       "    .dataframe thead th {\n",
       "        text-align: right;\n",
       "    }\n",
       "</style>\n",
       "<table border=\"1\" class=\"dataframe\">\n",
       "  <thead>\n",
       "    <tr style=\"text-align: right;\">\n",
       "      <th></th>\n",
       "      <th>source</th>\n",
       "      <th>count</th>\n",
       "    </tr>\n",
       "  </thead>\n",
       "  <tbody>\n",
       "    <tr>\n",
       "      <th>1</th>\n",
       "      <td>Google</td>\n",
       "      <td>7</td>\n",
       "    </tr>\n",
       "    <tr>\n",
       "      <th>5</th>\n",
       "      <td>YouTube</td>\n",
       "      <td>5</td>\n",
       "    </tr>\n",
       "    <tr>\n",
       "      <th>0</th>\n",
       "      <td>Facebook</td>\n",
       "      <td>4</td>\n",
       "    </tr>\n",
       "    <tr>\n",
       "      <th>2</th>\n",
       "      <td>Instagram</td>\n",
       "      <td>4</td>\n",
       "    </tr>\n",
       "    <tr>\n",
       "      <th>4</th>\n",
       "      <td>Referral</td>\n",
       "      <td>3</td>\n",
       "    </tr>\n",
       "    <tr>\n",
       "      <th>3</th>\n",
       "      <td>LinkedIn</td>\n",
       "      <td>1</td>\n",
       "    </tr>\n",
       "  </tbody>\n",
       "</table>\n",
       "</div>"
      ],
      "text/plain": [
       "      source  count\n",
       "1     Google      7\n",
       "5    YouTube      5\n",
       "0   Facebook      4\n",
       "2  Instagram      4\n",
       "4   Referral      3\n",
       "3   LinkedIn      1"
      ]
     },
     "execution_count": 57,
     "metadata": {},
     "output_type": "execute_result"
    }
   ],
   "source": [
    "# extracting last month\n",
    "last_month = df1['signup_date'].max().month\n",
    "\n",
    "# filtering on last month\n",
    "last_month_signups = df1[df1['signup_date'].dt.month == last_month]\n",
    "\n",
    "# aggregating signups by source\n",
    "q1 = last_month_signups.groupby('source')['customer_id'].count().reset_index(name = 'count').sort_values(by = 'count', ascending = False)\n",
    "q1"
   ]
  },
  {
   "cell_type": "code",
   "execution_count": 58,
   "id": "483bb178",
   "metadata": {},
   "outputs": [
    {
     "data": {
      "image/png": "[encoded data removed]",
      "text/plain": [
       "<Figure size 700x700 with 1 Axes>"
      ]
     },
     "metadata": {},
     "output_type": "display_data"
    }
   ],
   "source": [
    "# Pie chart for sign-ups by source for last month\n",
    "plt.figure(figsize=(7,7))\n",
    "plt.pie(q1['count'], \n",
    "        labels=q1['source'], \n",
    "        autopct='%1.1f%%', \n",
    "        startangle=140, \n",
    "        colors=['#66b3ff','#99ff99','#ff9999','#ffcc99','#c2c2f0','#ffb3e6'])\n",
    "plt.title(\"Proportion of User Sign-ups by Source for Last Month\")\n",
    "plt.show()"
   ]
  },
  {
   "cell_type": "markdown",
   "id": "7164ae0c",
   "metadata": {},
   "source": [
    "## Question 2 : Which region shows signs of missing or incomplete data?\n"
   ]
  },
  {
   "cell_type": "code",
   "execution_count": 59,
   "id": "8683e2f4",
   "metadata": {},
   "outputs": [
    {
     "data": {
      "text/html": [
       "<div>\n",
       "<style scoped>\n",
       "    .dataframe tbody tr th:only-of-type {\n",
       "        vertical-align: middle;\n",
       "    }\n",
       "\n",
       "    .dataframe tbody tr th {\n",
       "        vertical-align: top;\n",
       "    }\n",
       "\n",
       "    .dataframe thead th {\n",
       "        text-align: right;\n",
       "    }\n",
       "</style>\n",
       "<table border=\"1\" class=\"dataframe\">\n",
       "  <thead>\n",
       "    <tr style=\"text-align: right;\">\n",
       "      <th></th>\n",
       "      <th>customer_id</th>\n",
       "      <th>name</th>\n",
       "      <th>email</th>\n",
       "      <th>signup_date</th>\n",
       "      <th>source</th>\n",
       "      <th>region</th>\n",
       "      <th>plan_selected</th>\n",
       "      <th>marketing_opt_in</th>\n",
       "      <th>age</th>\n",
       "      <th>gender</th>\n",
       "      <th>total_missing</th>\n",
       "    </tr>\n",
       "    <tr>\n",
       "      <th>region</th>\n",
       "      <th></th>\n",
       "      <th></th>\n",
       "      <th></th>\n",
       "      <th></th>\n",
       "      <th></th>\n",
       "      <th></th>\n",
       "      <th></th>\n",
       "      <th></th>\n",
       "      <th></th>\n",
       "      <th></th>\n",
       "      <th></th>\n",
       "    </tr>\n",
       "  </thead>\n",
       "  <tbody>\n",
       "    <tr>\n",
       "      <th>Central</th>\n",
       "      <td>0</td>\n",
       "      <td>0</td>\n",
       "      <td>5</td>\n",
       "      <td>1</td>\n",
       "      <td>1</td>\n",
       "      <td>0</td>\n",
       "      <td>0</td>\n",
       "      <td>2</td>\n",
       "      <td>3</td>\n",
       "      <td>1</td>\n",
       "      <td>13</td>\n",
       "    </tr>\n",
       "    <tr>\n",
       "      <th>East</th>\n",
       "      <td>0</td>\n",
       "      <td>2</td>\n",
       "      <td>7</td>\n",
       "      <td>0</td>\n",
       "      <td>1</td>\n",
       "      <td>0</td>\n",
       "      <td>2</td>\n",
       "      <td>2</td>\n",
       "      <td>5</td>\n",
       "      <td>5</td>\n",
       "      <td>24</td>\n",
       "    </tr>\n",
       "    <tr>\n",
       "      <th>North</th>\n",
       "      <td>0</td>\n",
       "      <td>3</td>\n",
       "      <td>10</td>\n",
       "      <td>1</td>\n",
       "      <td>4</td>\n",
       "      <td>0</td>\n",
       "      <td>3</td>\n",
       "      <td>3</td>\n",
       "      <td>4</td>\n",
       "      <td>1</td>\n",
       "      <td>29</td>\n",
       "    </tr>\n",
       "    <tr>\n",
       "      <th>South</th>\n",
       "      <td>0</td>\n",
       "      <td>1</td>\n",
       "      <td>4</td>\n",
       "      <td>2</td>\n",
       "      <td>3</td>\n",
       "      <td>0</td>\n",
       "      <td>0</td>\n",
       "      <td>2</td>\n",
       "      <td>2</td>\n",
       "      <td>3</td>\n",
       "      <td>17</td>\n",
       "    </tr>\n",
       "    <tr>\n",
       "      <th>West</th>\n",
       "      <td>0</td>\n",
       "      <td>3</td>\n",
       "      <td>4</td>\n",
       "      <td>1</td>\n",
       "      <td>4</td>\n",
       "      <td>0</td>\n",
       "      <td>2</td>\n",
       "      <td>1</td>\n",
       "      <td>3</td>\n",
       "      <td>4</td>\n",
       "      <td>22</td>\n",
       "    </tr>\n",
       "    <tr>\n",
       "      <th>NaN</th>\n",
       "      <td>0</td>\n",
       "      <td>0</td>\n",
       "      <td>4</td>\n",
       "      <td>1</td>\n",
       "      <td>2</td>\n",
       "      <td>30</td>\n",
       "      <td>1</td>\n",
       "      <td>0</td>\n",
       "      <td>2</td>\n",
       "      <td>0</td>\n",
       "      <td>40</td>\n",
       "    </tr>\n",
       "  </tbody>\n",
       "</table>\n",
       "</div>"
      ],
      "text/plain": [
       "         customer_id  name  email  signup_date  source  region  plan_selected  \\\n",
       "region                                                                          \n",
       "Central            0     0      5            1       1       0              0   \n",
       "East               0     2      7            0       1       0              2   \n",
       "North              0     3     10            1       4       0              3   \n",
       "South              0     1      4            2       3       0              0   \n",
       "West               0     3      4            1       4       0              2   \n",
       "NaN                0     0      4            1       2      30              1   \n",
       "\n",
       "         marketing_opt_in  age  gender  total_missing  \n",
       "region                                                 \n",
       "Central                 2    3       1             13  \n",
       "East                    2    5       5             24  \n",
       "North                   3    4       1             29  \n",
       "South                   2    2       3             17  \n",
       "West                    1    3       4             22  \n",
       "NaN                     0    2       0             40  "
      ]
     },
     "execution_count": 59,
     "metadata": {},
     "output_type": "execute_result"
    }
   ],
   "source": [
    "# Count missing values per region for each column\n",
    "q2 = df1.groupby('region', dropna = False).apply(lambda x: x.isna().sum())\n",
    "q2['total_missing'] = q2.sum(axis=1)\n",
    "q2"
   ]
  },
  {
   "cell_type": "markdown",
   "id": "caa7661f",
   "metadata": {},
   "source": [
    "## Question 3 : Are older users more or less likely to opt in to marketing?\n"
   ]
  },
  {
   "cell_type": "code",
   "execution_count": 60,
   "id": "cd8b9d38",
   "metadata": {},
   "outputs": [
    {
     "name": "stdout",
     "output_type": "stream",
     "text": [
      "marketing_opt_in  No  Yes\n",
      "age_group                \n",
      "21-30             65   53\n",
      "31-40             50   42\n",
      "41-50             10   11\n",
      "51-60             22   18\n"
     ]
    }
   ],
   "source": [
    "# creating age groups\n",
    "bins = range(df1['age'].min(), df1['age'].max()+10, 10)\n",
    "labels = [f\"{i}-{i+9}\" for i in bins[:-1]]\n",
    "df1['age_group'] = pd.cut(df1['age'], bins=bins, labels=labels, right=False)\n",
    "df1['age_group'].value_counts()\n",
    "\n",
    "# Count of marketing opt-in by age group\n",
    "q3 = df1.groupby(['age_group', 'marketing_opt_in'])['customer_id'].count().unstack(fill_value=0)\n",
    "print(q3)"
   ]
  },
  {
   "cell_type": "code",
   "execution_count": 61,
   "id": "02d9d323",
   "metadata": {},
   "outputs": [
    {
     "data": {
      "image/png": "[encoded data removed]",
      "text/plain": [
       "<Figure size 1000x600 with 1 Axes>"
      ]
     },
     "metadata": {},
     "output_type": "display_data"
    }
   ],
   "source": [
    "# Visualisation for marketing opt-in by age group using stacked bar chart\n",
    "x = q3.plot(kind='bar', stacked=True, figsize=(10,6))\n",
    "\n",
    "for p in x.patches:\n",
    "    height = p.get_height()\n",
    "    if height > 0:  \n",
    "        \n",
    "        total = sum([patch.get_height() for patch in x.patches if patch.get_x() == p.get_x()])\n",
    "        percent = height / total * 100\n",
    "        x.annotate(f'{percent:.1f}%', \n",
    "                    (p.get_x() + p.get_width()/2, p.get_y() + height/2),\n",
    "                    ha='center', va='center', color='white', fontsize=9)\n",
    "\n",
    "plt.xlabel(\"Age Group\")\n",
    "plt.ylabel(\"Number of Users\")\n",
    "plt.title(\"Marketing Opt-In by Age Group (%)\")\n",
    "plt.show()"
   ]
  },
  {
   "cell_type": "markdown",
   "id": "a83fc370",
   "metadata": {},
   "source": [
    "## Question 4 : Which plan is most commonly selected, and by which age group?\n"
   ]
  },
  {
   "cell_type": "code",
   "execution_count": 62,
   "id": "ca1f59b8",
   "metadata": {},
   "outputs": [
    {
     "data": {
      "text/plain": [
       "Premium        100\n",
       "Pro             94\n",
       "Basic           92\n",
       "UnknownPlan      6\n",
       "Name: plan_selected, dtype: int64"
      ]
     },
     "execution_count": 62,
     "metadata": {},
     "output_type": "execute_result"
    }
   ],
   "source": [
    "# Surface analysis of plan_selected column\n",
    "df1['plan_selected'].value_counts()"
   ]
  },
  {
   "cell_type": "code",
   "execution_count": 63,
   "id": "4d6dbeeb",
   "metadata": {},
   "outputs": [
    {
     "data": {
      "text/html": [
       "<div>\n",
       "<style scoped>\n",
       "    .dataframe tbody tr th:only-of-type {\n",
       "        vertical-align: middle;\n",
       "    }\n",
       "\n",
       "    .dataframe tbody tr th {\n",
       "        vertical-align: top;\n",
       "    }\n",
       "\n",
       "    .dataframe thead th {\n",
       "        text-align: right;\n",
       "    }\n",
       "</style>\n",
       "<table border=\"1\" class=\"dataframe\">\n",
       "  <thead>\n",
       "    <tr style=\"text-align: right;\">\n",
       "      <th>plan_selected</th>\n",
       "      <th>Basic</th>\n",
       "      <th>Premium</th>\n",
       "      <th>Pro</th>\n",
       "      <th>UnknownPlan</th>\n",
       "    </tr>\n",
       "    <tr>\n",
       "      <th>age_group</th>\n",
       "      <th></th>\n",
       "      <th></th>\n",
       "      <th></th>\n",
       "      <th></th>\n",
       "    </tr>\n",
       "  </thead>\n",
       "  <tbody>\n",
       "    <tr>\n",
       "      <th>21-30</th>\n",
       "      <td>40</td>\n",
       "      <td>38</td>\n",
       "      <td>41</td>\n",
       "      <td>1</td>\n",
       "    </tr>\n",
       "    <tr>\n",
       "      <th>31-40</th>\n",
       "      <td>22</td>\n",
       "      <td>39</td>\n",
       "      <td>28</td>\n",
       "      <td>3</td>\n",
       "    </tr>\n",
       "    <tr>\n",
       "      <th>41-50</th>\n",
       "      <td>5</td>\n",
       "      <td>9</td>\n",
       "      <td>6</td>\n",
       "      <td>1</td>\n",
       "    </tr>\n",
       "    <tr>\n",
       "      <th>51-60</th>\n",
       "      <td>14</td>\n",
       "      <td>10</td>\n",
       "      <td>15</td>\n",
       "      <td>1</td>\n",
       "    </tr>\n",
       "  </tbody>\n",
       "</table>\n",
       "</div>"
      ],
      "text/plain": [
       "plan_selected  Basic  Premium  Pro  UnknownPlan\n",
       "age_group                                      \n",
       "21-30             40       38   41            1\n",
       "31-40             22       39   28            3\n",
       "41-50              5        9    6            1\n",
       "51-60             14       10   15            1"
      ]
     },
     "execution_count": 63,
     "metadata": {},
     "output_type": "execute_result"
    }
   ],
   "source": [
    "# indepth analysis of plan_selected by age group\n",
    "q4 = df1.groupby(['age_group', 'plan_selected'])['customer_id'].count().unstack(fill_value=0)\n",
    "q4"
   ]
  },
  {
   "cell_type": "code",
   "execution_count": 64,
   "id": "ae4f8c26",
   "metadata": {},
   "outputs": [
    {
     "data": {
      "image/png": "[encoded data removed]",
      "text/plain": [
       "<Figure size 1000x600 with 1 Axes>"
      ]
     },
     "metadata": {},
     "output_type": "display_data"
    }
   ],
   "source": [
    "# Visualizing plan selection by age group using horizontal bar chart\n",
    "age_groups = q4.index.tolist()\n",
    "plans = q4.columns.tolist()\n",
    "data = q4.values\n",
    "\n",
    "\n",
    "y = np.arange(len(age_groups))  \n",
    "height = 0.2  \n",
    "offsets = [-height, 0, height, 2*height]  \n",
    "\n",
    "fig, ax = plt.subplots(figsize=(10,6))\n",
    "\n",
    "\n",
    "for i, plan in enumerate(plans):\n",
    "    ax.barh(y + offsets[i], data[:, i], height=height, label=plan)\n",
    "\n",
    "\n",
    "ax.set_yticks(y)\n",
    "ax.set_yticklabels(age_groups)\n",
    "ax.set_ylabel(\"Age Group\")\n",
    "ax.set_xlabel(\"Number of Users\")\n",
    "ax.set_title(\"Plan Selection by Age Group\")\n",
    "ax.legend(title=\"Plan\")\n",
    "plt.show()"
   ]
  },
  {
   "cell_type": "markdown",
   "id": "91434741",
   "metadata": {},
   "source": [
    "## Question 5 : Which plan’s users are most likely to contact support?"
   ]
  },
  {
   "cell_type": "code",
   "execution_count": 65,
   "id": "1b313536",
   "metadata": {},
   "outputs": [],
   "source": [
    "# creating a copy of support_tickets_df\n",
    "df2 = support_tickets_df.copy()"
   ]
  },
  {
   "cell_type": "code",
   "execution_count": 66,
   "id": "115adbdf",
   "metadata": {},
   "outputs": [
    {
     "data": {
      "text/html": [
       "<div>\n",
       "<style scoped>\n",
       "    .dataframe tbody tr th:only-of-type {\n",
       "        vertical-align: middle;\n",
       "    }\n",
       "\n",
       "    .dataframe tbody tr th {\n",
       "        vertical-align: top;\n",
       "    }\n",
       "\n",
       "    .dataframe thead th {\n",
       "        text-align: right;\n",
       "    }\n",
       "</style>\n",
       "<table border=\"1\" class=\"dataframe\">\n",
       "  <thead>\n",
       "    <tr style=\"text-align: right;\">\n",
       "      <th></th>\n",
       "      <th>ticket_id</th>\n",
       "      <th>customer_id</th>\n",
       "      <th>ticket_date</th>\n",
       "      <th>issue_type</th>\n",
       "      <th>resolved</th>\n",
       "    </tr>\n",
       "  </thead>\n",
       "  <tbody>\n",
       "    <tr>\n",
       "      <th>0</th>\n",
       "      <td>TKT0000-1</td>\n",
       "      <td>CUST00203</td>\n",
       "      <td>2024-08-17</td>\n",
       "      <td>Billing</td>\n",
       "      <td>Yes</td>\n",
       "    </tr>\n",
       "    <tr>\n",
       "      <th>1</th>\n",
       "      <td>TKT0000-2</td>\n",
       "      <td>CUST00203</td>\n",
       "      <td>2024-07-22</td>\n",
       "      <td>Technical Error</td>\n",
       "      <td>Yes</td>\n",
       "    </tr>\n",
       "    <tr>\n",
       "      <th>2</th>\n",
       "      <td>TKT0000-3</td>\n",
       "      <td>CUST00203</td>\n",
       "      <td>2024-07-22</td>\n",
       "      <td>Other</td>\n",
       "      <td>Yes</td>\n",
       "    </tr>\n",
       "    <tr>\n",
       "      <th>3</th>\n",
       "      <td>TKT0001-1</td>\n",
       "      <td>CUST00266</td>\n",
       "      <td>2024-09-26</td>\n",
       "      <td>Account Setup</td>\n",
       "      <td>Yes</td>\n",
       "    </tr>\n",
       "    <tr>\n",
       "      <th>4</th>\n",
       "      <td>TKT0001-2</td>\n",
       "      <td>CUST00266</td>\n",
       "      <td>2024-10-09</td>\n",
       "      <td>Technical Error</td>\n",
       "      <td>No</td>\n",
       "    </tr>\n",
       "  </tbody>\n",
       "</table>\n",
       "</div>"
      ],
      "text/plain": [
       "   ticket_id customer_id ticket_date       issue_type resolved\n",
       "0  TKT0000-1   CUST00203  2024-08-17          Billing      Yes\n",
       "1  TKT0000-2   CUST00203  2024-07-22  Technical Error      Yes\n",
       "2  TKT0000-3   CUST00203  2024-07-22            Other      Yes\n",
       "3  TKT0001-1   CUST00266  2024-09-26    Account Setup      Yes\n",
       "4  TKT0001-2   CUST00266  2024-10-09  Technical Error       No"
      ]
     },
     "execution_count": 66,
     "metadata": {},
     "output_type": "execute_result"
    }
   ],
   "source": [
    "df2.head()"
   ]
  },
  {
   "cell_type": "code",
   "execution_count": 67,
   "id": "64c7d81f",
   "metadata": {},
   "outputs": [
    {
     "data": {
      "text/html": [
       "<div>\n",
       "<style scoped>\n",
       "    .dataframe tbody tr th:only-of-type {\n",
       "        vertical-align: middle;\n",
       "    }\n",
       "\n",
       "    .dataframe tbody tr th {\n",
       "        vertical-align: top;\n",
       "    }\n",
       "\n",
       "    .dataframe thead th {\n",
       "        text-align: right;\n",
       "    }\n",
       "</style>\n",
       "<table border=\"1\" class=\"dataframe\">\n",
       "  <thead>\n",
       "    <tr style=\"text-align: right;\">\n",
       "      <th></th>\n",
       "      <th>customer_id</th>\n",
       "      <th>name</th>\n",
       "      <th>email</th>\n",
       "      <th>signup_date</th>\n",
       "      <th>source</th>\n",
       "      <th>region</th>\n",
       "      <th>plan_selected</th>\n",
       "      <th>marketing_opt_in</th>\n",
       "      <th>age</th>\n",
       "      <th>gender</th>\n",
       "      <th>age_group</th>\n",
       "      <th>ticket_id</th>\n",
       "      <th>ticket_date</th>\n",
       "      <th>issue_type</th>\n",
       "      <th>resolved</th>\n",
       "    </tr>\n",
       "  </thead>\n",
       "  <tbody>\n",
       "    <tr>\n",
       "      <th>0</th>\n",
       "      <td>CUST00005</td>\n",
       "      <td>John Gonzales</td>\n",
       "      <td>john5@mailhub.org</td>\n",
       "      <td>2024-01-06</td>\n",
       "      <td>Facebook</td>\n",
       "      <td>South</td>\n",
       "      <td>Premium</td>\n",
       "      <td>No</td>\n",
       "      <td>34</td>\n",
       "      <td>Other</td>\n",
       "      <td>31-40</td>\n",
       "      <td>TKT0008-1</td>\n",
       "      <td>2024-06-04</td>\n",
       "      <td>Other</td>\n",
       "      <td>Yes</td>\n",
       "    </tr>\n",
       "    <tr>\n",
       "      <th>1</th>\n",
       "      <td>CUST00007</td>\n",
       "      <td>Michael Bailey</td>\n",
       "      <td>michael7@mailhub.org</td>\n",
       "      <td>2024-01-08</td>\n",
       "      <td>YouTube</td>\n",
       "      <td>Central</td>\n",
       "      <td>Pro</td>\n",
       "      <td>Yes</td>\n",
       "      <td>60</td>\n",
       "      <td>Other</td>\n",
       "      <td>51-60</td>\n",
       "      <td>TKT0036-1</td>\n",
       "      <td>2024-08-07</td>\n",
       "      <td>Billing</td>\n",
       "      <td>Yes</td>\n",
       "    </tr>\n",
       "    <tr>\n",
       "      <th>2</th>\n",
       "      <td>CUST00007</td>\n",
       "      <td>Michael Bailey</td>\n",
       "      <td>michael7@mailhub.org</td>\n",
       "      <td>2024-01-08</td>\n",
       "      <td>YouTube</td>\n",
       "      <td>Central</td>\n",
       "      <td>Pro</td>\n",
       "      <td>Yes</td>\n",
       "      <td>60</td>\n",
       "      <td>Other</td>\n",
       "      <td>51-60</td>\n",
       "      <td>TKT0036-2</td>\n",
       "      <td>2024-08-23</td>\n",
       "      <td>Other</td>\n",
       "      <td>Yes</td>\n",
       "    </tr>\n",
       "    <tr>\n",
       "      <th>3</th>\n",
       "      <td>CUST00009</td>\n",
       "      <td>Cindy Anderson</td>\n",
       "      <td>NaN</td>\n",
       "      <td>2024-01-10</td>\n",
       "      <td>Google</td>\n",
       "      <td>East</td>\n",
       "      <td>Premium</td>\n",
       "      <td>No</td>\n",
       "      <td>29</td>\n",
       "      <td>Female</td>\n",
       "      <td>21-30</td>\n",
       "      <td>TKT0003-1</td>\n",
       "      <td>2024-10-03</td>\n",
       "      <td>Technical Error</td>\n",
       "      <td>No</td>\n",
       "    </tr>\n",
       "    <tr>\n",
       "      <th>4</th>\n",
       "      <td>CUST00017</td>\n",
       "      <td>Patty Paul</td>\n",
       "      <td>patty17@inboxmail.net</td>\n",
       "      <td>2024-01-18</td>\n",
       "      <td>YouTube</td>\n",
       "      <td>East</td>\n",
       "      <td>Pro</td>\n",
       "      <td>No</td>\n",
       "      <td>53</td>\n",
       "      <td>Non-Binary</td>\n",
       "      <td>51-60</td>\n",
       "      <td>TKT0030-1</td>\n",
       "      <td>2024-02-03</td>\n",
       "      <td>Other</td>\n",
       "      <td>Yes</td>\n",
       "    </tr>\n",
       "  </tbody>\n",
       "</table>\n",
       "</div>"
      ],
      "text/plain": [
       "  customer_id            name                  email signup_date    source  \\\n",
       "0   CUST00005   John Gonzales      john5@mailhub.org  2024-01-06  Facebook   \n",
       "1   CUST00007  Michael Bailey   michael7@mailhub.org  2024-01-08   YouTube   \n",
       "2   CUST00007  Michael Bailey   michael7@mailhub.org  2024-01-08   YouTube   \n",
       "3   CUST00009  Cindy Anderson                    NaN  2024-01-10    Google   \n",
       "4   CUST00017      Patty Paul  patty17@inboxmail.net  2024-01-18   YouTube   \n",
       "\n",
       "    region plan_selected marketing_opt_in  age      gender age_group  \\\n",
       "0    South       Premium               No   34       Other     31-40   \n",
       "1  Central           Pro              Yes   60       Other     51-60   \n",
       "2  Central           Pro              Yes   60       Other     51-60   \n",
       "3     East       Premium               No   29      Female     21-30   \n",
       "4     East           Pro               No   53  Non-Binary     51-60   \n",
       "\n",
       "   ticket_id ticket_date       issue_type resolved  \n",
       "0  TKT0008-1  2024-06-04            Other      Yes  \n",
       "1  TKT0036-1  2024-08-07          Billing      Yes  \n",
       "2  TKT0036-2  2024-08-23            Other      Yes  \n",
       "3  TKT0003-1  2024-10-03  Technical Error       No  \n",
       "4  TKT0030-1  2024-02-03            Other      Yes  "
      ]
     },
     "execution_count": 67,
     "metadata": {},
     "output_type": "execute_result"
    }
   ],
   "source": [
    "# merging both dataframes on customer_id only keeping records that are present in both dataframes\n",
    "merged_df = pd.merge(df1, df2, on='customer_id', how='inner')\n",
    "merged_df.head()"
   ]
  },
  {
   "cell_type": "code",
   "execution_count": 68,
   "id": "20fd1cc8",
   "metadata": {},
   "outputs": [
    {
     "name": "stdout",
     "output_type": "stream",
     "text": [
      "  plan_selected  ticket_count\n",
      "0           Pro            47\n",
      "1         Basic            42\n",
      "2       Premium            26\n",
      "3   UnknownPlan             4\n"
     ]
    }
   ],
   "source": [
    "# Count of support tickets by plan\n",
    "support_by_plan = merged_df.groupby('plan_selected')['ticket_id'].count().sort_values(ascending=False).reset_index(name = 'ticket_count')\n",
    "print(support_by_plan)\n"
   ]
  },
  {
   "cell_type": "markdown",
   "id": "558615e5",
   "metadata": {},
   "source": [
    "# Optional Task"
   ]
  },
  {
   "cell_type": "code",
   "execution_count": 69,
   "id": "6417aafe",
   "metadata": {},
   "outputs": [],
   "source": [
    "# converting ticket_date to datetime dtype\n",
    "merged_df['ticket_date'] = pd.to_datetime(merged_df['ticket_date'], dayfirst=True)"
   ]
  },
  {
   "cell_type": "code",
   "execution_count": 70,
   "id": "b8d72208",
   "metadata": {},
   "outputs": [],
   "source": [
    "# calculating days since signup for each support ticket\n",
    "merged_df['days_since_signup'] = (merged_df['ticket_date'] - merged_df['signup_date']).dt.days"
   ]
  },
  {
   "cell_type": "code",
   "execution_count": 71,
   "id": "385f0dc0",
   "metadata": {},
   "outputs": [
    {
     "name": "stdout",
     "output_type": "stream",
     "text": [
      "29\n"
     ]
    }
   ],
   "source": [
    "# Filter tickets within 2 weeks (14 days) of signup\n",
    "within_2_weeks = merged_df[(merged_df['days_since_signup'] <= 14) & (merged_df['days_since_signup'] >= 0)]\n",
    "\n",
    "# Count of unique customers who contacted support within 2 weeks\n",
    "num_customers = within_2_weeks['customer_id'].nunique()\n",
    "print(num_customers)"
   ]
  },
  {
   "cell_type": "code",
   "execution_count": 72,
   "id": "b60041e2",
   "metadata": {},
   "outputs": [
    {
     "name": "stdout",
     "output_type": "stream",
     "text": [
      "   plan_selected   region  ticket_count\n",
      "0          Basic  Central             2\n",
      "1          Basic     East            11\n",
      "2          Basic    North             3\n",
      "3          Basic    South            14\n",
      "4          Basic     West            10\n",
      "5        Premium  Central             6\n",
      "6        Premium     East             1\n",
      "7        Premium    North             6\n",
      "8        Premium    South             2\n",
      "9        Premium     West            11\n",
      "10           Pro  Central            10\n",
      "11           Pro     East            14\n",
      "12           Pro    North            11\n",
      "13           Pro    South             3\n",
      "14           Pro     West             6\n",
      "15   UnknownPlan    North             4\n"
     ]
    }
   ],
   "source": [
    "# Count of support tickets by plan and region\n",
    "support_summary = merged_df.groupby(['plan_selected', 'region'])['ticket_id'].count().reset_index()\n",
    "support_summary.rename(columns={'ticket_id': 'ticket_count'}, inplace=True)\n",
    "\n",
    "print(support_summary)"
   ]
  },
  {
   "cell_type": "code",
   "execution_count": 73,
   "id": "6fc8f4aa",
   "metadata": {},
   "outputs": [
    {
     "data": {
      "image/png": "[encoded data removed]",
      "text/plain": [
       "<Figure size 1000x600 with 1 Axes>"
      ]
     },
     "metadata": {},
     "output_type": "display_data"
    }
   ],
   "source": [
    "# Visualizing support activity by plan and region using stacked bar chart\n",
    "stacked_data = support_summary.pivot(index='region', columns='plan_selected', values='ticket_count').fillna(0)\n",
    "\n",
    "x = stacked_data.plot(kind='bar', stacked=True, figsize=(10,6), colormap='Pastel1')\n",
    "\n",
    "plt.ylabel(\"Number of Support Tickets\")\n",
    "plt.xlabel(\"Region\")\n",
    "plt.title(\"Support Activity by Plan and Region\")\n",
    "plt.legend(title=\"Plan\")\n",
    "plt.xticks(rotation=0)  \n",
    "plt.show()"
   ]
  }
 ],
 "metadata": {
  "kernelspec": {
   "display_name": "Python 3",
   "language": "python",
   "name": "python3"
  },
  "language_info": {
   "codemirror_mode": {
    "name": "ipython",
    "version": 3
   },
   "file_extension": ".py",
   "mimetype": "text/x-python",
   "name": "python",
   "nbconvert_exporter": "python",
   "pygments_lexer": "ipython3",
   "version": "3.10.1"
  }
 },
 "nbformat": 4,
 "nbformat_minor": 5
}
