{
 "cells": [
  {
   "cell_type": "code",
   "execution_count": 1,
   "id": "0533728f",
   "metadata": {},
   "outputs": [],
   "source": [
    "# Import libraries\n",
    "import pandas as pd\n",
    "import numpy as np\n",
    "import seaborn as sns\n",
    "import matplotlib.pyplot as plt\n",
    "from datetime import datetime\n",
    "from scipy.stats import chi2_contingency, ttest_ind\n",
    "from sklearn.model_selection import train_test_split\n",
    "from sklearn.preprocessing import StandardScaler\n",
    "from sklearn.calibration import LabelEncoder\n",
    "from sklearn.linear_model import LogisticRegression\n",
    "from sklearn.linear_model import LinearRegression\n",
    "from sklearn.metrics import mean_squared_error, mean_absolute_error, r2_score\n",
    "from sklearn.metrics import (confusion_matrix, classification_report, \n",
    "                             roc_curve, roc_auc_score, mean_squared_error, \n",
    "                             r2_score, mean_absolute_error, accuracy_score,\n",
    "                             precision_score, recall_score, f1_score)\n"
   ]
  },
  {
   "cell_type": "code",
   "execution_count": 2,
   "id": "2dbed7b5",
   "metadata": {},
   "outputs": [],
   "source": [
    "# Load dataset\n",
    "user_data_df = pd.read_csv('streamworks_user_data.csv')"
   ]
  },
  {
   "cell_type": "markdown",
   "id": "135f8937",
   "metadata": {},
   "source": [
    "### Exploring the data"
   ]
  },
  {
   "cell_type": "code",
   "execution_count": 3,
   "id": "b18e7fec",
   "metadata": {},
   "outputs": [],
   "source": [
    "df = user_data_df.copy()"
   ]
  },
  {
   "cell_type": "code",
   "execution_count": 4,
   "id": "230c02c5",
   "metadata": {},
   "outputs": [
    {
     "name": "stdout",
     "output_type": "stream",
     "text": [
      "<class 'pandas.core.frame.DataFrame'>\n",
      "RangeIndex: 1500 entries, 0 to 1499\n",
      "Data columns (total 14 columns):\n",
      " #   Column                Non-Null Count  Dtype  \n",
      "---  ------                --------------  -----  \n",
      " 0   user_id               1498 non-null   float64\n",
      " 1   age                   1497 non-null   float64\n",
      " 2   gender                1499 non-null   object \n",
      " 3   signup_date           1498 non-null   object \n",
      " 4   last_active_date      1498 non-null   object \n",
      " 5   country               1497 non-null   object \n",
      " 6   subscription_type     1497 non-null   object \n",
      " 7   average_watch_hours   1496 non-null   float64\n",
      " 8   mobile_app_usage_pct  1498 non-null   float64\n",
      " 9   complaints_raised     1497 non-null   float64\n",
      " 10  received_promotions   1497 non-null   object \n",
      " 11  referred_by_friend    1497 non-null   object \n",
      " 12  is_churned            1499 non-null   float64\n",
      " 13  monthly_fee           1355 non-null   float64\n",
      "dtypes: float64(7), object(7)\n",
      "memory usage: 164.2+ KB\n"
     ]
    }
   ],
   "source": [
    "df.info()"
   ]
  },
  {
   "cell_type": "code",
   "execution_count": 5,
   "id": "b239434c",
   "metadata": {},
   "outputs": [
    {
     "data": {
      "text/html": [
       "<div>\n",
       "<style scoped>\n",
       "    .dataframe tbody tr th:only-of-type {\n",
       "        vertical-align: middle;\n",
       "    }\n",
       "\n",
       "    .dataframe tbody tr th {\n",
       "        vertical-align: top;\n",
       "    }\n",
       "\n",
       "    .dataframe thead th {\n",
       "        text-align: right;\n",
       "    }\n",
       "</style>\n",
       "<table border=\"1\" class=\"dataframe\">\n",
       "  <thead>\n",
       "    <tr style=\"text-align: right;\">\n",
       "      <th></th>\n",
       "      <th>user_id</th>\n",
       "      <th>age</th>\n",
       "      <th>average_watch_hours</th>\n",
       "      <th>mobile_app_usage_pct</th>\n",
       "      <th>complaints_raised</th>\n",
       "      <th>is_churned</th>\n",
       "      <th>monthly_fee</th>\n",
       "    </tr>\n",
       "  </thead>\n",
       "  <tbody>\n",
       "    <tr>\n",
       "      <th>count</th>\n",
       "      <td>1498.000000</td>\n",
       "      <td>1497.000000</td>\n",
       "      <td>1496.000000</td>\n",
       "      <td>1498.000000</td>\n",
       "      <td>1497.000000</td>\n",
       "      <td>1499.000000</td>\n",
       "      <td>1355.000000</td>\n",
       "    </tr>\n",
       "    <tr>\n",
       "      <th>mean</th>\n",
       "      <td>1750.871829</td>\n",
       "      <td>43.738811</td>\n",
       "      <td>39.903342</td>\n",
       "      <td>51.414419</td>\n",
       "      <td>2.498330</td>\n",
       "      <td>0.234156</td>\n",
       "      <td>10.180406</td>\n",
       "    </tr>\n",
       "    <tr>\n",
       "      <th>std</th>\n",
       "      <td>433.060980</td>\n",
       "      <td>15.083920</td>\n",
       "      <td>22.978288</td>\n",
       "      <td>28.580117</td>\n",
       "      <td>1.706829</td>\n",
       "      <td>0.423612</td>\n",
       "      <td>3.310705</td>\n",
       "    </tr>\n",
       "    <tr>\n",
       "      <th>min</th>\n",
       "      <td>1001.000000</td>\n",
       "      <td>18.000000</td>\n",
       "      <td>0.500000</td>\n",
       "      <td>0.000000</td>\n",
       "      <td>0.000000</td>\n",
       "      <td>0.000000</td>\n",
       "      <td>5.990000</td>\n",
       "    </tr>\n",
       "    <tr>\n",
       "      <th>25%</th>\n",
       "      <td>1376.250000</td>\n",
       "      <td>31.000000</td>\n",
       "      <td>19.450000</td>\n",
       "      <td>27.100000</td>\n",
       "      <td>1.000000</td>\n",
       "      <td>0.000000</td>\n",
       "      <td>5.990000</td>\n",
       "    </tr>\n",
       "    <tr>\n",
       "      <th>50%</th>\n",
       "      <td>1750.500000</td>\n",
       "      <td>44.000000</td>\n",
       "      <td>40.300000</td>\n",
       "      <td>52.700000</td>\n",
       "      <td>2.000000</td>\n",
       "      <td>0.000000</td>\n",
       "      <td>9.990000</td>\n",
       "    </tr>\n",
       "    <tr>\n",
       "      <th>75%</th>\n",
       "      <td>2125.750000</td>\n",
       "      <td>56.000000</td>\n",
       "      <td>59.800000</td>\n",
       "      <td>76.200000</td>\n",
       "      <td>4.000000</td>\n",
       "      <td>0.000000</td>\n",
       "      <td>13.990000</td>\n",
       "    </tr>\n",
       "    <tr>\n",
       "      <th>max</th>\n",
       "      <td>2500.000000</td>\n",
       "      <td>69.000000</td>\n",
       "      <td>79.900000</td>\n",
       "      <td>100.000000</td>\n",
       "      <td>5.000000</td>\n",
       "      <td>1.000000</td>\n",
       "      <td>14.990000</td>\n",
       "    </tr>\n",
       "  </tbody>\n",
       "</table>\n",
       "</div>"
      ],
      "text/plain": [
       "           user_id          age  average_watch_hours  mobile_app_usage_pct  \\\n",
       "count  1498.000000  1497.000000          1496.000000           1498.000000   \n",
       "mean   1750.871829    43.738811            39.903342             51.414419   \n",
       "std     433.060980    15.083920            22.978288             28.580117   \n",
       "min    1001.000000    18.000000             0.500000              0.000000   \n",
       "25%    1376.250000    31.000000            19.450000             27.100000   \n",
       "50%    1750.500000    44.000000            40.300000             52.700000   \n",
       "75%    2125.750000    56.000000            59.800000             76.200000   \n",
       "max    2500.000000    69.000000            79.900000            100.000000   \n",
       "\n",
       "       complaints_raised   is_churned  monthly_fee  \n",
       "count        1497.000000  1499.000000  1355.000000  \n",
       "mean            2.498330     0.234156    10.180406  \n",
       "std             1.706829     0.423612     3.310705  \n",
       "min             0.000000     0.000000     5.990000  \n",
       "25%             1.000000     0.000000     5.990000  \n",
       "50%             2.000000     0.000000     9.990000  \n",
       "75%             4.000000     0.000000    13.990000  \n",
       "max             5.000000     1.000000    14.990000  "
      ]
     },
     "execution_count": 5,
     "metadata": {},
     "output_type": "execute_result"
    }
   ],
   "source": [
    "df.describe()"
   ]
  },
  {
   "cell_type": "code",
   "execution_count": 6,
   "id": "4ac91905",
   "metadata": {},
   "outputs": [
    {
     "data": {
      "text/html": [
       "<div>\n",
       "<style scoped>\n",
       "    .dataframe tbody tr th:only-of-type {\n",
       "        vertical-align: middle;\n",
       "    }\n",
       "\n",
       "    .dataframe tbody tr th {\n",
       "        vertical-align: top;\n",
       "    }\n",
       "\n",
       "    .dataframe thead th {\n",
       "        text-align: right;\n",
       "    }\n",
       "</style>\n",
       "<table border=\"1\" class=\"dataframe\">\n",
       "  <thead>\n",
       "    <tr style=\"text-align: right;\">\n",
       "      <th></th>\n",
       "      <th>user_id</th>\n",
       "      <th>age</th>\n",
       "      <th>gender</th>\n",
       "      <th>signup_date</th>\n",
       "      <th>last_active_date</th>\n",
       "      <th>country</th>\n",
       "      <th>subscription_type</th>\n",
       "      <th>average_watch_hours</th>\n",
       "      <th>mobile_app_usage_pct</th>\n",
       "      <th>complaints_raised</th>\n",
       "      <th>received_promotions</th>\n",
       "      <th>referred_by_friend</th>\n",
       "      <th>is_churned</th>\n",
       "      <th>monthly_fee</th>\n",
       "    </tr>\n",
       "  </thead>\n",
       "  <tbody>\n",
       "    <tr>\n",
       "      <th>0</th>\n",
       "      <td>1001.0</td>\n",
       "      <td>56.0</td>\n",
       "      <td>Other</td>\n",
       "      <td>02-04-25</td>\n",
       "      <td>13-07-25</td>\n",
       "      <td>France</td>\n",
       "      <td>Standard</td>\n",
       "      <td>42.6</td>\n",
       "      <td>77.4</td>\n",
       "      <td>1.0</td>\n",
       "      <td>No</td>\n",
       "      <td>No</td>\n",
       "      <td>1.0</td>\n",
       "      <td>10.99</td>\n",
       "    </tr>\n",
       "    <tr>\n",
       "      <th>1</th>\n",
       "      <td>1002.0</td>\n",
       "      <td>69.0</td>\n",
       "      <td>Male</td>\n",
       "      <td>02-01-23</td>\n",
       "      <td>13-07-25</td>\n",
       "      <td>India</td>\n",
       "      <td>Basic</td>\n",
       "      <td>65.3</td>\n",
       "      <td>98.0</td>\n",
       "      <td>4.0</td>\n",
       "      <td>No</td>\n",
       "      <td>Yes</td>\n",
       "      <td>1.0</td>\n",
       "      <td>5.99</td>\n",
       "    </tr>\n",
       "    <tr>\n",
       "      <th>2</th>\n",
       "      <td>1003.0</td>\n",
       "      <td>46.0</td>\n",
       "      <td>Male</td>\n",
       "      <td>21-08-22</td>\n",
       "      <td>13-07-25</td>\n",
       "      <td>UK</td>\n",
       "      <td>Premium</td>\n",
       "      <td>40.1</td>\n",
       "      <td>47.8</td>\n",
       "      <td>0.0</td>\n",
       "      <td>No</td>\n",
       "      <td>Yes</td>\n",
       "      <td>1.0</td>\n",
       "      <td>13.99</td>\n",
       "    </tr>\n",
       "    <tr>\n",
       "      <th>3</th>\n",
       "      <td>1004.0</td>\n",
       "      <td>32.0</td>\n",
       "      <td>Other</td>\n",
       "      <td>14-09-23</td>\n",
       "      <td>13-07-25</td>\n",
       "      <td>Germany</td>\n",
       "      <td>Premium</td>\n",
       "      <td>5.8</td>\n",
       "      <td>53.2</td>\n",
       "      <td>1.0</td>\n",
       "      <td>Yes</td>\n",
       "      <td>Yes</td>\n",
       "      <td>1.0</td>\n",
       "      <td>13.99</td>\n",
       "    </tr>\n",
       "    <tr>\n",
       "      <th>4</th>\n",
       "      <td>1005.0</td>\n",
       "      <td>60.0</td>\n",
       "      <td>Female</td>\n",
       "      <td>29-07-23</td>\n",
       "      <td>13-07-25</td>\n",
       "      <td>India</td>\n",
       "      <td>Standard</td>\n",
       "      <td>32.7</td>\n",
       "      <td>16.8</td>\n",
       "      <td>5.0</td>\n",
       "      <td>No</td>\n",
       "      <td>Yes</td>\n",
       "      <td>0.0</td>\n",
       "      <td>9.99</td>\n",
       "    </tr>\n",
       "  </tbody>\n",
       "</table>\n",
       "</div>"
      ],
      "text/plain": [
       "   user_id   age  gender signup_date last_active_date  country  \\\n",
       "0   1001.0  56.0   Other    02-04-25         13-07-25   France   \n",
       "1   1002.0  69.0    Male    02-01-23         13-07-25    India   \n",
       "2   1003.0  46.0    Male    21-08-22         13-07-25       UK   \n",
       "3   1004.0  32.0   Other    14-09-23         13-07-25  Germany   \n",
       "4   1005.0  60.0  Female    29-07-23         13-07-25    India   \n",
       "\n",
       "  subscription_type  average_watch_hours  mobile_app_usage_pct  \\\n",
       "0          Standard                 42.6                  77.4   \n",
       "1             Basic                 65.3                  98.0   \n",
       "2           Premium                 40.1                  47.8   \n",
       "3           Premium                  5.8                  53.2   \n",
       "4          Standard                 32.7                  16.8   \n",
       "\n",
       "   complaints_raised received_promotions referred_by_friend  is_churned  \\\n",
       "0                1.0                  No                 No         1.0   \n",
       "1                4.0                  No                Yes         1.0   \n",
       "2                0.0                  No                Yes         1.0   \n",
       "3                1.0                 Yes                Yes         1.0   \n",
       "4                5.0                  No                Yes         0.0   \n",
       "\n",
       "   monthly_fee  \n",
       "0        10.99  \n",
       "1         5.99  \n",
       "2        13.99  \n",
       "3        13.99  \n",
       "4         9.99  "
      ]
     },
     "execution_count": 6,
     "metadata": {},
     "output_type": "execute_result"
    }
   ],
   "source": [
    "df.head()"
   ]
  },
  {
   "cell_type": "markdown",
   "id": "c8192d26",
   "metadata": {},
   "source": [
    "##### missing data"
   ]
  },
  {
   "cell_type": "code",
   "execution_count": 7,
   "id": "e6ca6241",
   "metadata": {},
   "outputs": [
    {
     "data": {
      "text/plain": [
       "user_id                   2\n",
       "age                       3\n",
       "gender                    1\n",
       "signup_date               2\n",
       "last_active_date          2\n",
       "country                   3\n",
       "subscription_type         3\n",
       "average_watch_hours       4\n",
       "mobile_app_usage_pct      2\n",
       "complaints_raised         3\n",
       "received_promotions       3\n",
       "referred_by_friend        3\n",
       "is_churned                1\n",
       "monthly_fee             145\n",
       "dtype: int64"
      ]
     },
     "execution_count": 7,
     "metadata": {},
     "output_type": "execute_result"
    }
   ],
   "source": [
    "df.isnull().sum()"
   ]
  },
  {
   "cell_type": "code",
   "execution_count": 8,
   "id": "18922b15",
   "metadata": {},
   "outputs": [
    {
     "data": {
      "text/plain": [
       "user_id                 0.133333\n",
       "age                     0.200000\n",
       "gender                  0.066667\n",
       "signup_date             0.133333\n",
       "last_active_date        0.133333\n",
       "country                 0.200000\n",
       "subscription_type       0.200000\n",
       "average_watch_hours     0.266667\n",
       "mobile_app_usage_pct    0.133333\n",
       "complaints_raised       0.200000\n",
       "received_promotions     0.200000\n",
       "referred_by_friend      0.200000\n",
       "is_churned              0.066667\n",
       "monthly_fee             9.666667\n",
       "dtype: float64"
      ]
     },
     "execution_count": 8,
     "metadata": {},
     "output_type": "execute_result"
    }
   ],
   "source": [
    "df.isnull().sum() / len(df) * 100"
   ]
  },
  {
   "cell_type": "markdown",
   "id": "f601cf3c",
   "metadata": {},
   "source": [
    "### Handling missing values"
   ]
  },
  {
   "cell_type": "markdown",
   "id": "1175d3ba",
   "metadata": {},
   "source": [
    "##### user id"
   ]
  },
  {
   "cell_type": "code",
   "execution_count": 9,
   "id": "1ca84fd8",
   "metadata": {},
   "outputs": [
    {
     "data": {
      "text/html": [
       "<div>\n",
       "<style scoped>\n",
       "    .dataframe tbody tr th:only-of-type {\n",
       "        vertical-align: middle;\n",
       "    }\n",
       "\n",
       "    .dataframe tbody tr th {\n",
       "        vertical-align: top;\n",
       "    }\n",
       "\n",
       "    .dataframe thead th {\n",
       "        text-align: right;\n",
       "    }\n",
       "</style>\n",
       "<table border=\"1\" class=\"dataframe\">\n",
       "  <thead>\n",
       "    <tr style=\"text-align: right;\">\n",
       "      <th></th>\n",
       "      <th>user_id</th>\n",
       "      <th>age</th>\n",
       "      <th>gender</th>\n",
       "      <th>signup_date</th>\n",
       "      <th>last_active_date</th>\n",
       "      <th>country</th>\n",
       "      <th>subscription_type</th>\n",
       "      <th>average_watch_hours</th>\n",
       "      <th>mobile_app_usage_pct</th>\n",
       "      <th>complaints_raised</th>\n",
       "      <th>received_promotions</th>\n",
       "      <th>referred_by_friend</th>\n",
       "      <th>is_churned</th>\n",
       "      <th>monthly_fee</th>\n",
       "    </tr>\n",
       "  </thead>\n",
       "  <tbody>\n",
       "    <tr>\n",
       "      <th>56</th>\n",
       "      <td>NaN</td>\n",
       "      <td>45.0</td>\n",
       "      <td>Male</td>\n",
       "      <td>16-03-25</td>\n",
       "      <td>13-07-25</td>\n",
       "      <td>UK</td>\n",
       "      <td>Basic</td>\n",
       "      <td>8.7</td>\n",
       "      <td>60.6</td>\n",
       "      <td>5.0</td>\n",
       "      <td>No</td>\n",
       "      <td>No</td>\n",
       "      <td>1.0</td>\n",
       "      <td>5.99</td>\n",
       "    </tr>\n",
       "    <tr>\n",
       "      <th>886</th>\n",
       "      <td>NaN</td>\n",
       "      <td>35.0</td>\n",
       "      <td>Female</td>\n",
       "      <td>16-09-23</td>\n",
       "      <td>13-07-25</td>\n",
       "      <td>USA</td>\n",
       "      <td>Basic</td>\n",
       "      <td>6.0</td>\n",
       "      <td>54.8</td>\n",
       "      <td>1.0</td>\n",
       "      <td>No</td>\n",
       "      <td>Yes</td>\n",
       "      <td>0.0</td>\n",
       "      <td>6.99</td>\n",
       "    </tr>\n",
       "  </tbody>\n",
       "</table>\n",
       "</div>"
      ],
      "text/plain": [
       "     user_id   age  gender signup_date last_active_date country  \\\n",
       "56       NaN  45.0    Male    16-03-25         13-07-25      UK   \n",
       "886      NaN  35.0  Female    16-09-23         13-07-25     USA   \n",
       "\n",
       "    subscription_type  average_watch_hours  mobile_app_usage_pct  \\\n",
       "56              Basic                  8.7                  60.6   \n",
       "886             Basic                  6.0                  54.8   \n",
       "\n",
       "     complaints_raised received_promotions referred_by_friend  is_churned  \\\n",
       "56                 5.0                  No                 No         1.0   \n",
       "886                1.0                  No                Yes         0.0   \n",
       "\n",
       "     monthly_fee  \n",
       "56          5.99  \n",
       "886         6.99  "
      ]
     },
     "execution_count": 9,
     "metadata": {},
     "output_type": "execute_result"
    }
   ],
   "source": [
    "# USER ID\n",
    "df[df['user_id'].isna()]"
   ]
  },
  {
   "cell_type": "code",
   "execution_count": 10,
   "id": "7a0afc6f",
   "metadata": {},
   "outputs": [],
   "source": [
    "mask = df['user_id'].isna()\n",
    "df.loc[mask, 'user_id'] = [f\"TEMPID{i+1}\" for i in range(mask.sum())]"
   ]
  },
  {
   "cell_type": "code",
   "execution_count": 11,
   "id": "b7a7d5e1",
   "metadata": {},
   "outputs": [
    {
     "data": {
      "text/html": [
       "<div>\n",
       "<style scoped>\n",
       "    .dataframe tbody tr th:only-of-type {\n",
       "        vertical-align: middle;\n",
       "    }\n",
       "\n",
       "    .dataframe tbody tr th {\n",
       "        vertical-align: top;\n",
       "    }\n",
       "\n",
       "    .dataframe thead th {\n",
       "        text-align: right;\n",
       "    }\n",
       "</style>\n",
       "<table border=\"1\" class=\"dataframe\">\n",
       "  <thead>\n",
       "    <tr style=\"text-align: right;\">\n",
       "      <th></th>\n",
       "      <th>user_id</th>\n",
       "      <th>age</th>\n",
       "      <th>gender</th>\n",
       "      <th>signup_date</th>\n",
       "      <th>last_active_date</th>\n",
       "      <th>country</th>\n",
       "      <th>subscription_type</th>\n",
       "      <th>average_watch_hours</th>\n",
       "      <th>mobile_app_usage_pct</th>\n",
       "      <th>complaints_raised</th>\n",
       "      <th>received_promotions</th>\n",
       "      <th>referred_by_friend</th>\n",
       "      <th>is_churned</th>\n",
       "      <th>monthly_fee</th>\n",
       "    </tr>\n",
       "  </thead>\n",
       "  <tbody>\n",
       "    <tr>\n",
       "      <th>56</th>\n",
       "      <td>TEMPID1</td>\n",
       "      <td>45.0</td>\n",
       "      <td>Male</td>\n",
       "      <td>16-03-25</td>\n",
       "      <td>13-07-25</td>\n",
       "      <td>UK</td>\n",
       "      <td>Basic</td>\n",
       "      <td>8.7</td>\n",
       "      <td>60.6</td>\n",
       "      <td>5.0</td>\n",
       "      <td>No</td>\n",
       "      <td>No</td>\n",
       "      <td>1.0</td>\n",
       "      <td>5.99</td>\n",
       "    </tr>\n",
       "    <tr>\n",
       "      <th>886</th>\n",
       "      <td>TEMPID2</td>\n",
       "      <td>35.0</td>\n",
       "      <td>Female</td>\n",
       "      <td>16-09-23</td>\n",
       "      <td>13-07-25</td>\n",
       "      <td>USA</td>\n",
       "      <td>Basic</td>\n",
       "      <td>6.0</td>\n",
       "      <td>54.8</td>\n",
       "      <td>1.0</td>\n",
       "      <td>No</td>\n",
       "      <td>Yes</td>\n",
       "      <td>0.0</td>\n",
       "      <td>6.99</td>\n",
       "    </tr>\n",
       "  </tbody>\n",
       "</table>\n",
       "</div>"
      ],
      "text/plain": [
       "     user_id   age  gender signup_date last_active_date country  \\\n",
       "56   TEMPID1  45.0    Male    16-03-25         13-07-25      UK   \n",
       "886  TEMPID2  35.0  Female    16-09-23         13-07-25     USA   \n",
       "\n",
       "    subscription_type  average_watch_hours  mobile_app_usage_pct  \\\n",
       "56              Basic                  8.7                  60.6   \n",
       "886             Basic                  6.0                  54.8   \n",
       "\n",
       "     complaints_raised received_promotions referred_by_friend  is_churned  \\\n",
       "56                 5.0                  No                 No         1.0   \n",
       "886                1.0                  No                Yes         0.0   \n",
       "\n",
       "     monthly_fee  \n",
       "56          5.99  \n",
       "886         6.99  "
      ]
     },
     "execution_count": 11,
     "metadata": {},
     "output_type": "execute_result"
    }
   ],
   "source": [
    "df[df['user_id'].str.startswith('TEMP', na = False)]"
   ]
  },
  {
   "cell_type": "code",
   "execution_count": 12,
   "id": "cdf82d7b",
   "metadata": {},
   "outputs": [
    {
     "data": {
      "text/html": [
       "<div>\n",
       "<style scoped>\n",
       "    .dataframe tbody tr th:only-of-type {\n",
       "        vertical-align: middle;\n",
       "    }\n",
       "\n",
       "    .dataframe tbody tr th {\n",
       "        vertical-align: top;\n",
       "    }\n",
       "\n",
       "    .dataframe thead th {\n",
       "        text-align: right;\n",
       "    }\n",
       "</style>\n",
       "<table border=\"1\" class=\"dataframe\">\n",
       "  <thead>\n",
       "    <tr style=\"text-align: right;\">\n",
       "      <th></th>\n",
       "      <th>user_id</th>\n",
       "      <th>age</th>\n",
       "      <th>gender</th>\n",
       "      <th>signup_date</th>\n",
       "      <th>last_active_date</th>\n",
       "      <th>country</th>\n",
       "      <th>subscription_type</th>\n",
       "      <th>average_watch_hours</th>\n",
       "      <th>mobile_app_usage_pct</th>\n",
       "      <th>complaints_raised</th>\n",
       "      <th>received_promotions</th>\n",
       "      <th>referred_by_friend</th>\n",
       "      <th>is_churned</th>\n",
       "      <th>monthly_fee</th>\n",
       "    </tr>\n",
       "  </thead>\n",
       "  <tbody>\n",
       "  </tbody>\n",
       "</table>\n",
       "</div>"
      ],
      "text/plain": [
       "Empty DataFrame\n",
       "Columns: [user_id, age, gender, signup_date, last_active_date, country, subscription_type, average_watch_hours, mobile_app_usage_pct, complaints_raised, received_promotions, referred_by_friend, is_churned, monthly_fee]\n",
       "Index: []"
      ]
     },
     "execution_count": 12,
     "metadata": {},
     "output_type": "execute_result"
    }
   ],
   "source": [
    "df[df['user_id'].isna()]"
   ]
  },
  {
   "cell_type": "markdown",
   "id": "818225cc",
   "metadata": {},
   "source": [
    "##### Age"
   ]
  },
  {
   "cell_type": "code",
   "execution_count": 13,
   "id": "6a4b0bbe",
   "metadata": {},
   "outputs": [
    {
     "data": {
      "text/html": [
       "<div>\n",
       "<style scoped>\n",
       "    .dataframe tbody tr th:only-of-type {\n",
       "        vertical-align: middle;\n",
       "    }\n",
       "\n",
       "    .dataframe tbody tr th {\n",
       "        vertical-align: top;\n",
       "    }\n",
       "\n",
       "    .dataframe thead th {\n",
       "        text-align: right;\n",
       "    }\n",
       "</style>\n",
       "<table border=\"1\" class=\"dataframe\">\n",
       "  <thead>\n",
       "    <tr style=\"text-align: right;\">\n",
       "      <th></th>\n",
       "      <th>user_id</th>\n",
       "      <th>age</th>\n",
       "      <th>country</th>\n",
       "      <th>gender</th>\n",
       "      <th>subscription_type</th>\n",
       "      <th>average_watch_hours</th>\n",
       "    </tr>\n",
       "  </thead>\n",
       "  <tbody>\n",
       "    <tr>\n",
       "      <th>109</th>\n",
       "      <td>1110.0</td>\n",
       "      <td>NaN</td>\n",
       "      <td>France</td>\n",
       "      <td>Female</td>\n",
       "      <td>Standard</td>\n",
       "      <td>33.7</td>\n",
       "    </tr>\n",
       "    <tr>\n",
       "      <th>758</th>\n",
       "      <td>1759.0</td>\n",
       "      <td>NaN</td>\n",
       "      <td>France</td>\n",
       "      <td>Female</td>\n",
       "      <td>Premium</td>\n",
       "      <td>38.5</td>\n",
       "    </tr>\n",
       "    <tr>\n",
       "      <th>1130</th>\n",
       "      <td>2131.0</td>\n",
       "      <td>NaN</td>\n",
       "      <td>France</td>\n",
       "      <td>Female</td>\n",
       "      <td>Basic</td>\n",
       "      <td>69.8</td>\n",
       "    </tr>\n",
       "  </tbody>\n",
       "</table>\n",
       "</div>"
      ],
      "text/plain": [
       "     user_id  age country  gender subscription_type  average_watch_hours\n",
       "109   1110.0  NaN  France  Female          Standard                 33.7\n",
       "758   1759.0  NaN  France  Female           Premium                 38.5\n",
       "1130  2131.0  NaN  France  Female             Basic                 69.8"
      ]
     },
     "execution_count": 13,
     "metadata": {},
     "output_type": "execute_result"
    }
   ],
   "source": [
    "#AGE\n",
    "df[df['age'].isna()][['user_id', 'age', 'country', 'gender', 'subscription_type', 'average_watch_hours']]"
   ]
  },
  {
   "cell_type": "code",
   "execution_count": 14,
   "id": "acdc6164",
   "metadata": {},
   "outputs": [
    {
     "data": {
      "text/plain": [
       "count    1497.000000\n",
       "mean       43.738811\n",
       "std        15.083920\n",
       "min        18.000000\n",
       "25%        31.000000\n",
       "50%        44.000000\n",
       "75%        56.000000\n",
       "max        69.000000\n",
       "Name: age, dtype: float64"
      ]
     },
     "execution_count": 14,
     "metadata": {},
     "output_type": "execute_result"
    }
   ],
   "source": [
    "df['age'].describe()"
   ]
  },
  {
   "cell_type": "code",
   "execution_count": 15,
   "id": "2d1f6d69",
   "metadata": {},
   "outputs": [
    {
     "data": {
      "text/plain": [
       "count    95.00000\n",
       "mean     45.00000\n",
       "std      14.82881\n",
       "min      18.00000\n",
       "25%      34.00000\n",
       "50%      46.00000\n",
       "75%      56.00000\n",
       "max      69.00000\n",
       "Name: age, dtype: float64"
      ]
     },
     "execution_count": 15,
     "metadata": {},
     "output_type": "execute_result"
    }
   ],
   "source": [
    "df[(df['gender'] == 'Female') & (df['country'] == 'France')]['age'].describe()\n"
   ]
  },
  {
   "cell_type": "code",
   "execution_count": 16,
   "id": "df5921c2",
   "metadata": {},
   "outputs": [
    {
     "data": {
      "image/png": "[encoded data removed]",
      "text/plain": [
       "<Figure size 800x500 with 1 Axes>"
      ]
     },
     "metadata": {},
     "output_type": "display_data"
    }
   ],
   "source": [
    "# Filter for females in France\n",
    "df_france_female = df[(df['gender'] == 'Female') & (df['country'] == 'France')]\n",
    "\n",
    "# Plot histogram\n",
    "plt.figure(figsize=(8,5))\n",
    "sns.histplot(df_france_female['age'], bins=10, kde=True, color='orchid')\n",
    "plt.title('Age Distribution: Female Users from France')\n",
    "plt.xlabel('Age')\n",
    "plt.ylabel('Count')\n",
    "plt.show()"
   ]
  },
  {
   "cell_type": "code",
   "execution_count": 17,
   "id": "2ea5a2fa",
   "metadata": {},
   "outputs": [
    {
     "data": {
      "text/plain": [
       "46.0"
      ]
     },
     "execution_count": 17,
     "metadata": {},
     "output_type": "execute_result"
    }
   ],
   "source": [
    "fill_median = (df[(df['gender'] == 'Female') & (df['country'] == 'France')]['age'].median())\n",
    "fill_median"
   ]
  },
  {
   "cell_type": "code",
   "execution_count": 18,
   "id": "dfdbea99",
   "metadata": {},
   "outputs": [],
   "source": [
    "df['age'].fillna(fill_median, inplace = True)"
   ]
  },
  {
   "cell_type": "code",
   "execution_count": 19,
   "id": "cbe7a73d",
   "metadata": {},
   "outputs": [
    {
     "data": {
      "image/png": "[encoded data removed]",
      "text/plain": [
       "<Figure size 800x500 with 1 Axes>"
      ]
     },
     "metadata": {},
     "output_type": "display_data"
    }
   ],
   "source": [
    "# Filter for females in France\n",
    "df_france_female = df[(df['gender'] == 'Female') & (df['country'] == 'France')]\n",
    "\n",
    "# Plot histogram\n",
    "plt.figure(figsize=(8,5))\n",
    "sns.histplot(df_france_female['age'], bins=10, kde=True, color='orchid')\n",
    "plt.title('Age Distribution: Female Users from France')\n",
    "plt.xlabel('Age')\n",
    "plt.ylabel('Count')\n",
    "plt.show()"
   ]
  },
  {
   "cell_type": "code",
   "execution_count": 20,
   "id": "f1ecf989",
   "metadata": {},
   "outputs": [
    {
     "data": {
      "text/html": [
       "<div>\n",
       "<style scoped>\n",
       "    .dataframe tbody tr th:only-of-type {\n",
       "        vertical-align: middle;\n",
       "    }\n",
       "\n",
       "    .dataframe tbody tr th {\n",
       "        vertical-align: top;\n",
       "    }\n",
       "\n",
       "    .dataframe thead th {\n",
       "        text-align: right;\n",
       "    }\n",
       "</style>\n",
       "<table border=\"1\" class=\"dataframe\">\n",
       "  <thead>\n",
       "    <tr style=\"text-align: right;\">\n",
       "      <th></th>\n",
       "      <th>user_id</th>\n",
       "      <th>age</th>\n",
       "      <th>gender</th>\n",
       "      <th>signup_date</th>\n",
       "      <th>last_active_date</th>\n",
       "      <th>country</th>\n",
       "      <th>subscription_type</th>\n",
       "      <th>average_watch_hours</th>\n",
       "      <th>mobile_app_usage_pct</th>\n",
       "      <th>complaints_raised</th>\n",
       "      <th>received_promotions</th>\n",
       "      <th>referred_by_friend</th>\n",
       "      <th>is_churned</th>\n",
       "      <th>monthly_fee</th>\n",
       "    </tr>\n",
       "  </thead>\n",
       "  <tbody>\n",
       "  </tbody>\n",
       "</table>\n",
       "</div>"
      ],
      "text/plain": [
       "Empty DataFrame\n",
       "Columns: [user_id, age, gender, signup_date, last_active_date, country, subscription_type, average_watch_hours, mobile_app_usage_pct, complaints_raised, received_promotions, referred_by_friend, is_churned, monthly_fee]\n",
       "Index: []"
      ]
     },
     "execution_count": 20,
     "metadata": {},
     "output_type": "execute_result"
    }
   ],
   "source": [
    "df[df['age'].isna()]"
   ]
  },
  {
   "cell_type": "code",
   "execution_count": 21,
   "id": "64528330",
   "metadata": {},
   "outputs": [
    {
     "data": {
      "text/plain": [
       "dtype('float64')"
      ]
     },
     "execution_count": 21,
     "metadata": {},
     "output_type": "execute_result"
    }
   ],
   "source": [
    "df['age'].dtype"
   ]
  },
  {
   "cell_type": "code",
   "execution_count": 22,
   "id": "2c5791f1",
   "metadata": {},
   "outputs": [],
   "source": [
    "df['age'] = df['age'].astype('int')"
   ]
  },
  {
   "cell_type": "markdown",
   "id": "5ffb352e",
   "metadata": {},
   "source": [
    "##### Gender"
   ]
  },
  {
   "cell_type": "code",
   "execution_count": 23,
   "metadata": {},
   "outputs": [
    {
     "data": {
      "text/html": [
       "<div>\n",
       "<style scoped>\n",
       "    .dataframe tbody tr th:only-of-type {\n",
       "        vertical-align: middle;\n",
       "    }\n",
       "\n",
       "    .dataframe tbody tr th {\n",
       "        vertical-align: top;\n",
       "    }\n",
       "\n",
       "    .dataframe thead th {\n",
       "        text-align: right;\n",
       "    }\n",
       "</style>\n",
       "<table border=\"1\" class=\"dataframe\">\n",
       "  <thead>\n",
       "    <tr style=\"text-align: right;\">\n",
       "      <th></th>\n",
       "      <th>user_id</th>\n",
       "      <th>age</th>\n",
       "      <th>gender</th>\n",
       "      <th>signup_date</th>\n",
       "      <th>last_active_date</th>\n",
       "      <th>country</th>\n",
       "      <th>subscription_type</th>\n",
       "      <th>average_watch_hours</th>\n",
       "      <th>mobile_app_usage_pct</th>\n",
       "      <th>complaints_raised</th>\n",
       "      <th>received_promotions</th>\n",
       "      <th>referred_by_friend</th>\n",
       "      <th>is_churned</th>\n",
       "      <th>monthly_fee</th>\n",
       "    </tr>\n",
       "  </thead>\n",
       "  <tbody>\n",
       "    <tr>\n",
       "      <th>1095</th>\n",
       "      <td>2096.0</td>\n",
       "      <td>29</td>\n",
       "      <td>NaN</td>\n",
       "      <td>27-08-22</td>\n",
       "      <td>NaN</td>\n",
       "      <td>France</td>\n",
       "      <td>Basic</td>\n",
       "      <td>25.0</td>\n",
       "      <td>63.1</td>\n",
       "      <td>5.0</td>\n",
       "      <td>No</td>\n",
       "      <td>Yes</td>\n",
       "      <td>1.0</td>\n",
       "      <td>5.99</td>\n",
       "    </tr>\n",
       "  </tbody>\n",
       "</table>\n",
       "</div>"
      ],
      "text/plain": [
       "     user_id  age gender signup_date last_active_date country  \\\n",
       "1095  2096.0   29    NaN    27-08-22              NaN  France   \n",
       "\n",
       "     subscription_type  average_watch_hours  mobile_app_usage_pct  \\\n",
       "1095             Basic                 25.0                  63.1   \n",
       "\n",
       "      complaints_raised received_promotions referred_by_friend  is_churned  \\\n",
       "1095                5.0                  No                Yes         1.0   \n",
       "\n",
       "      monthly_fee  \n",
       "1095         5.99  "
      ]
     },
     "execution_count": 23,
     "metadata": {},
     "output_type": "execute_result"
    }
   ],
   "source": [
    "# GENDER\n",
    "df[df['gender'].isna()]"
   ]
  },
  {
   "cell_type": "code",
   "execution_count": 24,
   "id": "e642bc30",
   "metadata": {},
   "outputs": [
    {
     "data": {
      "text/plain": [
       "Female    510\n",
       "Other     506\n",
       "Male      483\n",
       "Name: gender, dtype: int64"
      ]
     },
     "execution_count": 24,
     "metadata": {},
     "output_type": "execute_result"
    }
   ],
   "source": [
    "df['gender'].value_counts()"
   ]
  },
  {
   "cell_type": "code",
   "execution_count": 25,
   "metadata": {},
   "outputs": [
    {
     "data": {
      "text/plain": [
       "Female    98\n",
       "Other     87\n",
       "Male      68\n",
       "Name: gender, dtype: int64"
      ]
     },
     "execution_count": 25,
     "metadata": {},
     "output_type": "execute_result"
    }
   ],
   "source": [
    "df[(df['country'] == 'France')]['gender'].value_counts()"
   ]
  },
  {
   "cell_type": "code",
   "execution_count": 26,
   "id": "351e4cee",
   "metadata": {},
   "outputs": [
    {
     "name": "stderr",
     "output_type": "stream",
     "text": [
      "/var/folders/hy/359lmhr93yndlkvjlcsgw40w0000gn/T/ipykernel_28951/1318192020.py:6: FutureWarning: \n",
      "\n",
      "Passing `palette` without assigning `hue` is deprecated and will be removed in v0.14.0. Assign the `x` variable to `hue` and set `legend=False` for the same effect.\n",
      "\n",
      "  sns.countplot(data=df_france, x='gender', palette='pastel')\n"
     ]
    },
    {
     "data": {
      "image/png": "[encoded data removed]",
      "text/plain": [
       "<Figure size 600x400 with 1 Axes>"
      ]
     },
     "metadata": {},
     "output_type": "display_data"
    }
   ],
   "source": [
    "# Filter French users\n",
    "df_france = df[df['country'] == 'France']\n",
    "\n",
    "# Count plot for gender\n",
    "plt.figure(figsize=(6,4))\n",
    "sns.countplot(data=df_france, x='gender', palette='pastel')\n",
    "plt.title('Gender Distribution of Users from France')\n",
    "plt.xlabel('Gender')\n",
    "plt.ylabel('Count')\n",
    "plt.show()"
   ]
  },
  {
   "cell_type": "code",
   "execution_count": 27,
   "metadata": {},
   "outputs": [],
   "source": [
    "df['gender'].fillna('Female', inplace = True)"
   ]
  },
  {
   "cell_type": "code",
   "execution_count": 28,
   "metadata": {},
   "outputs": [
    {
     "data": {
      "text/html": [
       "<div>\n",
       "<style scoped>\n",
       "    .dataframe tbody tr th:only-of-type {\n",
       "        vertical-align: middle;\n",
       "    }\n",
       "\n",
       "    .dataframe tbody tr th {\n",
       "        vertical-align: top;\n",
       "    }\n",
       "\n",
       "    .dataframe thead th {\n",
       "        text-align: right;\n",
       "    }\n",
       "</style>\n",
       "<table border=\"1\" class=\"dataframe\">\n",
       "  <thead>\n",
       "    <tr style=\"text-align: right;\">\n",
       "      <th></th>\n",
       "      <th>user_id</th>\n",
       "      <th>age</th>\n",
       "      <th>gender</th>\n",
       "      <th>signup_date</th>\n",
       "      <th>last_active_date</th>\n",
       "      <th>country</th>\n",
       "      <th>subscription_type</th>\n",
       "      <th>average_watch_hours</th>\n",
       "      <th>mobile_app_usage_pct</th>\n",
       "      <th>complaints_raised</th>\n",
       "      <th>received_promotions</th>\n",
       "      <th>referred_by_friend</th>\n",
       "      <th>is_churned</th>\n",
       "      <th>monthly_fee</th>\n",
       "    </tr>\n",
       "  </thead>\n",
       "  <tbody>\n",
       "  </tbody>\n",
       "</table>\n",
       "</div>"
      ],
      "text/plain": [
       "Empty DataFrame\n",
       "Columns: [user_id, age, gender, signup_date, last_active_date, country, subscription_type, average_watch_hours, mobile_app_usage_pct, complaints_raised, received_promotions, referred_by_friend, is_churned, monthly_fee]\n",
       "Index: []"
      ]
     },
     "execution_count": 28,
     "metadata": {},
     "output_type": "execute_result"
    }
   ],
   "source": [
    "df[df['gender'].isna()]"
   ]
  },
  {
   "cell_type": "markdown",
   "id": "25ba7b96",
   "metadata": {},
   "source": [
    "##### Signup date"
   ]
  },
  {
   "cell_type": "code",
   "execution_count": 29,
   "id": "a1333bf9",
   "metadata": {},
   "outputs": [],
   "source": [
    "# SIGNUP DATE\n",
    "df['signup_date'] = pd.to_datetime(df['signup_date'], format = '%d-%m-%y')\n"
   ]
  },
  {
   "cell_type": "code",
   "execution_count": 30,
   "metadata": {},
   "outputs": [
    {
     "data": {
      "text/html": [
       "<div>\n",
       "<style scoped>\n",
       "    .dataframe tbody tr th:only-of-type {\n",
       "        vertical-align: middle;\n",
       "    }\n",
       "\n",
       "    .dataframe tbody tr th {\n",
       "        vertical-align: top;\n",
       "    }\n",
       "\n",
       "    .dataframe thead th {\n",
       "        text-align: right;\n",
       "    }\n",
       "</style>\n",
       "<table border=\"1\" class=\"dataframe\">\n",
       "  <thead>\n",
       "    <tr style=\"text-align: right;\">\n",
       "      <th></th>\n",
       "      <th>user_id</th>\n",
       "      <th>age</th>\n",
       "      <th>gender</th>\n",
       "      <th>signup_date</th>\n",
       "      <th>last_active_date</th>\n",
       "      <th>country</th>\n",
       "      <th>subscription_type</th>\n",
       "      <th>average_watch_hours</th>\n",
       "      <th>mobile_app_usage_pct</th>\n",
       "      <th>complaints_raised</th>\n",
       "      <th>received_promotions</th>\n",
       "      <th>referred_by_friend</th>\n",
       "      <th>is_churned</th>\n",
       "      <th>monthly_fee</th>\n",
       "    </tr>\n",
       "  </thead>\n",
       "  <tbody>\n",
       "    <tr>\n",
       "      <th>52</th>\n",
       "      <td>1053.0</td>\n",
       "      <td>26</td>\n",
       "      <td>Male</td>\n",
       "      <td>NaT</td>\n",
       "      <td>13-07-25</td>\n",
       "      <td>Germany</td>\n",
       "      <td>Standard</td>\n",
       "      <td>6.7</td>\n",
       "      <td>49.1</td>\n",
       "      <td>1.0</td>\n",
       "      <td>Yes</td>\n",
       "      <td>Yes</td>\n",
       "      <td>0.0</td>\n",
       "      <td>10.99</td>\n",
       "    </tr>\n",
       "    <tr>\n",
       "      <th>644</th>\n",
       "      <td>1645.0</td>\n",
       "      <td>45</td>\n",
       "      <td>Other</td>\n",
       "      <td>NaT</td>\n",
       "      <td>13-07-25</td>\n",
       "      <td>Germany</td>\n",
       "      <td>Standard</td>\n",
       "      <td>50.7</td>\n",
       "      <td>0.7</td>\n",
       "      <td>0.0</td>\n",
       "      <td>Yes</td>\n",
       "      <td>No</td>\n",
       "      <td>1.0</td>\n",
       "      <td>10.99</td>\n",
       "    </tr>\n",
       "  </tbody>\n",
       "</table>\n",
       "</div>"
      ],
      "text/plain": [
       "    user_id  age gender signup_date last_active_date  country  \\\n",
       "52   1053.0   26   Male         NaT         13-07-25  Germany   \n",
       "644  1645.0   45  Other         NaT         13-07-25  Germany   \n",
       "\n",
       "    subscription_type  average_watch_hours  mobile_app_usage_pct  \\\n",
       "52           Standard                  6.7                  49.1   \n",
       "644          Standard                 50.7                   0.7   \n",
       "\n",
       "     complaints_raised received_promotions referred_by_friend  is_churned  \\\n",
       "52                 1.0                 Yes                Yes         0.0   \n",
       "644                0.0                 Yes                 No         1.0   \n",
       "\n",
       "     monthly_fee  \n",
       "52         10.99  \n",
       "644        10.99  "
      ]
     },
     "execution_count": 30,
     "metadata": {},
     "output_type": "execute_result"
    }
   ],
   "source": [
    "df[df['signup_date'].isna()]"
   ]
  },
  {
   "cell_type": "code",
   "execution_count": 31,
   "metadata": {},
   "outputs": [
    {
     "name": "stderr",
     "output_type": "stream",
     "text": [
      "/var/folders/hy/359lmhr93yndlkvjlcsgw40w0000gn/T/ipykernel_28951/3414994839.py:1: FutureWarning: Treating datetime data as categorical rather than numeric in `.describe` is deprecated and will be removed in a future version of pandas. Specify `datetime_is_numeric=True` to silence this warning and adopt the future behavior now.\n",
      "  df['signup_date'].describe()\n"
     ]
    },
    {
     "data": {
      "text/plain": [
       "count                    1498\n",
       "unique                    819\n",
       "top       2024-05-30 00:00:00\n",
       "freq                        6\n",
       "first     2022-07-14 00:00:00\n",
       "last      2025-07-12 00:00:00\n",
       "Name: signup_date, dtype: object"
      ]
     },
     "execution_count": 31,
     "metadata": {},
     "output_type": "execute_result"
    }
   ],
   "source": [
    "df['signup_date'].describe()"
   ]
  },
  {
   "cell_type": "code",
   "execution_count": 32,
   "metadata": {},
   "outputs": [
    {
     "name": "stderr",
     "output_type": "stream",
     "text": [
      "/var/folders/hy/359lmhr93yndlkvjlcsgw40w0000gn/T/ipykernel_28951/1805736918.py:1: FutureWarning: Treating datetime data as categorical rather than numeric in `.describe` is deprecated and will be removed in a future version of pandas. Specify `datetime_is_numeric=True` to silence this warning and adopt the future behavior now.\n",
      "  df[df['country'] == 'Germany']['signup_date'].describe()\n"
     ]
    },
    {
     "data": {
      "text/plain": [
       "count                     244\n",
       "unique                    225\n",
       "top       2025-03-27 00:00:00\n",
       "freq                        2\n",
       "first     2022-07-28 00:00:00\n",
       "last      2025-07-08 00:00:00\n",
       "Name: signup_date, dtype: object"
      ]
     },
     "execution_count": 32,
     "metadata": {},
     "output_type": "execute_result"
    }
   ],
   "source": [
    "df[df['country'] == 'Germany']['signup_date'].describe()"
   ]
  },
  {
   "cell_type": "code",
   "execution_count": 33,
   "id": "f11a75b4",
   "metadata": {},
   "outputs": [],
   "source": [
    "median_date = df[df['country'] == 'Germany']['signup_date'].median()"
   ]
  },
  {
   "cell_type": "code",
   "execution_count": 34,
   "id": "124e8958",
   "metadata": {},
   "outputs": [
    {
     "data": {
      "image/png": "[encoded data removed]",
      "text/plain": [
       "<Figure size 800x400 with 1 Axes>"
      ]
     },
     "metadata": {},
     "output_type": "display_data"
    }
   ],
   "source": [
    "df_germany = df[df['country']=='Germany']\n",
    "plt.figure(figsize=(8,4))\n",
    "sns.histplot(pd.to_datetime(df_germany['signup_date']), bins=20, color='skyblue')\n",
    "plt.title('Signup Dates Distribution for Germany')\n",
    "plt.xlabel('Signup Date')\n",
    "plt.ylabel('Count')\n",
    "plt.show()"
   ]
  },
  {
   "cell_type": "code",
   "execution_count": 35,
   "id": "cdafd9b9",
   "metadata": {},
   "outputs": [],
   "source": [
    "df['signup_date'].fillna(median_date, inplace= True)"
   ]
  },
  {
   "cell_type": "code",
   "execution_count": 36,
   "id": "30c238b2",
   "metadata": {},
   "outputs": [
    {
     "data": {
      "image/png": "[encoded data removed]",
      "text/plain": [
       "<Figure size 800x400 with 1 Axes>"
      ]
     },
     "metadata": {},
     "output_type": "display_data"
    }
   ],
   "source": [
    "df_germany = df[df['country']=='Germany']\n",
    "plt.figure(figsize=(8,4))\n",
    "sns.histplot(pd.to_datetime(df_germany['signup_date']), bins=20, color='skyblue')\n",
    "plt.title('Signup Dates Distribution for Germany')\n",
    "plt.xlabel('Signup Date')\n",
    "plt.ylabel('Count')\n",
    "plt.show()"
   ]
  },
  {
   "cell_type": "markdown",
   "id": "713bf420",
   "metadata": {},
   "source": [
    "##### last active date"
   ]
  },
  {
   "cell_type": "code",
   "execution_count": 37,
   "id": "f97c2417",
   "metadata": {},
   "outputs": [],
   "source": [
    "# LAST ACTIVE DATE\n",
    "df['last_active_date'] = pd.to_datetime(df['last_active_date'], format = '%d-%m-%y')\n"
   ]
  },
  {
   "cell_type": "code",
   "execution_count": 38,
   "metadata": {},
   "outputs": [
    {
     "data": {
      "text/html": [
       "<div>\n",
       "<style scoped>\n",
       "    .dataframe tbody tr th:only-of-type {\n",
       "        vertical-align: middle;\n",
       "    }\n",
       "\n",
       "    .dataframe tbody tr th {\n",
       "        vertical-align: top;\n",
       "    }\n",
       "\n",
       "    .dataframe thead th {\n",
       "        text-align: right;\n",
       "    }\n",
       "</style>\n",
       "<table border=\"1\" class=\"dataframe\">\n",
       "  <thead>\n",
       "    <tr style=\"text-align: right;\">\n",
       "      <th></th>\n",
       "      <th>user_id</th>\n",
       "      <th>age</th>\n",
       "      <th>gender</th>\n",
       "      <th>signup_date</th>\n",
       "      <th>last_active_date</th>\n",
       "      <th>country</th>\n",
       "      <th>subscription_type</th>\n",
       "      <th>average_watch_hours</th>\n",
       "      <th>mobile_app_usage_pct</th>\n",
       "      <th>complaints_raised</th>\n",
       "      <th>received_promotions</th>\n",
       "      <th>referred_by_friend</th>\n",
       "      <th>is_churned</th>\n",
       "      <th>monthly_fee</th>\n",
       "    </tr>\n",
       "  </thead>\n",
       "  <tbody>\n",
       "    <tr>\n",
       "      <th>101</th>\n",
       "      <td>1102.0</td>\n",
       "      <td>18</td>\n",
       "      <td>Other</td>\n",
       "      <td>2023-07-04</td>\n",
       "      <td>NaT</td>\n",
       "      <td>India</td>\n",
       "      <td>Basic</td>\n",
       "      <td>46.0</td>\n",
       "      <td>93.7</td>\n",
       "      <td>5.0</td>\n",
       "      <td>No</td>\n",
       "      <td>Yes</td>\n",
       "      <td>0.0</td>\n",
       "      <td>6.99</td>\n",
       "    </tr>\n",
       "    <tr>\n",
       "      <th>1095</th>\n",
       "      <td>2096.0</td>\n",
       "      <td>29</td>\n",
       "      <td>Female</td>\n",
       "      <td>2022-08-27</td>\n",
       "      <td>NaT</td>\n",
       "      <td>France</td>\n",
       "      <td>Basic</td>\n",
       "      <td>25.0</td>\n",
       "      <td>63.1</td>\n",
       "      <td>5.0</td>\n",
       "      <td>No</td>\n",
       "      <td>Yes</td>\n",
       "      <td>1.0</td>\n",
       "      <td>5.99</td>\n",
       "    </tr>\n",
       "  </tbody>\n",
       "</table>\n",
       "</div>"
      ],
      "text/plain": [
       "     user_id  age  gender signup_date last_active_date country  \\\n",
       "101   1102.0   18   Other  2023-07-04              NaT   India   \n",
       "1095  2096.0   29  Female  2022-08-27              NaT  France   \n",
       "\n",
       "     subscription_type  average_watch_hours  mobile_app_usage_pct  \\\n",
       "101              Basic                 46.0                  93.7   \n",
       "1095             Basic                 25.0                  63.1   \n",
       "\n",
       "      complaints_raised received_promotions referred_by_friend  is_churned  \\\n",
       "101                 5.0                  No                Yes         0.0   \n",
       "1095                5.0                  No                Yes         1.0   \n",
       "\n",
       "      monthly_fee  \n",
       "101          6.99  \n",
       "1095         5.99  "
      ]
     },
     "execution_count": 38,
     "metadata": {},
     "output_type": "execute_result"
    }
   ],
   "source": [
    "df[df['last_active_date'].isna()]"
   ]
  },
  {
   "cell_type": "code",
   "execution_count": 39,
   "metadata": {},
   "outputs": [
    {
     "name": "stderr",
     "output_type": "stream",
     "text": [
      "/var/folders/hy/359lmhr93yndlkvjlcsgw40w0000gn/T/ipykernel_28951/715893378.py:1: FutureWarning: Treating datetime data as categorical rather than numeric in `.describe` is deprecated and will be removed in a future version of pandas. Specify `datetime_is_numeric=True` to silence this warning and adopt the future behavior now.\n",
      "  df['last_active_date'].describe()\n"
     ]
    },
    {
     "data": {
      "text/plain": [
       "count                    1498\n",
       "unique                      1\n",
       "top       2025-07-13 00:00:00\n",
       "freq                     1498\n",
       "first     2025-07-13 00:00:00\n",
       "last      2025-07-13 00:00:00\n",
       "Name: last_active_date, dtype: object"
      ]
     },
     "execution_count": 39,
     "metadata": {},
     "output_type": "execute_result"
    }
   ],
   "source": [
    "df['last_active_date'].describe()"
   ]
  },
  {
   "cell_type": "code",
   "execution_count": 40,
   "metadata": {},
   "outputs": [
    {
     "data": {
      "text/plain": [
       "2025-07-13    1498\n",
       "Name: last_active_date, dtype: int64"
      ]
     },
     "execution_count": 40,
     "metadata": {},
     "output_type": "execute_result"
    }
   ],
   "source": [
    "df['last_active_date'].value_counts()"
   ]
  },
  {
   "cell_type": "code",
   "execution_count": 41,
   "id": "5451c207",
   "metadata": {},
   "outputs": [
    {
     "data": {
      "text/plain": [
       "0   2025-07-13\n",
       "Name: last_active_date, dtype: datetime64[ns]"
      ]
     },
     "execution_count": 41,
     "metadata": {},
     "output_type": "execute_result"
    }
   ],
   "source": [
    "df['last_active_date'].mode()"
   ]
  },
  {
   "cell_type": "code",
   "execution_count": 42,
   "id": "7d7d97c5",
   "metadata": {},
   "outputs": [],
   "source": [
    "df['last_active_date'].fillna(df['last_active_date'].mode()[0], inplace = True)"
   ]
  },
  {
   "cell_type": "code",
   "execution_count": 43,
   "id": "4c5fc2e6",
   "metadata": {},
   "outputs": [
    {
     "data": {
      "text/html": [
       "<div>\n",
       "<style scoped>\n",
       "    .dataframe tbody tr th:only-of-type {\n",
       "        vertical-align: middle;\n",
       "    }\n",
       "\n",
       "    .dataframe tbody tr th {\n",
       "        vertical-align: top;\n",
       "    }\n",
       "\n",
       "    .dataframe thead th {\n",
       "        text-align: right;\n",
       "    }\n",
       "</style>\n",
       "<table border=\"1\" class=\"dataframe\">\n",
       "  <thead>\n",
       "    <tr style=\"text-align: right;\">\n",
       "      <th></th>\n",
       "      <th>user_id</th>\n",
       "      <th>age</th>\n",
       "      <th>gender</th>\n",
       "      <th>signup_date</th>\n",
       "      <th>last_active_date</th>\n",
       "      <th>country</th>\n",
       "      <th>subscription_type</th>\n",
       "      <th>average_watch_hours</th>\n",
       "      <th>mobile_app_usage_pct</th>\n",
       "      <th>complaints_raised</th>\n",
       "      <th>received_promotions</th>\n",
       "      <th>referred_by_friend</th>\n",
       "      <th>is_churned</th>\n",
       "      <th>monthly_fee</th>\n",
       "    </tr>\n",
       "  </thead>\n",
       "  <tbody>\n",
       "  </tbody>\n",
       "</table>\n",
       "</div>"
      ],
      "text/plain": [
       "Empty DataFrame\n",
       "Columns: [user_id, age, gender, signup_date, last_active_date, country, subscription_type, average_watch_hours, mobile_app_usage_pct, complaints_raised, received_promotions, referred_by_friend, is_churned, monthly_fee]\n",
       "Index: []"
      ]
     },
     "execution_count": 43,
     "metadata": {},
     "output_type": "execute_result"
    }
   ],
   "source": [
    "df[df['last_active_date'].isna()]"
   ]
  },
  {
   "cell_type": "markdown",
   "id": "71364293",
   "metadata": {},
   "source": [
    "##### Country"
   ]
  },
  {
   "cell_type": "code",
   "execution_count": 44,
   "id": "5d4f2b47",
   "metadata": {},
   "outputs": [
    {
     "data": {
      "text/plain": [
       "Canada     262\n",
       "India      259\n",
       "France     254\n",
       "Germany    246\n",
       "UK         241\n",
       "USA        235\n",
       "Name: country, dtype: int64"
      ]
     },
     "execution_count": 44,
     "metadata": {},
     "output_type": "execute_result"
    }
   ],
   "source": [
    "# COUNTRY\n",
    "df['country'].value_counts()"
   ]
  },
  {
   "cell_type": "code",
   "execution_count": 45,
   "id": "d883e184",
   "metadata": {},
   "outputs": [
    {
     "data": {
      "text/html": [
       "<div>\n",
       "<style scoped>\n",
       "    .dataframe tbody tr th:only-of-type {\n",
       "        vertical-align: middle;\n",
       "    }\n",
       "\n",
       "    .dataframe tbody tr th {\n",
       "        vertical-align: top;\n",
       "    }\n",
       "\n",
       "    .dataframe thead th {\n",
       "        text-align: right;\n",
       "    }\n",
       "</style>\n",
       "<table border=\"1\" class=\"dataframe\">\n",
       "  <thead>\n",
       "    <tr style=\"text-align: right;\">\n",
       "      <th></th>\n",
       "      <th>user_id</th>\n",
       "      <th>age</th>\n",
       "      <th>gender</th>\n",
       "      <th>signup_date</th>\n",
       "      <th>last_active_date</th>\n",
       "      <th>country</th>\n",
       "      <th>subscription_type</th>\n",
       "      <th>average_watch_hours</th>\n",
       "      <th>mobile_app_usage_pct</th>\n",
       "      <th>complaints_raised</th>\n",
       "      <th>received_promotions</th>\n",
       "      <th>referred_by_friend</th>\n",
       "      <th>is_churned</th>\n",
       "      <th>monthly_fee</th>\n",
       "    </tr>\n",
       "  </thead>\n",
       "  <tbody>\n",
       "    <tr>\n",
       "      <th>531</th>\n",
       "      <td>1532.0</td>\n",
       "      <td>47</td>\n",
       "      <td>Female</td>\n",
       "      <td>2023-01-23</td>\n",
       "      <td>2025-07-13</td>\n",
       "      <td>NaN</td>\n",
       "      <td>Basic</td>\n",
       "      <td>60.3</td>\n",
       "      <td>54.9</td>\n",
       "      <td>1.0</td>\n",
       "      <td>Yes</td>\n",
       "      <td>Yes</td>\n",
       "      <td>0.0</td>\n",
       "      <td>5.99</td>\n",
       "    </tr>\n",
       "    <tr>\n",
       "      <th>1125</th>\n",
       "      <td>2126.0</td>\n",
       "      <td>28</td>\n",
       "      <td>Female</td>\n",
       "      <td>2025-01-30</td>\n",
       "      <td>2025-07-13</td>\n",
       "      <td>NaN</td>\n",
       "      <td>Standard</td>\n",
       "      <td>NaN</td>\n",
       "      <td>28.2</td>\n",
       "      <td>NaN</td>\n",
       "      <td>No</td>\n",
       "      <td>NaN</td>\n",
       "      <td>0.0</td>\n",
       "      <td>9.99</td>\n",
       "    </tr>\n",
       "    <tr>\n",
       "      <th>1482</th>\n",
       "      <td>2483.0</td>\n",
       "      <td>19</td>\n",
       "      <td>Other</td>\n",
       "      <td>2024-06-24</td>\n",
       "      <td>2025-07-13</td>\n",
       "      <td>NaN</td>\n",
       "      <td>Premium</td>\n",
       "      <td>33.4</td>\n",
       "      <td>44.1</td>\n",
       "      <td>1.0</td>\n",
       "      <td>No</td>\n",
       "      <td>No</td>\n",
       "      <td>0.0</td>\n",
       "      <td>13.99</td>\n",
       "    </tr>\n",
       "  </tbody>\n",
       "</table>\n",
       "</div>"
      ],
      "text/plain": [
       "     user_id  age  gender signup_date last_active_date country  \\\n",
       "531   1532.0   47  Female  2023-01-23       2025-07-13     NaN   \n",
       "1125  2126.0   28  Female  2025-01-30       2025-07-13     NaN   \n",
       "1482  2483.0   19   Other  2024-06-24       2025-07-13     NaN   \n",
       "\n",
       "     subscription_type  average_watch_hours  mobile_app_usage_pct  \\\n",
       "531              Basic                 60.3                  54.9   \n",
       "1125          Standard                  NaN                  28.2   \n",
       "1482           Premium                 33.4                  44.1   \n",
       "\n",
       "      complaints_raised received_promotions referred_by_friend  is_churned  \\\n",
       "531                 1.0                 Yes                Yes         0.0   \n",
       "1125                NaN                  No                NaN         0.0   \n",
       "1482                1.0                  No                 No         0.0   \n",
       "\n",
       "      monthly_fee  \n",
       "531          5.99  \n",
       "1125         9.99  \n",
       "1482        13.99  "
      ]
     },
     "execution_count": 45,
     "metadata": {},
     "output_type": "execute_result"
    }
   ],
   "source": [
    "df[df['country'].isna()]"
   ]
  },
  {
   "cell_type": "code",
   "execution_count": 46,
   "id": "ffdb030e",
   "metadata": {},
   "outputs": [
    {
     "data": {
      "text/html": [
       "<div>\n",
       "<style scoped>\n",
       "    .dataframe tbody tr th:only-of-type {\n",
       "        vertical-align: middle;\n",
       "    }\n",
       "\n",
       "    .dataframe tbody tr th {\n",
       "        vertical-align: top;\n",
       "    }\n",
       "\n",
       "    .dataframe thead th {\n",
       "        text-align: right;\n",
       "    }\n",
       "</style>\n",
       "<table border=\"1\" class=\"dataframe\">\n",
       "  <thead>\n",
       "    <tr style=\"text-align: right;\">\n",
       "      <th>country</th>\n",
       "      <th>Canada</th>\n",
       "      <th>France</th>\n",
       "      <th>Germany</th>\n",
       "      <th>India</th>\n",
       "      <th>UK</th>\n",
       "      <th>USA</th>\n",
       "    </tr>\n",
       "    <tr>\n",
       "      <th>gender</th>\n",
       "      <th></th>\n",
       "      <th></th>\n",
       "      <th></th>\n",
       "      <th></th>\n",
       "      <th></th>\n",
       "      <th></th>\n",
       "    </tr>\n",
       "  </thead>\n",
       "  <tbody>\n",
       "    <tr>\n",
       "      <th>Female</th>\n",
       "      <td>90</td>\n",
       "      <td>99</td>\n",
       "      <td>85</td>\n",
       "      <td>76</td>\n",
       "      <td>78</td>\n",
       "      <td>81</td>\n",
       "    </tr>\n",
       "    <tr>\n",
       "      <th>Male</th>\n",
       "      <td>79</td>\n",
       "      <td>68</td>\n",
       "      <td>89</td>\n",
       "      <td>91</td>\n",
       "      <td>79</td>\n",
       "      <td>77</td>\n",
       "    </tr>\n",
       "    <tr>\n",
       "      <th>Other</th>\n",
       "      <td>93</td>\n",
       "      <td>87</td>\n",
       "      <td>72</td>\n",
       "      <td>92</td>\n",
       "      <td>84</td>\n",
       "      <td>77</td>\n",
       "    </tr>\n",
       "  </tbody>\n",
       "</table>\n",
       "</div>"
      ],
      "text/plain": [
       "country  Canada  France  Germany  India  UK  USA\n",
       "gender                                          \n",
       "Female       90      99       85     76  78   81\n",
       "Male         79      68       89     91  79   77\n",
       "Other        93      87       72     92  84   77"
      ]
     },
     "execution_count": 46,
     "metadata": {},
     "output_type": "execute_result"
    }
   ],
   "source": [
    "df.groupby('gender')['country'].value_counts().unstack()"
   ]
  },
  {
   "cell_type": "code",
   "execution_count": 47,
   "id": "dd084e84",
   "metadata": {},
   "outputs": [],
   "source": [
    "df['country'] = df.groupby('gender')['country'].transform(lambda x: x.fillna(x.mode()[0]))"
   ]
  },
  {
   "cell_type": "code",
   "execution_count": 48,
   "id": "9fc62b84",
   "metadata": {},
   "outputs": [
    {
     "data": {
      "text/html": [
       "<div>\n",
       "<style scoped>\n",
       "    .dataframe tbody tr th:only-of-type {\n",
       "        vertical-align: middle;\n",
       "    }\n",
       "\n",
       "    .dataframe tbody tr th {\n",
       "        vertical-align: top;\n",
       "    }\n",
       "\n",
       "    .dataframe thead th {\n",
       "        text-align: right;\n",
       "    }\n",
       "</style>\n",
       "<table border=\"1\" class=\"dataframe\">\n",
       "  <thead>\n",
       "    <tr style=\"text-align: right;\">\n",
       "      <th></th>\n",
       "      <th>user_id</th>\n",
       "      <th>age</th>\n",
       "      <th>gender</th>\n",
       "      <th>signup_date</th>\n",
       "      <th>last_active_date</th>\n",
       "      <th>country</th>\n",
       "      <th>subscription_type</th>\n",
       "      <th>average_watch_hours</th>\n",
       "      <th>mobile_app_usage_pct</th>\n",
       "      <th>complaints_raised</th>\n",
       "      <th>received_promotions</th>\n",
       "      <th>referred_by_friend</th>\n",
       "      <th>is_churned</th>\n",
       "      <th>monthly_fee</th>\n",
       "    </tr>\n",
       "  </thead>\n",
       "  <tbody>\n",
       "  </tbody>\n",
       "</table>\n",
       "</div>"
      ],
      "text/plain": [
       "Empty DataFrame\n",
       "Columns: [user_id, age, gender, signup_date, last_active_date, country, subscription_type, average_watch_hours, mobile_app_usage_pct, complaints_raised, received_promotions, referred_by_friend, is_churned, monthly_fee]\n",
       "Index: []"
      ]
     },
     "execution_count": 48,
     "metadata": {},
     "output_type": "execute_result"
    }
   ],
   "source": [
    "df[df['country'].isna()]"
   ]
  },
  {
   "cell_type": "markdown",
   "id": "9e3db9ca",
   "metadata": {},
   "source": [
    "##### Subscription Type"
   ]
  },
  {
   "cell_type": "code",
   "execution_count": 49,
   "id": "d2511b6b",
   "metadata": {},
   "outputs": [
    {
     "data": {
      "text/plain": [
       "Basic       505\n",
       "Premium     499\n",
       "Standard    493\n",
       "Name: subscription_type, dtype: int64"
      ]
     },
     "execution_count": 49,
     "metadata": {},
     "output_type": "execute_result"
    }
   ],
   "source": [
    "# SUBSCRIPTION TYPE\n",
    "df['subscription_type'].value_counts()"
   ]
  },
  {
   "cell_type": "code",
   "execution_count": 50,
   "id": "536f2cd3",
   "metadata": {},
   "outputs": [
    {
     "data": {
      "text/html": [
       "<div>\n",
       "<style scoped>\n",
       "    .dataframe tbody tr th:only-of-type {\n",
       "        vertical-align: middle;\n",
       "    }\n",
       "\n",
       "    .dataframe tbody tr th {\n",
       "        vertical-align: top;\n",
       "    }\n",
       "\n",
       "    .dataframe thead th {\n",
       "        text-align: right;\n",
       "    }\n",
       "</style>\n",
       "<table border=\"1\" class=\"dataframe\">\n",
       "  <thead>\n",
       "    <tr style=\"text-align: right;\">\n",
       "      <th></th>\n",
       "      <th>user_id</th>\n",
       "      <th>age</th>\n",
       "      <th>gender</th>\n",
       "      <th>signup_date</th>\n",
       "      <th>last_active_date</th>\n",
       "      <th>country</th>\n",
       "      <th>subscription_type</th>\n",
       "      <th>average_watch_hours</th>\n",
       "      <th>mobile_app_usage_pct</th>\n",
       "      <th>complaints_raised</th>\n",
       "      <th>received_promotions</th>\n",
       "      <th>referred_by_friend</th>\n",
       "      <th>is_churned</th>\n",
       "      <th>monthly_fee</th>\n",
       "    </tr>\n",
       "  </thead>\n",
       "  <tbody>\n",
       "    <tr>\n",
       "      <th>110</th>\n",
       "      <td>1111.0</td>\n",
       "      <td>28</td>\n",
       "      <td>Female</td>\n",
       "      <td>2023-06-09</td>\n",
       "      <td>2025-07-13</td>\n",
       "      <td>France</td>\n",
       "      <td>NaN</td>\n",
       "      <td>37.2</td>\n",
       "      <td>68.7</td>\n",
       "      <td>4.0</td>\n",
       "      <td>Yes</td>\n",
       "      <td>Yes</td>\n",
       "      <td>0.0</td>\n",
       "      <td>9.99</td>\n",
       "    </tr>\n",
       "    <tr>\n",
       "      <th>145</th>\n",
       "      <td>1146.0</td>\n",
       "      <td>22</td>\n",
       "      <td>Other</td>\n",
       "      <td>2024-07-10</td>\n",
       "      <td>2025-07-13</td>\n",
       "      <td>Canada</td>\n",
       "      <td>NaN</td>\n",
       "      <td>78.6</td>\n",
       "      <td>86.7</td>\n",
       "      <td>0.0</td>\n",
       "      <td>No</td>\n",
       "      <td>No</td>\n",
       "      <td>0.0</td>\n",
       "      <td>13.99</td>\n",
       "    </tr>\n",
       "    <tr>\n",
       "      <th>1094</th>\n",
       "      <td>2095.0</td>\n",
       "      <td>66</td>\n",
       "      <td>Other</td>\n",
       "      <td>2023-01-18</td>\n",
       "      <td>2025-07-13</td>\n",
       "      <td>India</td>\n",
       "      <td>NaN</td>\n",
       "      <td>NaN</td>\n",
       "      <td>20.7</td>\n",
       "      <td>3.0</td>\n",
       "      <td>Yes</td>\n",
       "      <td>Yes</td>\n",
       "      <td>0.0</td>\n",
       "      <td>9.99</td>\n",
       "    </tr>\n",
       "  </tbody>\n",
       "</table>\n",
       "</div>"
      ],
      "text/plain": [
       "     user_id  age  gender signup_date last_active_date country  \\\n",
       "110   1111.0   28  Female  2023-06-09       2025-07-13  France   \n",
       "145   1146.0   22   Other  2024-07-10       2025-07-13  Canada   \n",
       "1094  2095.0   66   Other  2023-01-18       2025-07-13   India   \n",
       "\n",
       "     subscription_type  average_watch_hours  mobile_app_usage_pct  \\\n",
       "110                NaN                 37.2                  68.7   \n",
       "145                NaN                 78.6                  86.7   \n",
       "1094               NaN                  NaN                  20.7   \n",
       "\n",
       "      complaints_raised received_promotions referred_by_friend  is_churned  \\\n",
       "110                 4.0                 Yes                Yes         0.0   \n",
       "145                 0.0                  No                 No         0.0   \n",
       "1094                3.0                 Yes                Yes         0.0   \n",
       "\n",
       "      monthly_fee  \n",
       "110          9.99  \n",
       "145         13.99  \n",
       "1094         9.99  "
      ]
     },
     "execution_count": 50,
     "metadata": {},
     "output_type": "execute_result"
    }
   ],
   "source": [
    "df[df['subscription_type'].isna()]"
   ]
  },
  {
   "cell_type": "code",
   "execution_count": 51,
   "id": "fdbabec5",
   "metadata": {},
   "outputs": [
    {
     "data": {
      "text/html": [
       "<div>\n",
       "<style scoped>\n",
       "    .dataframe tbody tr th:only-of-type {\n",
       "        vertical-align: middle;\n",
       "    }\n",
       "\n",
       "    .dataframe tbody tr th {\n",
       "        vertical-align: top;\n",
       "    }\n",
       "\n",
       "    .dataframe thead th {\n",
       "        text-align: right;\n",
       "    }\n",
       "</style>\n",
       "<table border=\"1\" class=\"dataframe\">\n",
       "  <thead>\n",
       "    <tr style=\"text-align: right;\">\n",
       "      <th>monthly_fee</th>\n",
       "      <th>5.99</th>\n",
       "      <th>6.99</th>\n",
       "      <th>9.99</th>\n",
       "      <th>10.99</th>\n",
       "      <th>13.99</th>\n",
       "      <th>14.99</th>\n",
       "    </tr>\n",
       "    <tr>\n",
       "      <th>subscription_type</th>\n",
       "      <th></th>\n",
       "      <th></th>\n",
       "      <th></th>\n",
       "      <th></th>\n",
       "      <th></th>\n",
       "      <th></th>\n",
       "    </tr>\n",
       "  </thead>\n",
       "  <tbody>\n",
       "    <tr>\n",
       "      <th>Basic</th>\n",
       "      <td>352</td>\n",
       "      <td>112</td>\n",
       "      <td>0</td>\n",
       "      <td>0</td>\n",
       "      <td>0</td>\n",
       "      <td>0</td>\n",
       "    </tr>\n",
       "    <tr>\n",
       "      <th>Premium</th>\n",
       "      <td>0</td>\n",
       "      <td>0</td>\n",
       "      <td>0</td>\n",
       "      <td>0</td>\n",
       "      <td>343</td>\n",
       "      <td>106</td>\n",
       "    </tr>\n",
       "    <tr>\n",
       "      <th>Standard</th>\n",
       "      <td>0</td>\n",
       "      <td>0</td>\n",
       "      <td>343</td>\n",
       "      <td>96</td>\n",
       "      <td>0</td>\n",
       "      <td>0</td>\n",
       "    </tr>\n",
       "  </tbody>\n",
       "</table>\n",
       "</div>"
      ],
      "text/plain": [
       "monthly_fee        5.99   6.99   9.99   10.99  13.99  14.99\n",
       "subscription_type                                          \n",
       "Basic                352    112      0      0      0      0\n",
       "Premium                0      0      0      0    343    106\n",
       "Standard               0      0    343     96      0      0"
      ]
     },
     "execution_count": 51,
     "metadata": {},
     "output_type": "execute_result"
    }
   ],
   "source": [
    "df.groupby(['subscription_type'])['monthly_fee'].value_counts().unstack(fill_value=0)"
   ]
  },
  {
   "cell_type": "code",
   "execution_count": 52,
   "id": "49bab9b6",
   "metadata": {},
   "outputs": [],
   "source": [
    "fee_to_type = {5.99: 'Basic', 6.99: 'Basic', 9.99: 'Standard', 10.99: 'Standard', 13.99: 'Premium', 14.99: 'Premium'}\n",
    "df['subscription_type'] = df.apply(lambda row: fee_to_type.get(row['monthly_fee'], row['subscription_type']), axis = 1)\n"
   ]
  },
  {
   "cell_type": "code",
   "execution_count": 53,
   "id": "7040348a",
   "metadata": {},
   "outputs": [
    {
     "data": {
      "text/html": [
       "<div>\n",
       "<style scoped>\n",
       "    .dataframe tbody tr th:only-of-type {\n",
       "        vertical-align: middle;\n",
       "    }\n",
       "\n",
       "    .dataframe tbody tr th {\n",
       "        vertical-align: top;\n",
       "    }\n",
       "\n",
       "    .dataframe thead th {\n",
       "        text-align: right;\n",
       "    }\n",
       "</style>\n",
       "<table border=\"1\" class=\"dataframe\">\n",
       "  <thead>\n",
       "    <tr style=\"text-align: right;\">\n",
       "      <th></th>\n",
       "      <th>user_id</th>\n",
       "      <th>age</th>\n",
       "      <th>gender</th>\n",
       "      <th>signup_date</th>\n",
       "      <th>last_active_date</th>\n",
       "      <th>country</th>\n",
       "      <th>subscription_type</th>\n",
       "      <th>average_watch_hours</th>\n",
       "      <th>mobile_app_usage_pct</th>\n",
       "      <th>complaints_raised</th>\n",
       "      <th>received_promotions</th>\n",
       "      <th>referred_by_friend</th>\n",
       "      <th>is_churned</th>\n",
       "      <th>monthly_fee</th>\n",
       "    </tr>\n",
       "  </thead>\n",
       "  <tbody>\n",
       "  </tbody>\n",
       "</table>\n",
       "</div>"
      ],
      "text/plain": [
       "Empty DataFrame\n",
       "Columns: [user_id, age, gender, signup_date, last_active_date, country, subscription_type, average_watch_hours, mobile_app_usage_pct, complaints_raised, received_promotions, referred_by_friend, is_churned, monthly_fee]\n",
       "Index: []"
      ]
     },
     "execution_count": 53,
     "metadata": {},
     "output_type": "execute_result"
    }
   ],
   "source": [
    "df[df['subscription_type'].isna()]"
   ]
  },
  {
   "cell_type": "markdown",
   "id": "c89260c0",
   "metadata": {},
   "source": [
    "##### Average Watch Hours"
   ]
  },
  {
   "cell_type": "code",
   "execution_count": 54,
   "id": "57c5bb58",
   "metadata": {},
   "outputs": [
    {
     "data": {
      "text/plain": [
       "count    1496.000000\n",
       "mean       39.903342\n",
       "std        22.978288\n",
       "min         0.500000\n",
       "25%        19.450000\n",
       "50%        40.300000\n",
       "75%        59.800000\n",
       "max        79.900000\n",
       "Name: average_watch_hours, dtype: float64"
      ]
     },
     "execution_count": 54,
     "metadata": {},
     "output_type": "execute_result"
    }
   ],
   "source": [
    "df['average_watch_hours'].describe()"
   ]
  },
  {
   "cell_type": "code",
   "execution_count": 55,
   "id": "5f58eaa6",
   "metadata": {},
   "outputs": [
    {
     "data": {
      "text/html": [
       "<div>\n",
       "<style scoped>\n",
       "    .dataframe tbody tr th:only-of-type {\n",
       "        vertical-align: middle;\n",
       "    }\n",
       "\n",
       "    .dataframe tbody tr th {\n",
       "        vertical-align: top;\n",
       "    }\n",
       "\n",
       "    .dataframe thead th {\n",
       "        text-align: right;\n",
       "    }\n",
       "</style>\n",
       "<table border=\"1\" class=\"dataframe\">\n",
       "  <thead>\n",
       "    <tr style=\"text-align: right;\">\n",
       "      <th></th>\n",
       "      <th>user_id</th>\n",
       "      <th>age</th>\n",
       "      <th>gender</th>\n",
       "      <th>signup_date</th>\n",
       "      <th>last_active_date</th>\n",
       "      <th>country</th>\n",
       "      <th>subscription_type</th>\n",
       "      <th>average_watch_hours</th>\n",
       "      <th>mobile_app_usage_pct</th>\n",
       "      <th>complaints_raised</th>\n",
       "      <th>received_promotions</th>\n",
       "      <th>referred_by_friend</th>\n",
       "      <th>is_churned</th>\n",
       "      <th>monthly_fee</th>\n",
       "    </tr>\n",
       "  </thead>\n",
       "  <tbody>\n",
       "    <tr>\n",
       "      <th>111</th>\n",
       "      <td>1112.0</td>\n",
       "      <td>68</td>\n",
       "      <td>Female</td>\n",
       "      <td>2025-04-27</td>\n",
       "      <td>2025-07-13</td>\n",
       "      <td>Canada</td>\n",
       "      <td>Standard</td>\n",
       "      <td>NaN</td>\n",
       "      <td>2.4</td>\n",
       "      <td>2.0</td>\n",
       "      <td>Yes</td>\n",
       "      <td>Yes</td>\n",
       "      <td>1.0</td>\n",
       "      <td>9.99</td>\n",
       "    </tr>\n",
       "    <tr>\n",
       "      <th>438</th>\n",
       "      <td>1439.0</td>\n",
       "      <td>29</td>\n",
       "      <td>Male</td>\n",
       "      <td>2023-03-01</td>\n",
       "      <td>2025-07-13</td>\n",
       "      <td>India</td>\n",
       "      <td>Basic</td>\n",
       "      <td>NaN</td>\n",
       "      <td>88.9</td>\n",
       "      <td>1.0</td>\n",
       "      <td>Yes</td>\n",
       "      <td>Yes</td>\n",
       "      <td>0.0</td>\n",
       "      <td>5.99</td>\n",
       "    </tr>\n",
       "    <tr>\n",
       "      <th>1094</th>\n",
       "      <td>2095.0</td>\n",
       "      <td>66</td>\n",
       "      <td>Other</td>\n",
       "      <td>2023-01-18</td>\n",
       "      <td>2025-07-13</td>\n",
       "      <td>India</td>\n",
       "      <td>Standard</td>\n",
       "      <td>NaN</td>\n",
       "      <td>20.7</td>\n",
       "      <td>3.0</td>\n",
       "      <td>Yes</td>\n",
       "      <td>Yes</td>\n",
       "      <td>0.0</td>\n",
       "      <td>9.99</td>\n",
       "    </tr>\n",
       "    <tr>\n",
       "      <th>1125</th>\n",
       "      <td>2126.0</td>\n",
       "      <td>28</td>\n",
       "      <td>Female</td>\n",
       "      <td>2025-01-30</td>\n",
       "      <td>2025-07-13</td>\n",
       "      <td>France</td>\n",
       "      <td>Standard</td>\n",
       "      <td>NaN</td>\n",
       "      <td>28.2</td>\n",
       "      <td>NaN</td>\n",
       "      <td>No</td>\n",
       "      <td>NaN</td>\n",
       "      <td>0.0</td>\n",
       "      <td>9.99</td>\n",
       "    </tr>\n",
       "  </tbody>\n",
       "</table>\n",
       "</div>"
      ],
      "text/plain": [
       "     user_id  age  gender signup_date last_active_date country  \\\n",
       "111   1112.0   68  Female  2025-04-27       2025-07-13  Canada   \n",
       "438   1439.0   29    Male  2023-03-01       2025-07-13   India   \n",
       "1094  2095.0   66   Other  2023-01-18       2025-07-13   India   \n",
       "1125  2126.0   28  Female  2025-01-30       2025-07-13  France   \n",
       "\n",
       "     subscription_type  average_watch_hours  mobile_app_usage_pct  \\\n",
       "111           Standard                  NaN                   2.4   \n",
       "438              Basic                  NaN                  88.9   \n",
       "1094          Standard                  NaN                  20.7   \n",
       "1125          Standard                  NaN                  28.2   \n",
       "\n",
       "      complaints_raised received_promotions referred_by_friend  is_churned  \\\n",
       "111                 2.0                 Yes                Yes         1.0   \n",
       "438                 1.0                 Yes                Yes         0.0   \n",
       "1094                3.0                 Yes                Yes         0.0   \n",
       "1125                NaN                  No                NaN         0.0   \n",
       "\n",
       "      monthly_fee  \n",
       "111          9.99  \n",
       "438          5.99  \n",
       "1094         9.99  \n",
       "1125         9.99  "
      ]
     },
     "execution_count": 55,
     "metadata": {},
     "output_type": "execute_result"
    }
   ],
   "source": [
    "df[df['average_watch_hours'].isna()]"
   ]
  },
  {
   "cell_type": "code",
   "execution_count": 56,
   "id": "763ab294",
   "metadata": {},
   "outputs": [
    {
     "data": {
      "text/html": [
       "<div>\n",
       "<style scoped>\n",
       "    .dataframe tbody tr th:only-of-type {\n",
       "        vertical-align: middle;\n",
       "    }\n",
       "\n",
       "    .dataframe tbody tr th {\n",
       "        vertical-align: top;\n",
       "    }\n",
       "\n",
       "    .dataframe thead th {\n",
       "        text-align: right;\n",
       "    }\n",
       "</style>\n",
       "<table border=\"1\" class=\"dataframe\">\n",
       "  <thead>\n",
       "    <tr style=\"text-align: right;\">\n",
       "      <th>gender</th>\n",
       "      <th>Female</th>\n",
       "      <th>Male</th>\n",
       "      <th>Other</th>\n",
       "    </tr>\n",
       "    <tr>\n",
       "      <th>subscription_type</th>\n",
       "      <th></th>\n",
       "      <th></th>\n",
       "      <th></th>\n",
       "    </tr>\n",
       "  </thead>\n",
       "  <tbody>\n",
       "    <tr>\n",
       "      <th>Basic</th>\n",
       "      <td>40.221762</td>\n",
       "      <td>40.256081</td>\n",
       "      <td>39.603681</td>\n",
       "    </tr>\n",
       "    <tr>\n",
       "      <th>Premium</th>\n",
       "      <td>42.419048</td>\n",
       "      <td>36.063043</td>\n",
       "      <td>39.634320</td>\n",
       "    </tr>\n",
       "    <tr>\n",
       "      <th>Standard</th>\n",
       "      <td>40.466864</td>\n",
       "      <td>37.530667</td>\n",
       "      <td>43.245087</td>\n",
       "    </tr>\n",
       "  </tbody>\n",
       "</table>\n",
       "</div>"
      ],
      "text/plain": [
       "gender                Female       Male      Other\n",
       "subscription_type                                 \n",
       "Basic              40.221762  40.256081  39.603681\n",
       "Premium            42.419048  36.063043  39.634320\n",
       "Standard           40.466864  37.530667  43.245087"
      ]
     },
     "execution_count": 56,
     "metadata": {},
     "output_type": "execute_result"
    }
   ],
   "source": [
    "df.groupby(['subscription_type', 'gender'])['average_watch_hours'].mean().unstack()\n"
   ]
  },
  {
   "cell_type": "code",
   "execution_count": 57,
   "id": "3161daba",
   "metadata": {},
   "outputs": [
    {
     "data": {
      "text/html": [
       "<div>\n",
       "<style scoped>\n",
       "    .dataframe tbody tr th:only-of-type {\n",
       "        vertical-align: middle;\n",
       "    }\n",
       "\n",
       "    .dataframe tbody tr th {\n",
       "        vertical-align: top;\n",
       "    }\n",
       "\n",
       "    .dataframe thead th {\n",
       "        text-align: right;\n",
       "    }\n",
       "</style>\n",
       "<table border=\"1\" class=\"dataframe\">\n",
       "  <thead>\n",
       "    <tr style=\"text-align: right;\">\n",
       "      <th>age</th>\n",
       "      <th>(0, 25]</th>\n",
       "      <th>(25, 40]</th>\n",
       "      <th>(40, 60]</th>\n",
       "      <th>(60, 100]</th>\n",
       "    </tr>\n",
       "    <tr>\n",
       "      <th>subscription_type</th>\n",
       "      <th></th>\n",
       "      <th></th>\n",
       "      <th></th>\n",
       "      <th></th>\n",
       "    </tr>\n",
       "  </thead>\n",
       "  <tbody>\n",
       "    <tr>\n",
       "      <th>Basic</th>\n",
       "      <td>39.790123</td>\n",
       "      <td>38.862044</td>\n",
       "      <td>40.209948</td>\n",
       "      <td>41.567368</td>\n",
       "    </tr>\n",
       "    <tr>\n",
       "      <th>Premium</th>\n",
       "      <td>40.214458</td>\n",
       "      <td>33.728926</td>\n",
       "      <td>42.562944</td>\n",
       "      <td>38.035354</td>\n",
       "    </tr>\n",
       "    <tr>\n",
       "      <th>Standard</th>\n",
       "      <td>42.081081</td>\n",
       "      <td>36.525926</td>\n",
       "      <td>41.976329</td>\n",
       "      <td>42.313158</td>\n",
       "    </tr>\n",
       "  </tbody>\n",
       "</table>\n",
       "</div>"
      ],
      "text/plain": [
       "age                  (0, 25]   (25, 40]   (40, 60]  (60, 100]\n",
       "subscription_type                                            \n",
       "Basic              39.790123  38.862044  40.209948  41.567368\n",
       "Premium            40.214458  33.728926  42.562944  38.035354\n",
       "Standard           42.081081  36.525926  41.976329  42.313158"
      ]
     },
     "execution_count": 57,
     "metadata": {},
     "output_type": "execute_result"
    }
   ],
   "source": [
    "df.groupby(['subscription_type',pd.cut(df['age'], bins=[0, 25, 40, 60, 100])])['average_watch_hours'].mean().unstack()"
   ]
  },
  {
   "cell_type": "code",
   "execution_count": 58,
   "id": "de7f1917",
   "metadata": {},
   "outputs": [
    {
     "data": {
      "text/plain": [
       "<Axes: title={'center': 'Average Watch Hours by Age'}, xlabel='age'>"
      ]
     },
     "execution_count": 58,
     "metadata": {},
     "output_type": "execute_result"
    },
    {
     "data": {
      "image/png": "[encoded data removed]",
      "text/plain": [
       "<Figure size 800x400 with 1 Axes>"
      ]
     },
     "metadata": {},
     "output_type": "display_data"
    }
   ],
   "source": [
    "df.groupby(pd.cut(df['age'], bins=[0, 25, 40, 60, 100]))['average_watch_hours'].mean().plot(kind='line', figsize=(8,4), title='Average Watch Hours by Age')\n"
   ]
  },
  {
   "cell_type": "code",
   "execution_count": 59,
   "id": "f839ff38",
   "metadata": {},
   "outputs": [],
   "source": [
    "df['average_watch_hours'] = df.groupby(['subscription_type', pd.cut(df['age'], bins=[0, 25, 40, 60, 100])])['average_watch_hours'].transform(lambda x: x.fillna(x.mean()))"
   ]
  },
  {
   "cell_type": "code",
   "execution_count": 60,
   "id": "775990f3",
   "metadata": {},
   "outputs": [
    {
     "data": {
      "text/html": [
       "<div>\n",
       "<style scoped>\n",
       "    .dataframe tbody tr th:only-of-type {\n",
       "        vertical-align: middle;\n",
       "    }\n",
       "\n",
       "    .dataframe tbody tr th {\n",
       "        vertical-align: top;\n",
       "    }\n",
       "\n",
       "    .dataframe thead th {\n",
       "        text-align: right;\n",
       "    }\n",
       "</style>\n",
       "<table border=\"1\" class=\"dataframe\">\n",
       "  <thead>\n",
       "    <tr style=\"text-align: right;\">\n",
       "      <th></th>\n",
       "      <th>user_id</th>\n",
       "      <th>age</th>\n",
       "      <th>gender</th>\n",
       "      <th>signup_date</th>\n",
       "      <th>last_active_date</th>\n",
       "      <th>country</th>\n",
       "      <th>subscription_type</th>\n",
       "      <th>average_watch_hours</th>\n",
       "      <th>mobile_app_usage_pct</th>\n",
       "      <th>complaints_raised</th>\n",
       "      <th>received_promotions</th>\n",
       "      <th>referred_by_friend</th>\n",
       "      <th>is_churned</th>\n",
       "      <th>monthly_fee</th>\n",
       "    </tr>\n",
       "  </thead>\n",
       "  <tbody>\n",
       "  </tbody>\n",
       "</table>\n",
       "</div>"
      ],
      "text/plain": [
       "Empty DataFrame\n",
       "Columns: [user_id, age, gender, signup_date, last_active_date, country, subscription_type, average_watch_hours, mobile_app_usage_pct, complaints_raised, received_promotions, referred_by_friend, is_churned, monthly_fee]\n",
       "Index: []"
      ]
     },
     "execution_count": 60,
     "metadata": {},
     "output_type": "execute_result"
    }
   ],
   "source": [
    "df[df['average_watch_hours'].isna()]"
   ]
  },
  {
   "cell_type": "markdown",
   "id": "3dd03717",
   "metadata": {},
   "source": [
    "##### Mobile app usage percentage"
   ]
  },
  {
   "cell_type": "code",
   "execution_count": 61,
   "id": "87d66f3e",
   "metadata": {},
   "outputs": [
    {
     "data": {
      "text/plain": [
       "count    1498.000000\n",
       "mean       51.414419\n",
       "std        28.580117\n",
       "min         0.000000\n",
       "25%        27.100000\n",
       "50%        52.700000\n",
       "75%        76.200000\n",
       "max       100.000000\n",
       "Name: mobile_app_usage_pct, dtype: float64"
      ]
     },
     "execution_count": 61,
     "metadata": {},
     "output_type": "execute_result"
    }
   ],
   "source": [
    "df['mobile_app_usage_pct'].describe()"
   ]
  },
  {
   "cell_type": "code",
   "execution_count": 62,
   "id": "e9c54ac0",
   "metadata": {},
   "outputs": [
    {
     "data": {
      "text/html": [
       "<div>\n",
       "<style scoped>\n",
       "    .dataframe tbody tr th:only-of-type {\n",
       "        vertical-align: middle;\n",
       "    }\n",
       "\n",
       "    .dataframe tbody tr th {\n",
       "        vertical-align: top;\n",
       "    }\n",
       "\n",
       "    .dataframe thead th {\n",
       "        text-align: right;\n",
       "    }\n",
       "</style>\n",
       "<table border=\"1\" class=\"dataframe\">\n",
       "  <thead>\n",
       "    <tr style=\"text-align: right;\">\n",
       "      <th></th>\n",
       "      <th>user_id</th>\n",
       "      <th>age</th>\n",
       "      <th>gender</th>\n",
       "      <th>signup_date</th>\n",
       "      <th>last_active_date</th>\n",
       "      <th>country</th>\n",
       "      <th>subscription_type</th>\n",
       "      <th>average_watch_hours</th>\n",
       "      <th>mobile_app_usage_pct</th>\n",
       "      <th>complaints_raised</th>\n",
       "      <th>received_promotions</th>\n",
       "      <th>referred_by_friend</th>\n",
       "      <th>is_churned</th>\n",
       "      <th>monthly_fee</th>\n",
       "    </tr>\n",
       "  </thead>\n",
       "  <tbody>\n",
       "    <tr>\n",
       "      <th>1083</th>\n",
       "      <td>2084.0</td>\n",
       "      <td>68</td>\n",
       "      <td>Other</td>\n",
       "      <td>2025-03-11</td>\n",
       "      <td>2025-07-13</td>\n",
       "      <td>France</td>\n",
       "      <td>Basic</td>\n",
       "      <td>10.7</td>\n",
       "      <td>NaN</td>\n",
       "      <td>3.0</td>\n",
       "      <td>NaN</td>\n",
       "      <td>Yes</td>\n",
       "      <td>1.0</td>\n",
       "      <td>5.99</td>\n",
       "    </tr>\n",
       "    <tr>\n",
       "      <th>1090</th>\n",
       "      <td>2091.0</td>\n",
       "      <td>36</td>\n",
       "      <td>Male</td>\n",
       "      <td>2023-10-04</td>\n",
       "      <td>2025-07-13</td>\n",
       "      <td>France</td>\n",
       "      <td>Basic</td>\n",
       "      <td>78.4</td>\n",
       "      <td>NaN</td>\n",
       "      <td>2.0</td>\n",
       "      <td>Yes</td>\n",
       "      <td>No</td>\n",
       "      <td>1.0</td>\n",
       "      <td>6.99</td>\n",
       "    </tr>\n",
       "  </tbody>\n",
       "</table>\n",
       "</div>"
      ],
      "text/plain": [
       "     user_id  age gender signup_date last_active_date country  \\\n",
       "1083  2084.0   68  Other  2025-03-11       2025-07-13  France   \n",
       "1090  2091.0   36   Male  2023-10-04       2025-07-13  France   \n",
       "\n",
       "     subscription_type  average_watch_hours  mobile_app_usage_pct  \\\n",
       "1083             Basic                 10.7                   NaN   \n",
       "1090             Basic                 78.4                   NaN   \n",
       "\n",
       "      complaints_raised received_promotions referred_by_friend  is_churned  \\\n",
       "1083                3.0                 NaN                Yes         1.0   \n",
       "1090                2.0                 Yes                 No         1.0   \n",
       "\n",
       "      monthly_fee  \n",
       "1083         5.99  \n",
       "1090         6.99  "
      ]
     },
     "execution_count": 62,
     "metadata": {},
     "output_type": "execute_result"
    }
   ],
   "source": [
    "df[df['mobile_app_usage_pct'].isna()]"
   ]
  },
  {
   "cell_type": "code",
   "execution_count": 63,
   "id": "3f94fc9a",
   "metadata": {},
   "outputs": [
    {
     "data": {
      "text/plain": [
       "51.41441922563417"
      ]
     },
     "execution_count": 63,
     "metadata": {},
     "output_type": "execute_result"
    }
   ],
   "source": [
    "df['mobile_app_usage_pct'].mean()"
   ]
  },
  {
   "cell_type": "code",
   "execution_count": 64,
   "id": "a74e8674",
   "metadata": {},
   "outputs": [],
   "source": [
    "df['mobile_app_usage_pct'].fillna(df['mobile_app_usage_pct'].mean(), inplace= True)"
   ]
  },
  {
   "cell_type": "code",
   "execution_count": 65,
   "id": "c406fad9",
   "metadata": {},
   "outputs": [
    {
     "data": {
      "text/html": [
       "<div>\n",
       "<style scoped>\n",
       "    .dataframe tbody tr th:only-of-type {\n",
       "        vertical-align: middle;\n",
       "    }\n",
       "\n",
       "    .dataframe tbody tr th {\n",
       "        vertical-align: top;\n",
       "    }\n",
       "\n",
       "    .dataframe thead th {\n",
       "        text-align: right;\n",
       "    }\n",
       "</style>\n",
       "<table border=\"1\" class=\"dataframe\">\n",
       "  <thead>\n",
       "    <tr style=\"text-align: right;\">\n",
       "      <th></th>\n",
       "      <th>user_id</th>\n",
       "      <th>age</th>\n",
       "      <th>gender</th>\n",
       "      <th>signup_date</th>\n",
       "      <th>last_active_date</th>\n",
       "      <th>country</th>\n",
       "      <th>subscription_type</th>\n",
       "      <th>average_watch_hours</th>\n",
       "      <th>mobile_app_usage_pct</th>\n",
       "      <th>complaints_raised</th>\n",
       "      <th>received_promotions</th>\n",
       "      <th>referred_by_friend</th>\n",
       "      <th>is_churned</th>\n",
       "      <th>monthly_fee</th>\n",
       "    </tr>\n",
       "  </thead>\n",
       "  <tbody>\n",
       "  </tbody>\n",
       "</table>\n",
       "</div>"
      ],
      "text/plain": [
       "Empty DataFrame\n",
       "Columns: [user_id, age, gender, signup_date, last_active_date, country, subscription_type, average_watch_hours, mobile_app_usage_pct, complaints_raised, received_promotions, referred_by_friend, is_churned, monthly_fee]\n",
       "Index: []"
      ]
     },
     "execution_count": 65,
     "metadata": {},
     "output_type": "execute_result"
    }
   ],
   "source": [
    "df[df['mobile_app_usage_pct'].isna()]"
   ]
  },
  {
   "cell_type": "markdown",
   "id": "46e272c5",
   "metadata": {},
   "source": [
    "##### complaints raised"
   ]
  },
  {
   "cell_type": "code",
   "execution_count": 66,
   "id": "c077f43d",
   "metadata": {},
   "outputs": [
    {
     "data": {
      "text/html": [
       "<div>\n",
       "<style scoped>\n",
       "    .dataframe tbody tr th:only-of-type {\n",
       "        vertical-align: middle;\n",
       "    }\n",
       "\n",
       "    .dataframe tbody tr th {\n",
       "        vertical-align: top;\n",
       "    }\n",
       "\n",
       "    .dataframe thead th {\n",
       "        text-align: right;\n",
       "    }\n",
       "</style>\n",
       "<table border=\"1\" class=\"dataframe\">\n",
       "  <thead>\n",
       "    <tr style=\"text-align: right;\">\n",
       "      <th></th>\n",
       "      <th>user_id</th>\n",
       "      <th>age</th>\n",
       "      <th>gender</th>\n",
       "      <th>signup_date</th>\n",
       "      <th>last_active_date</th>\n",
       "      <th>country</th>\n",
       "      <th>subscription_type</th>\n",
       "      <th>average_watch_hours</th>\n",
       "      <th>mobile_app_usage_pct</th>\n",
       "      <th>complaints_raised</th>\n",
       "      <th>received_promotions</th>\n",
       "      <th>referred_by_friend</th>\n",
       "      <th>is_churned</th>\n",
       "      <th>monthly_fee</th>\n",
       "    </tr>\n",
       "  </thead>\n",
       "  <tbody>\n",
       "    <tr>\n",
       "      <th>231</th>\n",
       "      <td>1232.0</td>\n",
       "      <td>40</td>\n",
       "      <td>Other</td>\n",
       "      <td>2025-03-20</td>\n",
       "      <td>2025-07-13</td>\n",
       "      <td>Germany</td>\n",
       "      <td>Basic</td>\n",
       "      <td>15.900000</td>\n",
       "      <td>73.7</td>\n",
       "      <td>NaN</td>\n",
       "      <td>No</td>\n",
       "      <td>Yes</td>\n",
       "      <td>0.0</td>\n",
       "      <td>5.99</td>\n",
       "    </tr>\n",
       "    <tr>\n",
       "      <th>1125</th>\n",
       "      <td>2126.0</td>\n",
       "      <td>28</td>\n",
       "      <td>Female</td>\n",
       "      <td>2025-01-30</td>\n",
       "      <td>2025-07-13</td>\n",
       "      <td>France</td>\n",
       "      <td>Standard</td>\n",
       "      <td>36.525926</td>\n",
       "      <td>28.2</td>\n",
       "      <td>NaN</td>\n",
       "      <td>No</td>\n",
       "      <td>NaN</td>\n",
       "      <td>0.0</td>\n",
       "      <td>9.99</td>\n",
       "    </tr>\n",
       "    <tr>\n",
       "      <th>1496</th>\n",
       "      <td>2497.0</td>\n",
       "      <td>54</td>\n",
       "      <td>Male</td>\n",
       "      <td>2025-02-12</td>\n",
       "      <td>2025-07-13</td>\n",
       "      <td>USA</td>\n",
       "      <td>Basic</td>\n",
       "      <td>48.700000</td>\n",
       "      <td>42.0</td>\n",
       "      <td>NaN</td>\n",
       "      <td>Yes</td>\n",
       "      <td>Yes</td>\n",
       "      <td>1.0</td>\n",
       "      <td>NaN</td>\n",
       "    </tr>\n",
       "  </tbody>\n",
       "</table>\n",
       "</div>"
      ],
      "text/plain": [
       "     user_id  age  gender signup_date last_active_date  country  \\\n",
       "231   1232.0   40   Other  2025-03-20       2025-07-13  Germany   \n",
       "1125  2126.0   28  Female  2025-01-30       2025-07-13   France   \n",
       "1496  2497.0   54    Male  2025-02-12       2025-07-13      USA   \n",
       "\n",
       "     subscription_type  average_watch_hours  mobile_app_usage_pct  \\\n",
       "231              Basic            15.900000                  73.7   \n",
       "1125          Standard            36.525926                  28.2   \n",
       "1496             Basic            48.700000                  42.0   \n",
       "\n",
       "      complaints_raised received_promotions referred_by_friend  is_churned  \\\n",
       "231                 NaN                  No                Yes         0.0   \n",
       "1125                NaN                  No                NaN         0.0   \n",
       "1496                NaN                 Yes                Yes         1.0   \n",
       "\n",
       "      monthly_fee  \n",
       "231          5.99  \n",
       "1125         9.99  \n",
       "1496          NaN  "
      ]
     },
     "execution_count": 66,
     "metadata": {},
     "output_type": "execute_result"
    }
   ],
   "source": [
    "df[df['complaints_raised'].isna()]"
   ]
  },
  {
   "cell_type": "code",
   "execution_count": 67,
   "id": "a88dfa9d",
   "metadata": {},
   "outputs": [],
   "source": [
    "df['complaints_raised'].fillna(0.0, inplace= True)"
   ]
  },
  {
   "cell_type": "code",
   "execution_count": 68,
   "id": "12efc048",
   "metadata": {},
   "outputs": [
    {
     "data": {
      "text/html": [
       "<div>\n",
       "<style scoped>\n",
       "    .dataframe tbody tr th:only-of-type {\n",
       "        vertical-align: middle;\n",
       "    }\n",
       "\n",
       "    .dataframe tbody tr th {\n",
       "        vertical-align: top;\n",
       "    }\n",
       "\n",
       "    .dataframe thead th {\n",
       "        text-align: right;\n",
       "    }\n",
       "</style>\n",
       "<table border=\"1\" class=\"dataframe\">\n",
       "  <thead>\n",
       "    <tr style=\"text-align: right;\">\n",
       "      <th></th>\n",
       "      <th>user_id</th>\n",
       "      <th>age</th>\n",
       "      <th>gender</th>\n",
       "      <th>signup_date</th>\n",
       "      <th>last_active_date</th>\n",
       "      <th>country</th>\n",
       "      <th>subscription_type</th>\n",
       "      <th>average_watch_hours</th>\n",
       "      <th>mobile_app_usage_pct</th>\n",
       "      <th>complaints_raised</th>\n",
       "      <th>received_promotions</th>\n",
       "      <th>referred_by_friend</th>\n",
       "      <th>is_churned</th>\n",
       "      <th>monthly_fee</th>\n",
       "    </tr>\n",
       "  </thead>\n",
       "  <tbody>\n",
       "  </tbody>\n",
       "</table>\n",
       "</div>"
      ],
      "text/plain": [
       "Empty DataFrame\n",
       "Columns: [user_id, age, gender, signup_date, last_active_date, country, subscription_type, average_watch_hours, mobile_app_usage_pct, complaints_raised, received_promotions, referred_by_friend, is_churned, monthly_fee]\n",
       "Index: []"
      ]
     },
     "execution_count": 68,
     "metadata": {},
     "output_type": "execute_result"
    }
   ],
   "source": [
    "df[df['complaints_raised'].isna()]"
   ]
  },
  {
   "cell_type": "code",
   "execution_count": 69,
   "id": "732b4417",
   "metadata": {},
   "outputs": [
    {
     "data": {
      "text/plain": [
       "dtype('float64')"
      ]
     },
     "execution_count": 69,
     "metadata": {},
     "output_type": "execute_result"
    }
   ],
   "source": [
    "df['complaints_raised'].dtype"
   ]
  },
  {
   "cell_type": "code",
   "execution_count": 70,
   "id": "52341064",
   "metadata": {},
   "outputs": [],
   "source": [
    "df['complaints_raised'] = df['complaints_raised'].astype('int')"
   ]
  },
  {
   "cell_type": "markdown",
   "id": "b7ff2478",
   "metadata": {},
   "source": [
    "##### received promotions"
   ]
  },
  {
   "cell_type": "code",
   "execution_count": 71,
   "id": "724b0208",
   "metadata": {},
   "outputs": [
    {
     "data": {
      "text/html": [
       "<div>\n",
       "<style scoped>\n",
       "    .dataframe tbody tr th:only-of-type {\n",
       "        vertical-align: middle;\n",
       "    }\n",
       "\n",
       "    .dataframe tbody tr th {\n",
       "        vertical-align: top;\n",
       "    }\n",
       "\n",
       "    .dataframe thead th {\n",
       "        text-align: right;\n",
       "    }\n",
       "</style>\n",
       "<table border=\"1\" class=\"dataframe\">\n",
       "  <thead>\n",
       "    <tr style=\"text-align: right;\">\n",
       "      <th></th>\n",
       "      <th>user_id</th>\n",
       "      <th>age</th>\n",
       "      <th>gender</th>\n",
       "      <th>signup_date</th>\n",
       "      <th>last_active_date</th>\n",
       "      <th>country</th>\n",
       "      <th>subscription_type</th>\n",
       "      <th>average_watch_hours</th>\n",
       "      <th>mobile_app_usage_pct</th>\n",
       "      <th>complaints_raised</th>\n",
       "      <th>received_promotions</th>\n",
       "      <th>referred_by_friend</th>\n",
       "      <th>is_churned</th>\n",
       "      <th>monthly_fee</th>\n",
       "    </tr>\n",
       "  </thead>\n",
       "  <tbody>\n",
       "    <tr>\n",
       "      <th>337</th>\n",
       "      <td>1338.0</td>\n",
       "      <td>31</td>\n",
       "      <td>Other</td>\n",
       "      <td>2024-12-14</td>\n",
       "      <td>2025-07-13</td>\n",
       "      <td>USA</td>\n",
       "      <td>Basic</td>\n",
       "      <td>60.1</td>\n",
       "      <td>18.000000</td>\n",
       "      <td>4</td>\n",
       "      <td>NaN</td>\n",
       "      <td>No</td>\n",
       "      <td>1.0</td>\n",
       "      <td>6.99</td>\n",
       "    </tr>\n",
       "    <tr>\n",
       "      <th>1083</th>\n",
       "      <td>2084.0</td>\n",
       "      <td>68</td>\n",
       "      <td>Other</td>\n",
       "      <td>2025-03-11</td>\n",
       "      <td>2025-07-13</td>\n",
       "      <td>France</td>\n",
       "      <td>Basic</td>\n",
       "      <td>10.7</td>\n",
       "      <td>51.414419</td>\n",
       "      <td>3</td>\n",
       "      <td>NaN</td>\n",
       "      <td>Yes</td>\n",
       "      <td>1.0</td>\n",
       "      <td>5.99</td>\n",
       "    </tr>\n",
       "    <tr>\n",
       "      <th>1130</th>\n",
       "      <td>2131.0</td>\n",
       "      <td>46</td>\n",
       "      <td>Female</td>\n",
       "      <td>2024-04-18</td>\n",
       "      <td>2025-07-13</td>\n",
       "      <td>France</td>\n",
       "      <td>Basic</td>\n",
       "      <td>69.8</td>\n",
       "      <td>99.200000</td>\n",
       "      <td>4</td>\n",
       "      <td>NaN</td>\n",
       "      <td>No</td>\n",
       "      <td>1.0</td>\n",
       "      <td>5.99</td>\n",
       "    </tr>\n",
       "  </tbody>\n",
       "</table>\n",
       "</div>"
      ],
      "text/plain": [
       "     user_id  age  gender signup_date last_active_date country  \\\n",
       "337   1338.0   31   Other  2024-12-14       2025-07-13     USA   \n",
       "1083  2084.0   68   Other  2025-03-11       2025-07-13  France   \n",
       "1130  2131.0   46  Female  2024-04-18       2025-07-13  France   \n",
       "\n",
       "     subscription_type  average_watch_hours  mobile_app_usage_pct  \\\n",
       "337              Basic                 60.1             18.000000   \n",
       "1083             Basic                 10.7             51.414419   \n",
       "1130             Basic                 69.8             99.200000   \n",
       "\n",
       "      complaints_raised received_promotions referred_by_friend  is_churned  \\\n",
       "337                   4                 NaN                 No         1.0   \n",
       "1083                  3                 NaN                Yes         1.0   \n",
       "1130                  4                 NaN                 No         1.0   \n",
       "\n",
       "      monthly_fee  \n",
       "337          6.99  \n",
       "1083         5.99  \n",
       "1130         5.99  "
      ]
     },
     "execution_count": 71,
     "metadata": {},
     "output_type": "execute_result"
    }
   ],
   "source": [
    "df[df['received_promotions'].isna()]"
   ]
  },
  {
   "cell_type": "code",
   "execution_count": 72,
   "id": "04ea9725",
   "metadata": {},
   "outputs": [
    {
     "data": {
      "text/plain": [
       "No     763\n",
       "Yes    734\n",
       "Name: received_promotions, dtype: int64"
      ]
     },
     "execution_count": 72,
     "metadata": {},
     "output_type": "execute_result"
    }
   ],
   "source": [
    "df['received_promotions'].value_counts()"
   ]
  },
  {
   "cell_type": "code",
   "execution_count": 73,
   "id": "28090c5c",
   "metadata": {},
   "outputs": [],
   "source": [
    "df['received_promotions'].fillna(df['received_promotions'].mode()[0], inplace = True)"
   ]
  },
  {
   "cell_type": "code",
   "execution_count": 74,
   "id": "c5b14654",
   "metadata": {},
   "outputs": [
    {
     "data": {
      "text/html": [
       "<div>\n",
       "<style scoped>\n",
       "    .dataframe tbody tr th:only-of-type {\n",
       "        vertical-align: middle;\n",
       "    }\n",
       "\n",
       "    .dataframe tbody tr th {\n",
       "        vertical-align: top;\n",
       "    }\n",
       "\n",
       "    .dataframe thead th {\n",
       "        text-align: right;\n",
       "    }\n",
       "</style>\n",
       "<table border=\"1\" class=\"dataframe\">\n",
       "  <thead>\n",
       "    <tr style=\"text-align: right;\">\n",
       "      <th></th>\n",
       "      <th>user_id</th>\n",
       "      <th>age</th>\n",
       "      <th>gender</th>\n",
       "      <th>signup_date</th>\n",
       "      <th>last_active_date</th>\n",
       "      <th>country</th>\n",
       "      <th>subscription_type</th>\n",
       "      <th>average_watch_hours</th>\n",
       "      <th>mobile_app_usage_pct</th>\n",
       "      <th>complaints_raised</th>\n",
       "      <th>received_promotions</th>\n",
       "      <th>referred_by_friend</th>\n",
       "      <th>is_churned</th>\n",
       "      <th>monthly_fee</th>\n",
       "    </tr>\n",
       "  </thead>\n",
       "  <tbody>\n",
       "  </tbody>\n",
       "</table>\n",
       "</div>"
      ],
      "text/plain": [
       "Empty DataFrame\n",
       "Columns: [user_id, age, gender, signup_date, last_active_date, country, subscription_type, average_watch_hours, mobile_app_usage_pct, complaints_raised, received_promotions, referred_by_friend, is_churned, monthly_fee]\n",
       "Index: []"
      ]
     },
     "execution_count": 74,
     "metadata": {},
     "output_type": "execute_result"
    }
   ],
   "source": [
    "df[df['received_promotions'].isna()]"
   ]
  },
  {
   "cell_type": "markdown",
   "id": "a4a4fa73",
   "metadata": {},
   "source": [
    "##### referred by friend"
   ]
  },
  {
   "cell_type": "code",
   "execution_count": 75,
   "id": "b667c661",
   "metadata": {},
   "outputs": [
    {
     "data": {
      "text/html": [
       "<div>\n",
       "<style scoped>\n",
       "    .dataframe tbody tr th:only-of-type {\n",
       "        vertical-align: middle;\n",
       "    }\n",
       "\n",
       "    .dataframe tbody tr th {\n",
       "        vertical-align: top;\n",
       "    }\n",
       "\n",
       "    .dataframe thead th {\n",
       "        text-align: right;\n",
       "    }\n",
       "</style>\n",
       "<table border=\"1\" class=\"dataframe\">\n",
       "  <thead>\n",
       "    <tr style=\"text-align: right;\">\n",
       "      <th></th>\n",
       "      <th>user_id</th>\n",
       "      <th>age</th>\n",
       "      <th>gender</th>\n",
       "      <th>signup_date</th>\n",
       "      <th>last_active_date</th>\n",
       "      <th>country</th>\n",
       "      <th>subscription_type</th>\n",
       "      <th>average_watch_hours</th>\n",
       "      <th>mobile_app_usage_pct</th>\n",
       "      <th>complaints_raised</th>\n",
       "      <th>received_promotions</th>\n",
       "      <th>referred_by_friend</th>\n",
       "      <th>is_churned</th>\n",
       "      <th>monthly_fee</th>\n",
       "    </tr>\n",
       "  </thead>\n",
       "  <tbody>\n",
       "    <tr>\n",
       "      <th>1088</th>\n",
       "      <td>2089.0</td>\n",
       "      <td>43</td>\n",
       "      <td>Other</td>\n",
       "      <td>2024-11-13</td>\n",
       "      <td>2025-07-13</td>\n",
       "      <td>India</td>\n",
       "      <td>Basic</td>\n",
       "      <td>50.100000</td>\n",
       "      <td>53.0</td>\n",
       "      <td>2</td>\n",
       "      <td>Yes</td>\n",
       "      <td>NaN</td>\n",
       "      <td>NaN</td>\n",
       "      <td>5.99</td>\n",
       "    </tr>\n",
       "    <tr>\n",
       "      <th>1125</th>\n",
       "      <td>2126.0</td>\n",
       "      <td>28</td>\n",
       "      <td>Female</td>\n",
       "      <td>2025-01-30</td>\n",
       "      <td>2025-07-13</td>\n",
       "      <td>France</td>\n",
       "      <td>Standard</td>\n",
       "      <td>36.525926</td>\n",
       "      <td>28.2</td>\n",
       "      <td>0</td>\n",
       "      <td>No</td>\n",
       "      <td>NaN</td>\n",
       "      <td>0.0</td>\n",
       "      <td>9.99</td>\n",
       "    </tr>\n",
       "    <tr>\n",
       "      <th>1485</th>\n",
       "      <td>2486.0</td>\n",
       "      <td>56</td>\n",
       "      <td>Other</td>\n",
       "      <td>2022-10-16</td>\n",
       "      <td>2025-07-13</td>\n",
       "      <td>Canada</td>\n",
       "      <td>Premium</td>\n",
       "      <td>12.200000</td>\n",
       "      <td>61.9</td>\n",
       "      <td>0</td>\n",
       "      <td>Yes</td>\n",
       "      <td>NaN</td>\n",
       "      <td>0.0</td>\n",
       "      <td>13.99</td>\n",
       "    </tr>\n",
       "  </tbody>\n",
       "</table>\n",
       "</div>"
      ],
      "text/plain": [
       "     user_id  age  gender signup_date last_active_date country  \\\n",
       "1088  2089.0   43   Other  2024-11-13       2025-07-13   India   \n",
       "1125  2126.0   28  Female  2025-01-30       2025-07-13  France   \n",
       "1485  2486.0   56   Other  2022-10-16       2025-07-13  Canada   \n",
       "\n",
       "     subscription_type  average_watch_hours  mobile_app_usage_pct  \\\n",
       "1088             Basic            50.100000                  53.0   \n",
       "1125          Standard            36.525926                  28.2   \n",
       "1485           Premium            12.200000                  61.9   \n",
       "\n",
       "      complaints_raised received_promotions referred_by_friend  is_churned  \\\n",
       "1088                  2                 Yes                NaN         NaN   \n",
       "1125                  0                  No                NaN         0.0   \n",
       "1485                  0                 Yes                NaN         0.0   \n",
       "\n",
       "      monthly_fee  \n",
       "1088         5.99  \n",
       "1125         9.99  \n",
       "1485        13.99  "
      ]
     },
     "execution_count": 75,
     "metadata": {},
     "output_type": "execute_result"
    }
   ],
   "source": [
    "df[df['referred_by_friend'].isna()]"
   ]
  },
  {
   "cell_type": "code",
   "execution_count": 76,
   "id": "2c8d1dd4",
   "metadata": {},
   "outputs": [
    {
     "data": {
      "text/plain": [
       "Yes    752\n",
       "No     745\n",
       "Name: referred_by_friend, dtype: int64"
      ]
     },
     "execution_count": 76,
     "metadata": {},
     "output_type": "execute_result"
    }
   ],
   "source": [
    "df['referred_by_friend'].value_counts()"
   ]
  },
  {
   "cell_type": "code",
   "execution_count": 77,
   "id": "40960c3d",
   "metadata": {},
   "outputs": [],
   "source": [
    "df['referred_by_friend'].fillna(df['referred_by_friend'].mode()[0], inplace = True)"
   ]
  },
  {
   "cell_type": "code",
   "execution_count": 78,
   "id": "4024cbb2",
   "metadata": {},
   "outputs": [
    {
     "data": {
      "text/html": [
       "<div>\n",
       "<style scoped>\n",
       "    .dataframe tbody tr th:only-of-type {\n",
       "        vertical-align: middle;\n",
       "    }\n",
       "\n",
       "    .dataframe tbody tr th {\n",
       "        vertical-align: top;\n",
       "    }\n",
       "\n",
       "    .dataframe thead th {\n",
       "        text-align: right;\n",
       "    }\n",
       "</style>\n",
       "<table border=\"1\" class=\"dataframe\">\n",
       "  <thead>\n",
       "    <tr style=\"text-align: right;\">\n",
       "      <th></th>\n",
       "      <th>user_id</th>\n",
       "      <th>age</th>\n",
       "      <th>gender</th>\n",
       "      <th>signup_date</th>\n",
       "      <th>last_active_date</th>\n",
       "      <th>country</th>\n",
       "      <th>subscription_type</th>\n",
       "      <th>average_watch_hours</th>\n",
       "      <th>mobile_app_usage_pct</th>\n",
       "      <th>complaints_raised</th>\n",
       "      <th>received_promotions</th>\n",
       "      <th>referred_by_friend</th>\n",
       "      <th>is_churned</th>\n",
       "      <th>monthly_fee</th>\n",
       "    </tr>\n",
       "  </thead>\n",
       "  <tbody>\n",
       "  </tbody>\n",
       "</table>\n",
       "</div>"
      ],
      "text/plain": [
       "Empty DataFrame\n",
       "Columns: [user_id, age, gender, signup_date, last_active_date, country, subscription_type, average_watch_hours, mobile_app_usage_pct, complaints_raised, received_promotions, referred_by_friend, is_churned, monthly_fee]\n",
       "Index: []"
      ]
     },
     "execution_count": 78,
     "metadata": {},
     "output_type": "execute_result"
    }
   ],
   "source": [
    "df[df['referred_by_friend'].isna()]"
   ]
  },
  {
   "cell_type": "markdown",
   "id": "1073ec95",
   "metadata": {},
   "source": [
    "##### is churned"
   ]
  },
  {
   "cell_type": "code",
   "execution_count": 79,
   "id": "a3f29acd",
   "metadata": {},
   "outputs": [
    {
     "data": {
      "text/html": [
       "<div>\n",
       "<style scoped>\n",
       "    .dataframe tbody tr th:only-of-type {\n",
       "        vertical-align: middle;\n",
       "    }\n",
       "\n",
       "    .dataframe tbody tr th {\n",
       "        vertical-align: top;\n",
       "    }\n",
       "\n",
       "    .dataframe thead th {\n",
       "        text-align: right;\n",
       "    }\n",
       "</style>\n",
       "<table border=\"1\" class=\"dataframe\">\n",
       "  <thead>\n",
       "    <tr style=\"text-align: right;\">\n",
       "      <th></th>\n",
       "      <th>user_id</th>\n",
       "      <th>age</th>\n",
       "      <th>gender</th>\n",
       "      <th>signup_date</th>\n",
       "      <th>last_active_date</th>\n",
       "      <th>country</th>\n",
       "      <th>subscription_type</th>\n",
       "      <th>average_watch_hours</th>\n",
       "      <th>mobile_app_usage_pct</th>\n",
       "      <th>complaints_raised</th>\n",
       "      <th>received_promotions</th>\n",
       "      <th>referred_by_friend</th>\n",
       "      <th>is_churned</th>\n",
       "      <th>monthly_fee</th>\n",
       "    </tr>\n",
       "  </thead>\n",
       "  <tbody>\n",
       "    <tr>\n",
       "      <th>1088</th>\n",
       "      <td>2089.0</td>\n",
       "      <td>43</td>\n",
       "      <td>Other</td>\n",
       "      <td>2024-11-13</td>\n",
       "      <td>2025-07-13</td>\n",
       "      <td>India</td>\n",
       "      <td>Basic</td>\n",
       "      <td>50.1</td>\n",
       "      <td>53.0</td>\n",
       "      <td>2</td>\n",
       "      <td>Yes</td>\n",
       "      <td>Yes</td>\n",
       "      <td>NaN</td>\n",
       "      <td>5.99</td>\n",
       "    </tr>\n",
       "  </tbody>\n",
       "</table>\n",
       "</div>"
      ],
      "text/plain": [
       "     user_id  age gender signup_date last_active_date country  \\\n",
       "1088  2089.0   43  Other  2024-11-13       2025-07-13   India   \n",
       "\n",
       "     subscription_type  average_watch_hours  mobile_app_usage_pct  \\\n",
       "1088             Basic                 50.1                  53.0   \n",
       "\n",
       "      complaints_raised received_promotions referred_by_friend  is_churned  \\\n",
       "1088                  2                 Yes                Yes         NaN   \n",
       "\n",
       "      monthly_fee  \n",
       "1088         5.99  "
      ]
     },
     "execution_count": 79,
     "metadata": {},
     "output_type": "execute_result"
    }
   ],
   "source": [
    "df[df['is_churned'].isna()]"
   ]
  },
  {
   "cell_type": "code",
   "execution_count": 80,
   "id": "21a4dbea",
   "metadata": {},
   "outputs": [],
   "source": [
    "df = df.dropna(subset=['is_churned'])"
   ]
  },
  {
   "cell_type": "code",
   "execution_count": 81,
   "id": "900ce954",
   "metadata": {},
   "outputs": [
    {
     "data": {
      "text/html": [
       "<div>\n",
       "<style scoped>\n",
       "    .dataframe tbody tr th:only-of-type {\n",
       "        vertical-align: middle;\n",
       "    }\n",
       "\n",
       "    .dataframe tbody tr th {\n",
       "        vertical-align: top;\n",
       "    }\n",
       "\n",
       "    .dataframe thead th {\n",
       "        text-align: right;\n",
       "    }\n",
       "</style>\n",
       "<table border=\"1\" class=\"dataframe\">\n",
       "  <thead>\n",
       "    <tr style=\"text-align: right;\">\n",
       "      <th></th>\n",
       "      <th>user_id</th>\n",
       "      <th>age</th>\n",
       "      <th>gender</th>\n",
       "      <th>signup_date</th>\n",
       "      <th>last_active_date</th>\n",
       "      <th>country</th>\n",
       "      <th>subscription_type</th>\n",
       "      <th>average_watch_hours</th>\n",
       "      <th>mobile_app_usage_pct</th>\n",
       "      <th>complaints_raised</th>\n",
       "      <th>received_promotions</th>\n",
       "      <th>referred_by_friend</th>\n",
       "      <th>is_churned</th>\n",
       "      <th>monthly_fee</th>\n",
       "    </tr>\n",
       "  </thead>\n",
       "  <tbody>\n",
       "  </tbody>\n",
       "</table>\n",
       "</div>"
      ],
      "text/plain": [
       "Empty DataFrame\n",
       "Columns: [user_id, age, gender, signup_date, last_active_date, country, subscription_type, average_watch_hours, mobile_app_usage_pct, complaints_raised, received_promotions, referred_by_friend, is_churned, monthly_fee]\n",
       "Index: []"
      ]
     },
     "execution_count": 81,
     "metadata": {},
     "output_type": "execute_result"
    }
   ],
   "source": [
    "df[df['is_churned'].isna()]"
   ]
  },
  {
   "cell_type": "code",
   "execution_count": 82,
   "id": "34a12698",
   "metadata": {},
   "outputs": [],
   "source": [
    "df['is_churned'] = df['is_churned'].astype(int)"
   ]
  },
  {
   "cell_type": "markdown",
   "id": "520317f8",
   "metadata": {},
   "source": [
    "##### monthly fee"
   ]
  },
  {
   "cell_type": "code",
   "execution_count": 83,
   "id": "f5088b3d",
   "metadata": {},
   "outputs": [
    {
     "data": {
      "text/html": [
       "<div>\n",
       "<style scoped>\n",
       "    .dataframe tbody tr th:only-of-type {\n",
       "        vertical-align: middle;\n",
       "    }\n",
       "\n",
       "    .dataframe tbody tr th {\n",
       "        vertical-align: top;\n",
       "    }\n",
       "\n",
       "    .dataframe thead th {\n",
       "        text-align: right;\n",
       "    }\n",
       "</style>\n",
       "<table border=\"1\" class=\"dataframe\">\n",
       "  <thead>\n",
       "    <tr style=\"text-align: right;\">\n",
       "      <th></th>\n",
       "      <th>user_id</th>\n",
       "      <th>age</th>\n",
       "      <th>gender</th>\n",
       "      <th>signup_date</th>\n",
       "      <th>last_active_date</th>\n",
       "      <th>country</th>\n",
       "      <th>subscription_type</th>\n",
       "      <th>average_watch_hours</th>\n",
       "      <th>mobile_app_usage_pct</th>\n",
       "      <th>complaints_raised</th>\n",
       "      <th>received_promotions</th>\n",
       "      <th>referred_by_friend</th>\n",
       "      <th>is_churned</th>\n",
       "      <th>monthly_fee</th>\n",
       "    </tr>\n",
       "  </thead>\n",
       "  <tbody>\n",
       "    <tr>\n",
       "      <th>8</th>\n",
       "      <td>1009.0</td>\n",
       "      <td>36</td>\n",
       "      <td>Other</td>\n",
       "      <td>2025-05-30</td>\n",
       "      <td>2025-07-13</td>\n",
       "      <td>UK</td>\n",
       "      <td>Standard</td>\n",
       "      <td>11.6</td>\n",
       "      <td>82.7</td>\n",
       "      <td>1</td>\n",
       "      <td>No</td>\n",
       "      <td>Yes</td>\n",
       "      <td>0</td>\n",
       "      <td>NaN</td>\n",
       "    </tr>\n",
       "    <tr>\n",
       "      <th>10</th>\n",
       "      <td>1011.0</td>\n",
       "      <td>28</td>\n",
       "      <td>Other</td>\n",
       "      <td>2022-11-26</td>\n",
       "      <td>2025-07-13</td>\n",
       "      <td>USA</td>\n",
       "      <td>Standard</td>\n",
       "      <td>21.7</td>\n",
       "      <td>17.7</td>\n",
       "      <td>0</td>\n",
       "      <td>No</td>\n",
       "      <td>No</td>\n",
       "      <td>0</td>\n",
       "      <td>NaN</td>\n",
       "    </tr>\n",
       "    <tr>\n",
       "      <th>15</th>\n",
       "      <td>1016.0</td>\n",
       "      <td>41</td>\n",
       "      <td>Female</td>\n",
       "      <td>2022-12-06</td>\n",
       "      <td>2025-07-13</td>\n",
       "      <td>UK</td>\n",
       "      <td>Standard</td>\n",
       "      <td>46.1</td>\n",
       "      <td>54.5</td>\n",
       "      <td>1</td>\n",
       "      <td>Yes</td>\n",
       "      <td>No</td>\n",
       "      <td>0</td>\n",
       "      <td>NaN</td>\n",
       "    </tr>\n",
       "    <tr>\n",
       "      <th>21</th>\n",
       "      <td>1022.0</td>\n",
       "      <td>47</td>\n",
       "      <td>Other</td>\n",
       "      <td>2024-12-01</td>\n",
       "      <td>2025-07-13</td>\n",
       "      <td>UK</td>\n",
       "      <td>Premium</td>\n",
       "      <td>76.7</td>\n",
       "      <td>20.7</td>\n",
       "      <td>4</td>\n",
       "      <td>Yes</td>\n",
       "      <td>Yes</td>\n",
       "      <td>0</td>\n",
       "      <td>NaN</td>\n",
       "    </tr>\n",
       "    <tr>\n",
       "      <th>27</th>\n",
       "      <td>1028.0</td>\n",
       "      <td>39</td>\n",
       "      <td>Other</td>\n",
       "      <td>2023-06-21</td>\n",
       "      <td>2025-07-13</td>\n",
       "      <td>India</td>\n",
       "      <td>Standard</td>\n",
       "      <td>35.3</td>\n",
       "      <td>46.1</td>\n",
       "      <td>3</td>\n",
       "      <td>Yes</td>\n",
       "      <td>No</td>\n",
       "      <td>0</td>\n",
       "      <td>NaN</td>\n",
       "    </tr>\n",
       "    <tr>\n",
       "      <th>...</th>\n",
       "      <td>...</td>\n",
       "      <td>...</td>\n",
       "      <td>...</td>\n",
       "      <td>...</td>\n",
       "      <td>...</td>\n",
       "      <td>...</td>\n",
       "      <td>...</td>\n",
       "      <td>...</td>\n",
       "      <td>...</td>\n",
       "      <td>...</td>\n",
       "      <td>...</td>\n",
       "      <td>...</td>\n",
       "      <td>...</td>\n",
       "      <td>...</td>\n",
       "    </tr>\n",
       "    <tr>\n",
       "      <th>1476</th>\n",
       "      <td>2477.0</td>\n",
       "      <td>67</td>\n",
       "      <td>Female</td>\n",
       "      <td>2023-06-23</td>\n",
       "      <td>2025-07-13</td>\n",
       "      <td>Canada</td>\n",
       "      <td>Basic</td>\n",
       "      <td>78.2</td>\n",
       "      <td>69.7</td>\n",
       "      <td>2</td>\n",
       "      <td>No</td>\n",
       "      <td>No</td>\n",
       "      <td>0</td>\n",
       "      <td>NaN</td>\n",
       "    </tr>\n",
       "    <tr>\n",
       "      <th>1478</th>\n",
       "      <td>2479.0</td>\n",
       "      <td>34</td>\n",
       "      <td>Other</td>\n",
       "      <td>2022-09-19</td>\n",
       "      <td>2025-07-13</td>\n",
       "      <td>USA</td>\n",
       "      <td>Standard</td>\n",
       "      <td>11.3</td>\n",
       "      <td>23.4</td>\n",
       "      <td>3</td>\n",
       "      <td>Yes</td>\n",
       "      <td>Yes</td>\n",
       "      <td>0</td>\n",
       "      <td>NaN</td>\n",
       "    </tr>\n",
       "    <tr>\n",
       "      <th>1483</th>\n",
       "      <td>2484.0</td>\n",
       "      <td>62</td>\n",
       "      <td>Male</td>\n",
       "      <td>2025-04-08</td>\n",
       "      <td>2025-07-13</td>\n",
       "      <td>UK</td>\n",
       "      <td>Premium</td>\n",
       "      <td>31.9</td>\n",
       "      <td>13.2</td>\n",
       "      <td>5</td>\n",
       "      <td>No</td>\n",
       "      <td>Yes</td>\n",
       "      <td>0</td>\n",
       "      <td>NaN</td>\n",
       "    </tr>\n",
       "    <tr>\n",
       "      <th>1486</th>\n",
       "      <td>2487.0</td>\n",
       "      <td>26</td>\n",
       "      <td>Female</td>\n",
       "      <td>2024-07-27</td>\n",
       "      <td>2025-07-13</td>\n",
       "      <td>France</td>\n",
       "      <td>Standard</td>\n",
       "      <td>39.3</td>\n",
       "      <td>45.4</td>\n",
       "      <td>1</td>\n",
       "      <td>No</td>\n",
       "      <td>Yes</td>\n",
       "      <td>1</td>\n",
       "      <td>NaN</td>\n",
       "    </tr>\n",
       "    <tr>\n",
       "      <th>1496</th>\n",
       "      <td>2497.0</td>\n",
       "      <td>54</td>\n",
       "      <td>Male</td>\n",
       "      <td>2025-02-12</td>\n",
       "      <td>2025-07-13</td>\n",
       "      <td>USA</td>\n",
       "      <td>Basic</td>\n",
       "      <td>48.7</td>\n",
       "      <td>42.0</td>\n",
       "      <td>0</td>\n",
       "      <td>Yes</td>\n",
       "      <td>Yes</td>\n",
       "      <td>1</td>\n",
       "      <td>NaN</td>\n",
       "    </tr>\n",
       "  </tbody>\n",
       "</table>\n",
       "<p>145 rows × 14 columns</p>\n",
       "</div>"
      ],
      "text/plain": [
       "     user_id  age  gender signup_date last_active_date country  \\\n",
       "8     1009.0   36   Other  2025-05-30       2025-07-13      UK   \n",
       "10    1011.0   28   Other  2022-11-26       2025-07-13     USA   \n",
       "15    1016.0   41  Female  2022-12-06       2025-07-13      UK   \n",
       "21    1022.0   47   Other  2024-12-01       2025-07-13      UK   \n",
       "27    1028.0   39   Other  2023-06-21       2025-07-13   India   \n",
       "...      ...  ...     ...         ...              ...     ...   \n",
       "1476  2477.0   67  Female  2023-06-23       2025-07-13  Canada   \n",
       "1478  2479.0   34   Other  2022-09-19       2025-07-13     USA   \n",
       "1483  2484.0   62    Male  2025-04-08       2025-07-13      UK   \n",
       "1486  2487.0   26  Female  2024-07-27       2025-07-13  France   \n",
       "1496  2497.0   54    Male  2025-02-12       2025-07-13     USA   \n",
       "\n",
       "     subscription_type  average_watch_hours  mobile_app_usage_pct  \\\n",
       "8             Standard                 11.6                  82.7   \n",
       "10            Standard                 21.7                  17.7   \n",
       "15            Standard                 46.1                  54.5   \n",
       "21             Premium                 76.7                  20.7   \n",
       "27            Standard                 35.3                  46.1   \n",
       "...                ...                  ...                   ...   \n",
       "1476             Basic                 78.2                  69.7   \n",
       "1478          Standard                 11.3                  23.4   \n",
       "1483           Premium                 31.9                  13.2   \n",
       "1486          Standard                 39.3                  45.4   \n",
       "1496             Basic                 48.7                  42.0   \n",
       "\n",
       "      complaints_raised received_promotions referred_by_friend  is_churned  \\\n",
       "8                     1                  No                Yes           0   \n",
       "10                    0                  No                 No           0   \n",
       "15                    1                 Yes                 No           0   \n",
       "21                    4                 Yes                Yes           0   \n",
       "27                    3                 Yes                 No           0   \n",
       "...                 ...                 ...                ...         ...   \n",
       "1476                  2                  No                 No           0   \n",
       "1478                  3                 Yes                Yes           0   \n",
       "1483                  5                  No                Yes           0   \n",
       "1486                  1                  No                Yes           1   \n",
       "1496                  0                 Yes                Yes           1   \n",
       "\n",
       "      monthly_fee  \n",
       "8             NaN  \n",
       "10            NaN  \n",
       "15            NaN  \n",
       "21            NaN  \n",
       "27            NaN  \n",
       "...           ...  \n",
       "1476          NaN  \n",
       "1478          NaN  \n",
       "1483          NaN  \n",
       "1486          NaN  \n",
       "1496          NaN  \n",
       "\n",
       "[145 rows x 14 columns]"
      ]
     },
     "execution_count": 83,
     "metadata": {},
     "output_type": "execute_result"
    }
   ],
   "source": [
    "df[df['monthly_fee'].isna()]"
   ]
  },
  {
   "cell_type": "code",
   "execution_count": 84,
   "id": "2df60ef9",
   "metadata": {},
   "outputs": [
    {
     "data": {
      "text/html": [
       "<div>\n",
       "<style scoped>\n",
       "    .dataframe tbody tr th:only-of-type {\n",
       "        vertical-align: middle;\n",
       "    }\n",
       "\n",
       "    .dataframe tbody tr th {\n",
       "        vertical-align: top;\n",
       "    }\n",
       "\n",
       "    .dataframe thead th {\n",
       "        text-align: right;\n",
       "    }\n",
       "</style>\n",
       "<table border=\"1\" class=\"dataframe\">\n",
       "  <thead>\n",
       "    <tr style=\"text-align: right;\">\n",
       "      <th>monthly_fee</th>\n",
       "      <th>5.99</th>\n",
       "      <th>6.99</th>\n",
       "      <th>9.99</th>\n",
       "      <th>10.99</th>\n",
       "      <th>13.99</th>\n",
       "      <th>14.99</th>\n",
       "    </tr>\n",
       "    <tr>\n",
       "      <th>subscription_type</th>\n",
       "      <th></th>\n",
       "      <th></th>\n",
       "      <th></th>\n",
       "      <th></th>\n",
       "      <th></th>\n",
       "      <th></th>\n",
       "    </tr>\n",
       "  </thead>\n",
       "  <tbody>\n",
       "    <tr>\n",
       "      <th>Basic</th>\n",
       "      <td>351</td>\n",
       "      <td>112</td>\n",
       "      <td>0</td>\n",
       "      <td>0</td>\n",
       "      <td>0</td>\n",
       "      <td>0</td>\n",
       "    </tr>\n",
       "    <tr>\n",
       "      <th>Premium</th>\n",
       "      <td>0</td>\n",
       "      <td>0</td>\n",
       "      <td>0</td>\n",
       "      <td>0</td>\n",
       "      <td>344</td>\n",
       "      <td>106</td>\n",
       "    </tr>\n",
       "    <tr>\n",
       "      <th>Standard</th>\n",
       "      <td>0</td>\n",
       "      <td>0</td>\n",
       "      <td>345</td>\n",
       "      <td>96</td>\n",
       "      <td>0</td>\n",
       "      <td>0</td>\n",
       "    </tr>\n",
       "  </tbody>\n",
       "</table>\n",
       "</div>"
      ],
      "text/plain": [
       "monthly_fee        5.99   6.99   9.99   10.99  13.99  14.99\n",
       "subscription_type                                          \n",
       "Basic                351    112      0      0      0      0\n",
       "Premium                0      0      0      0    344    106\n",
       "Standard               0      0    345     96      0      0"
      ]
     },
     "execution_count": 84,
     "metadata": {},
     "output_type": "execute_result"
    }
   ],
   "source": [
    "df.groupby(['subscription_type'])['monthly_fee'].value_counts().unstack(fill_value= 0)\n"
   ]
  },
  {
   "cell_type": "code",
   "execution_count": 85,
   "id": "bf6bbca3",
   "metadata": {},
   "outputs": [],
   "source": [
    "df['monthly_fee'] = df.groupby('subscription_type')['monthly_fee'].transform(lambda x: x.fillna(x.mode()[0]))"
   ]
  },
  {
   "cell_type": "code",
   "execution_count": 86,
   "id": "5559c02e",
   "metadata": {},
   "outputs": [
    {
     "data": {
      "text/plain": [
       "user_id                 0\n",
       "age                     0\n",
       "gender                  0\n",
       "signup_date             0\n",
       "last_active_date        0\n",
       "country                 0\n",
       "subscription_type       0\n",
       "average_watch_hours     0\n",
       "mobile_app_usage_pct    0\n",
       "complaints_raised       0\n",
       "received_promotions     0\n",
       "referred_by_friend      0\n",
       "is_churned              0\n",
       "monthly_fee             0\n",
       "dtype: int64"
      ]
     },
     "execution_count": 86,
     "metadata": {},
     "output_type": "execute_result"
    }
   ],
   "source": [
    "df.isnull().sum()"
   ]
  },
  {
   "cell_type": "markdown",
   "id": "d3b4ebb9",
   "metadata": {},
   "source": [
    "### Correlation matrix"
   ]
  },
  {
   "cell_type": "code",
   "execution_count": 87,
   "id": "c11bd2fd",
   "metadata": {},
   "outputs": [
    {
     "data": {
      "image/png": "[encoded data removed]",
      "text/plain": [
       "<Figure size 1200x800 with 2 Axes>"
      ]
     },
     "metadata": {},
     "output_type": "display_data"
    }
   ],
   "source": [
    "correlation_matrix = df.corr()\n",
    "# print(correlation_matrix)\n",
    "\n",
    "# Visualize correlation heatmap\n",
    "plt.figure(figsize=(12, 8))\n",
    "sns.heatmap(correlation_matrix, annot=True, cmap='coolwarm', center=0, fmt='.2f')\n",
    "plt.title('Correlation Heatmap - Numeric Variables')\n",
    "plt.tight_layout()\n",
    "plt.savefig('correlation_heatmap.png', dpi=300, bbox_inches='tight')\n",
    "plt.show()\n"
   ]
  },
  {
   "cell_type": "markdown",
   "id": "964d3b0a",
   "metadata": {},
   "source": [
    "### Create new features"
   ]
  },
  {
   "cell_type": "code",
   "execution_count": 88,
   "id": "8834b3a2",
   "metadata": {},
   "outputs": [],
   "source": [
    "# Create new features\n",
    "df['tenure_days'] = (df['last_active_date'] - df['signup_date']).dt.days\n",
    "df['is_loyal'] = np.where(df['tenure_days'] > 180, 1, 0)"
   ]
  },
  {
   "cell_type": "code",
   "execution_count": 89,
   "id": "a31748cf",
   "metadata": {},
   "outputs": [],
   "source": [
    "df['watch_per_fee_ratio'] = df['average_watch_hours'] / df['monthly_fee']"
   ]
  },
  {
   "cell_type": "code",
   "execution_count": 90,
   "id": "64cf7126",
   "metadata": {},
   "outputs": [],
   "source": [
    "df['heavy_mobile_user'] = (df['mobile_app_usage_pct'] > 70).astype(int)"
   ]
  },
  {
   "cell_type": "code",
   "execution_count": 91,
   "id": "49cffee6",
   "metadata": {},
   "outputs": [],
   "source": [
    "# low_watch_time (if watch hours < 20)\n",
    "df['low_watch_time'] = (df['average_watch_hours'] < 20).astype(int)\n",
    "\n",
    "# interaction feature: received_promotions AND low_watch_time\n",
    "df['promo_low_watch'] = df['received_promotions'] * df['low_watch_time']"
   ]
  },
  {
   "cell_type": "code",
   "execution_count": 92,
   "id": "ae9ff3e2",
   "metadata": {},
   "outputs": [
    {
     "data": {
      "text/plain": [
       "user_id                 0\n",
       "age                     0\n",
       "gender                  0\n",
       "signup_date             0\n",
       "last_active_date        0\n",
       "country                 0\n",
       "subscription_type       0\n",
       "average_watch_hours     0\n",
       "mobile_app_usage_pct    0\n",
       "complaints_raised       0\n",
       "received_promotions     0\n",
       "referred_by_friend      0\n",
       "is_churned              0\n",
       "monthly_fee             0\n",
       "tenure_days             0\n",
       "is_loyal                0\n",
       "watch_per_fee_ratio     0\n",
       "heavy_mobile_user       0\n",
       "low_watch_time          0\n",
       "promo_low_watch         0\n",
       "dtype: int64"
      ]
     },
     "execution_count": 92,
     "metadata": {},
     "output_type": "execute_result"
    }
   ],
   "source": [
    "df.isnull().sum()"
   ]
  },
  {
   "cell_type": "code",
   "execution_count": 93,
   "id": "1294feff",
   "metadata": {},
   "outputs": [
    {
     "data": {
      "text/plain": [
       "user_id                         object\n",
       "age                              int64\n",
       "gender                          object\n",
       "signup_date             datetime64[ns]\n",
       "last_active_date        datetime64[ns]\n",
       "country                         object\n",
       "subscription_type               object\n",
       "average_watch_hours            float64\n",
       "mobile_app_usage_pct           float64\n",
       "complaints_raised                int64\n",
       "received_promotions             object\n",
       "referred_by_friend              object\n",
       "is_churned                       int64\n",
       "monthly_fee                    float64\n",
       "tenure_days                      int64\n",
       "is_loyal                         int64\n",
       "watch_per_fee_ratio            float64\n",
       "heavy_mobile_user                int64\n",
       "low_watch_time                   int64\n",
       "promo_low_watch                 object\n",
       "dtype: object"
      ]
     },
     "execution_count": 93,
     "metadata": {},
     "output_type": "execute_result"
    }
   ],
   "source": [
    "df.dtypes"
   ]
  },
  {
   "cell_type": "code",
   "execution_count": 94,
   "id": "2cc0a952",
   "metadata": {},
   "outputs": [],
   "source": [
    "# Convert blanks or invalid entries in promo_low_watch to 0\n",
    "df['promo_low_watch'] = df['promo_low_watch'].replace(['', ' ', None, np.nan], 'No')\n"
   ]
  },
  {
   "cell_type": "code",
   "execution_count": 95,
   "id": "1a377fe8",
   "metadata": {},
   "outputs": [
    {
     "data": {
      "text/plain": [
       "No     1317\n",
       "Yes     182\n",
       "Name: promo_low_watch, dtype: int64"
      ]
     },
     "execution_count": 95,
     "metadata": {},
     "output_type": "execute_result"
    }
   ],
   "source": [
    "df['promo_low_watch'].value_counts()"
   ]
  },
  {
   "cell_type": "markdown",
   "id": "d0eb1e86",
   "metadata": {},
   "source": [
    "### Encoding variables"
   ]
  },
  {
   "cell_type": "code",
   "execution_count": 96,
   "id": "0cbece50",
   "metadata": {},
   "outputs": [
    {
     "data": {
      "text/html": [
       "<div>\n",
       "<style scoped>\n",
       "    .dataframe tbody tr th:only-of-type {\n",
       "        vertical-align: middle;\n",
       "    }\n",
       "\n",
       "    .dataframe tbody tr th {\n",
       "        vertical-align: top;\n",
       "    }\n",
       "\n",
       "    .dataframe thead th {\n",
       "        text-align: right;\n",
       "    }\n",
       "</style>\n",
       "<table border=\"1\" class=\"dataframe\">\n",
       "  <thead>\n",
       "    <tr style=\"text-align: right;\">\n",
       "      <th></th>\n",
       "      <th>user_id</th>\n",
       "      <th>age</th>\n",
       "      <th>gender</th>\n",
       "      <th>signup_date</th>\n",
       "      <th>last_active_date</th>\n",
       "      <th>country</th>\n",
       "      <th>subscription_type</th>\n",
       "      <th>average_watch_hours</th>\n",
       "      <th>mobile_app_usage_pct</th>\n",
       "      <th>complaints_raised</th>\n",
       "      <th>received_promotions</th>\n",
       "      <th>referred_by_friend</th>\n",
       "      <th>is_churned</th>\n",
       "      <th>monthly_fee</th>\n",
       "      <th>tenure_days</th>\n",
       "      <th>is_loyal</th>\n",
       "      <th>watch_per_fee_ratio</th>\n",
       "      <th>heavy_mobile_user</th>\n",
       "      <th>low_watch_time</th>\n",
       "      <th>promo_low_watch</th>\n",
       "    </tr>\n",
       "  </thead>\n",
       "  <tbody>\n",
       "    <tr>\n",
       "      <th>0</th>\n",
       "      <td>1001.0</td>\n",
       "      <td>56</td>\n",
       "      <td>Other</td>\n",
       "      <td>2025-04-02</td>\n",
       "      <td>2025-07-13</td>\n",
       "      <td>France</td>\n",
       "      <td>Standard</td>\n",
       "      <td>42.6</td>\n",
       "      <td>77.4</td>\n",
       "      <td>1</td>\n",
       "      <td>No</td>\n",
       "      <td>No</td>\n",
       "      <td>1</td>\n",
       "      <td>10.99</td>\n",
       "      <td>102</td>\n",
       "      <td>0</td>\n",
       "      <td>3.876251</td>\n",
       "      <td>1</td>\n",
       "      <td>0</td>\n",
       "      <td>No</td>\n",
       "    </tr>\n",
       "    <tr>\n",
       "      <th>1</th>\n",
       "      <td>1002.0</td>\n",
       "      <td>69</td>\n",
       "      <td>Male</td>\n",
       "      <td>2023-01-02</td>\n",
       "      <td>2025-07-13</td>\n",
       "      <td>India</td>\n",
       "      <td>Basic</td>\n",
       "      <td>65.3</td>\n",
       "      <td>98.0</td>\n",
       "      <td>4</td>\n",
       "      <td>No</td>\n",
       "      <td>Yes</td>\n",
       "      <td>1</td>\n",
       "      <td>5.99</td>\n",
       "      <td>923</td>\n",
       "      <td>1</td>\n",
       "      <td>10.901503</td>\n",
       "      <td>1</td>\n",
       "      <td>0</td>\n",
       "      <td>No</td>\n",
       "    </tr>\n",
       "    <tr>\n",
       "      <th>2</th>\n",
       "      <td>1003.0</td>\n",
       "      <td>46</td>\n",
       "      <td>Male</td>\n",
       "      <td>2022-08-21</td>\n",
       "      <td>2025-07-13</td>\n",
       "      <td>UK</td>\n",
       "      <td>Premium</td>\n",
       "      <td>40.1</td>\n",
       "      <td>47.8</td>\n",
       "      <td>0</td>\n",
       "      <td>No</td>\n",
       "      <td>Yes</td>\n",
       "      <td>1</td>\n",
       "      <td>13.99</td>\n",
       "      <td>1057</td>\n",
       "      <td>1</td>\n",
       "      <td>2.866333</td>\n",
       "      <td>0</td>\n",
       "      <td>0</td>\n",
       "      <td>No</td>\n",
       "    </tr>\n",
       "    <tr>\n",
       "      <th>3</th>\n",
       "      <td>1004.0</td>\n",
       "      <td>32</td>\n",
       "      <td>Other</td>\n",
       "      <td>2023-09-14</td>\n",
       "      <td>2025-07-13</td>\n",
       "      <td>Germany</td>\n",
       "      <td>Premium</td>\n",
       "      <td>5.8</td>\n",
       "      <td>53.2</td>\n",
       "      <td>1</td>\n",
       "      <td>Yes</td>\n",
       "      <td>Yes</td>\n",
       "      <td>1</td>\n",
       "      <td>13.99</td>\n",
       "      <td>668</td>\n",
       "      <td>1</td>\n",
       "      <td>0.414582</td>\n",
       "      <td>0</td>\n",
       "      <td>1</td>\n",
       "      <td>Yes</td>\n",
       "    </tr>\n",
       "    <tr>\n",
       "      <th>4</th>\n",
       "      <td>1005.0</td>\n",
       "      <td>60</td>\n",
       "      <td>Female</td>\n",
       "      <td>2023-07-29</td>\n",
       "      <td>2025-07-13</td>\n",
       "      <td>India</td>\n",
       "      <td>Standard</td>\n",
       "      <td>32.7</td>\n",
       "      <td>16.8</td>\n",
       "      <td>5</td>\n",
       "      <td>No</td>\n",
       "      <td>Yes</td>\n",
       "      <td>0</td>\n",
       "      <td>9.99</td>\n",
       "      <td>715</td>\n",
       "      <td>1</td>\n",
       "      <td>3.273273</td>\n",
       "      <td>0</td>\n",
       "      <td>0</td>\n",
       "      <td>No</td>\n",
       "    </tr>\n",
       "  </tbody>\n",
       "</table>\n",
       "</div>"
      ],
      "text/plain": [
       "  user_id  age  gender signup_date last_active_date  country  \\\n",
       "0  1001.0   56   Other  2025-04-02       2025-07-13   France   \n",
       "1  1002.0   69    Male  2023-01-02       2025-07-13    India   \n",
       "2  1003.0   46    Male  2022-08-21       2025-07-13       UK   \n",
       "3  1004.0   32   Other  2023-09-14       2025-07-13  Germany   \n",
       "4  1005.0   60  Female  2023-07-29       2025-07-13    India   \n",
       "\n",
       "  subscription_type  average_watch_hours  mobile_app_usage_pct  \\\n",
       "0          Standard                 42.6                  77.4   \n",
       "1             Basic                 65.3                  98.0   \n",
       "2           Premium                 40.1                  47.8   \n",
       "3           Premium                  5.8                  53.2   \n",
       "4          Standard                 32.7                  16.8   \n",
       "\n",
       "   complaints_raised received_promotions referred_by_friend  is_churned  \\\n",
       "0                  1                  No                 No           1   \n",
       "1                  4                  No                Yes           1   \n",
       "2                  0                  No                Yes           1   \n",
       "3                  1                 Yes                Yes           1   \n",
       "4                  5                  No                Yes           0   \n",
       "\n",
       "   monthly_fee  tenure_days  is_loyal  watch_per_fee_ratio  heavy_mobile_user  \\\n",
       "0        10.99          102         0             3.876251                  1   \n",
       "1         5.99          923         1            10.901503                  1   \n",
       "2        13.99         1057         1             2.866333                  0   \n",
       "3        13.99          668         1             0.414582                  0   \n",
       "4         9.99          715         1             3.273273                  0   \n",
       "\n",
       "   low_watch_time promo_low_watch  \n",
       "0               0              No  \n",
       "1               0              No  \n",
       "2               0              No  \n",
       "3               1             Yes  \n",
       "4               0              No  "
      ]
     },
     "execution_count": 96,
     "metadata": {},
     "output_type": "execute_result"
    }
   ],
   "source": [
    "df.head()"
   ]
  },
  {
   "cell_type": "code",
   "execution_count": 97,
   "id": "6cb921df",
   "metadata": {},
   "outputs": [
    {
     "name": "stdout",
     "output_type": "stream",
     "text": [
      "received_promotions: Encoded\n",
      "referred_by_friend: Encoded\n",
      "promo_low_watch: Encoded\n",
      "subscription_type, country, age: One-hot encoded\n",
      "gender: Label encoded\n"
     ]
    }
   ],
   "source": [
    "# Binary encoding for binary categorical variables\n",
    "binary_mappings = {\n",
    "    'received_promotions': {'Yes': 1, 'No': 0},\n",
    "    'referred_by_friend': {'Yes': 1, 'No': 0},\n",
    "    'promo_low_watch' : {'Yes': 1, 'No': 0}}\n",
    "\n",
    "for col, mapping in binary_mappings.items():\n",
    "    if col in df.columns:\n",
    "        df[col] = df[col].map(mapping)\n",
    "        print(f\"{col}: Encoded\")\n",
    "\n",
    "\n",
    "# One-hot encoding for country and subscription_type\n",
    "df = pd.get_dummies(df, columns=['subscription_type'], drop_first=True)\n",
    "df = pd.get_dummies(df, columns=['country'], prefix='country', drop_first=True)\n",
    "\n",
    "# converting age to age_group and then applying one hot encoding\n",
    "bins = [0, 24, 34, 44, 54, 64, 120]\n",
    "labels = ['<25','25-34','35-44','45-54','55-64','65+']\n",
    "df['age_group'] = pd.cut(df['age'], bins=bins, labels=labels)\n",
    "df = pd.get_dummies(df, columns=['age_group'], prefix='age', drop_first=True)\n",
    "print(f\"subscription_type, country, age: One-hot encoded\")\n",
    "\n",
    "enc_cols = {}\n",
    "# Label encoding gender\n",
    "le = LabelEncoder()\n",
    "df['gender_le'] = le.fit_transform(df['gender'])\n",
    "enc_cols['gender_le'] = 'label'\n",
    "print(f\"gender: Label encoded\")"
   ]
  },
  {
   "cell_type": "code",
   "execution_count": 98,
   "id": "43a34fd6",
   "metadata": {},
   "outputs": [
    {
     "data": {
      "text/html": [
       "<div>\n",
       "<style scoped>\n",
       "    .dataframe tbody tr th:only-of-type {\n",
       "        vertical-align: middle;\n",
       "    }\n",
       "\n",
       "    .dataframe tbody tr th {\n",
       "        vertical-align: top;\n",
       "    }\n",
       "\n",
       "    .dataframe thead th {\n",
       "        text-align: right;\n",
       "    }\n",
       "</style>\n",
       "<table border=\"1\" class=\"dataframe\">\n",
       "  <thead>\n",
       "    <tr style=\"text-align: right;\">\n",
       "      <th></th>\n",
       "      <th>user_id</th>\n",
       "      <th>age</th>\n",
       "      <th>gender</th>\n",
       "      <th>signup_date</th>\n",
       "      <th>last_active_date</th>\n",
       "      <th>average_watch_hours</th>\n",
       "      <th>mobile_app_usage_pct</th>\n",
       "      <th>complaints_raised</th>\n",
       "      <th>received_promotions</th>\n",
       "      <th>referred_by_friend</th>\n",
       "      <th>...</th>\n",
       "      <th>country_Germany</th>\n",
       "      <th>country_India</th>\n",
       "      <th>country_UK</th>\n",
       "      <th>country_USA</th>\n",
       "      <th>age_25-34</th>\n",
       "      <th>age_35-44</th>\n",
       "      <th>age_45-54</th>\n",
       "      <th>age_55-64</th>\n",
       "      <th>age_65+</th>\n",
       "      <th>gender_le</th>\n",
       "    </tr>\n",
       "  </thead>\n",
       "  <tbody>\n",
       "    <tr>\n",
       "      <th>0</th>\n",
       "      <td>1001.0</td>\n",
       "      <td>56</td>\n",
       "      <td>Other</td>\n",
       "      <td>2025-04-02</td>\n",
       "      <td>2025-07-13</td>\n",
       "      <td>42.6</td>\n",
       "      <td>77.4</td>\n",
       "      <td>1</td>\n",
       "      <td>0</td>\n",
       "      <td>0</td>\n",
       "      <td>...</td>\n",
       "      <td>0</td>\n",
       "      <td>0</td>\n",
       "      <td>0</td>\n",
       "      <td>0</td>\n",
       "      <td>0</td>\n",
       "      <td>0</td>\n",
       "      <td>0</td>\n",
       "      <td>1</td>\n",
       "      <td>0</td>\n",
       "      <td>2</td>\n",
       "    </tr>\n",
       "    <tr>\n",
       "      <th>1</th>\n",
       "      <td>1002.0</td>\n",
       "      <td>69</td>\n",
       "      <td>Male</td>\n",
       "      <td>2023-01-02</td>\n",
       "      <td>2025-07-13</td>\n",
       "      <td>65.3</td>\n",
       "      <td>98.0</td>\n",
       "      <td>4</td>\n",
       "      <td>0</td>\n",
       "      <td>1</td>\n",
       "      <td>...</td>\n",
       "      <td>0</td>\n",
       "      <td>1</td>\n",
       "      <td>0</td>\n",
       "      <td>0</td>\n",
       "      <td>0</td>\n",
       "      <td>0</td>\n",
       "      <td>0</td>\n",
       "      <td>0</td>\n",
       "      <td>1</td>\n",
       "      <td>1</td>\n",
       "    </tr>\n",
       "    <tr>\n",
       "      <th>2</th>\n",
       "      <td>1003.0</td>\n",
       "      <td>46</td>\n",
       "      <td>Male</td>\n",
       "      <td>2022-08-21</td>\n",
       "      <td>2025-07-13</td>\n",
       "      <td>40.1</td>\n",
       "      <td>47.8</td>\n",
       "      <td>0</td>\n",
       "      <td>0</td>\n",
       "      <td>1</td>\n",
       "      <td>...</td>\n",
       "      <td>0</td>\n",
       "      <td>0</td>\n",
       "      <td>1</td>\n",
       "      <td>0</td>\n",
       "      <td>0</td>\n",
       "      <td>0</td>\n",
       "      <td>1</td>\n",
       "      <td>0</td>\n",
       "      <td>0</td>\n",
       "      <td>1</td>\n",
       "    </tr>\n",
       "    <tr>\n",
       "      <th>3</th>\n",
       "      <td>1004.0</td>\n",
       "      <td>32</td>\n",
       "      <td>Other</td>\n",
       "      <td>2023-09-14</td>\n",
       "      <td>2025-07-13</td>\n",
       "      <td>5.8</td>\n",
       "      <td>53.2</td>\n",
       "      <td>1</td>\n",
       "      <td>1</td>\n",
       "      <td>1</td>\n",
       "      <td>...</td>\n",
       "      <td>1</td>\n",
       "      <td>0</td>\n",
       "      <td>0</td>\n",
       "      <td>0</td>\n",
       "      <td>1</td>\n",
       "      <td>0</td>\n",
       "      <td>0</td>\n",
       "      <td>0</td>\n",
       "      <td>0</td>\n",
       "      <td>2</td>\n",
       "    </tr>\n",
       "    <tr>\n",
       "      <th>4</th>\n",
       "      <td>1005.0</td>\n",
       "      <td>60</td>\n",
       "      <td>Female</td>\n",
       "      <td>2023-07-29</td>\n",
       "      <td>2025-07-13</td>\n",
       "      <td>32.7</td>\n",
       "      <td>16.8</td>\n",
       "      <td>5</td>\n",
       "      <td>0</td>\n",
       "      <td>1</td>\n",
       "      <td>...</td>\n",
       "      <td>0</td>\n",
       "      <td>1</td>\n",
       "      <td>0</td>\n",
       "      <td>0</td>\n",
       "      <td>0</td>\n",
       "      <td>0</td>\n",
       "      <td>0</td>\n",
       "      <td>1</td>\n",
       "      <td>0</td>\n",
       "      <td>0</td>\n",
       "    </tr>\n",
       "  </tbody>\n",
       "</table>\n",
       "<p>5 rows × 31 columns</p>\n",
       "</div>"
      ],
      "text/plain": [
       "  user_id  age  gender signup_date last_active_date  average_watch_hours  \\\n",
       "0  1001.0   56   Other  2025-04-02       2025-07-13                 42.6   \n",
       "1  1002.0   69    Male  2023-01-02       2025-07-13                 65.3   \n",
       "2  1003.0   46    Male  2022-08-21       2025-07-13                 40.1   \n",
       "3  1004.0   32   Other  2023-09-14       2025-07-13                  5.8   \n",
       "4  1005.0   60  Female  2023-07-29       2025-07-13                 32.7   \n",
       "\n",
       "   mobile_app_usage_pct  complaints_raised  received_promotions  \\\n",
       "0                  77.4                  1                    0   \n",
       "1                  98.0                  4                    0   \n",
       "2                  47.8                  0                    0   \n",
       "3                  53.2                  1                    1   \n",
       "4                  16.8                  5                    0   \n",
       "\n",
       "   referred_by_friend  ...  country_Germany  country_India  country_UK  \\\n",
       "0                   0  ...                0              0           0   \n",
       "1                   1  ...                0              1           0   \n",
       "2                   1  ...                0              0           1   \n",
       "3                   1  ...                1              0           0   \n",
       "4                   1  ...                0              1           0   \n",
       "\n",
       "   country_USA  age_25-34  age_35-44  age_45-54  age_55-64  age_65+  gender_le  \n",
       "0            0          0          0          0          1        0          2  \n",
       "1            0          0          0          0          0        1          1  \n",
       "2            0          0          0          1          0        0          1  \n",
       "3            0          1          0          0          0        0          2  \n",
       "4            0          0          0          0          1        0          0  \n",
       "\n",
       "[5 rows x 31 columns]"
      ]
     },
     "execution_count": 98,
     "metadata": {},
     "output_type": "execute_result"
    }
   ],
   "source": [
    "df.head()"
   ]
  },
  {
   "cell_type": "code",
   "execution_count": 99,
   "id": "2fd0e24f",
   "metadata": {},
   "outputs": [],
   "source": [
    "df['complaint_flag'] = df['complaints_raised'].apply(lambda x: 1 if x > 0 else 0)"
   ]
  },
  {
   "cell_type": "code",
   "execution_count": 100,
   "id": "35473e2b",
   "metadata": {},
   "outputs": [
    {
     "data": {
      "text/plain": [
       "user_id                       0\n",
       "age                           0\n",
       "gender                        0\n",
       "signup_date                   0\n",
       "last_active_date              0\n",
       "average_watch_hours           0\n",
       "mobile_app_usage_pct          0\n",
       "complaints_raised             0\n",
       "received_promotions           0\n",
       "referred_by_friend            0\n",
       "is_churned                    0\n",
       "monthly_fee                   0\n",
       "tenure_days                   0\n",
       "is_loyal                      0\n",
       "watch_per_fee_ratio           0\n",
       "heavy_mobile_user             0\n",
       "low_watch_time                0\n",
       "promo_low_watch               0\n",
       "subscription_type_Premium     0\n",
       "subscription_type_Standard    0\n",
       "country_France                0\n",
       "country_Germany               0\n",
       "country_India                 0\n",
       "country_UK                    0\n",
       "country_USA                   0\n",
       "age_25-34                     0\n",
       "age_35-44                     0\n",
       "age_45-54                     0\n",
       "age_55-64                     0\n",
       "age_65+                       0\n",
       "gender_le                     0\n",
       "complaint_flag                0\n",
       "dtype: int64"
      ]
     },
     "execution_count": 100,
     "metadata": {},
     "output_type": "execute_result"
    }
   ],
   "source": [
    "df.isna().sum()"
   ]
  },
  {
   "cell_type": "code",
   "execution_count": 101,
   "id": "d46a22fc",
   "metadata": {},
   "outputs": [
    {
     "name": "stdout",
     "output_type": "stream",
     "text": [
      "Total Features: 32\n"
     ]
    }
   ],
   "source": [
    "print(f\"Total Features: {df.shape[1]}\")"
   ]
  },
  {
   "cell_type": "markdown",
   "id": "9c86b9f4",
   "metadata": {},
   "source": [
    "### chi square test"
   ]
  },
  {
   "cell_type": "code",
   "execution_count": 102,
   "id": "afff3f19",
   "metadata": {},
   "outputs": [
    {
     "data": {
      "text/html": [
       "<div>\n",
       "<style scoped>\n",
       "    .dataframe tbody tr th:only-of-type {\n",
       "        vertical-align: middle;\n",
       "    }\n",
       "\n",
       "    .dataframe tbody tr th {\n",
       "        vertical-align: top;\n",
       "    }\n",
       "\n",
       "    .dataframe thead th {\n",
       "        text-align: right;\n",
       "    }\n",
       "</style>\n",
       "<table border=\"1\" class=\"dataframe\">\n",
       "  <thead>\n",
       "    <tr style=\"text-align: right;\">\n",
       "      <th></th>\n",
       "      <th>user_id</th>\n",
       "      <th>age</th>\n",
       "      <th>gender</th>\n",
       "      <th>signup_date</th>\n",
       "      <th>last_active_date</th>\n",
       "      <th>average_watch_hours</th>\n",
       "      <th>mobile_app_usage_pct</th>\n",
       "      <th>complaints_raised</th>\n",
       "      <th>received_promotions</th>\n",
       "      <th>referred_by_friend</th>\n",
       "      <th>...</th>\n",
       "      <th>country_India</th>\n",
       "      <th>country_UK</th>\n",
       "      <th>country_USA</th>\n",
       "      <th>age_25-34</th>\n",
       "      <th>age_35-44</th>\n",
       "      <th>age_45-54</th>\n",
       "      <th>age_55-64</th>\n",
       "      <th>age_65+</th>\n",
       "      <th>gender_le</th>\n",
       "      <th>complaint_flag</th>\n",
       "    </tr>\n",
       "  </thead>\n",
       "  <tbody>\n",
       "    <tr>\n",
       "      <th>0</th>\n",
       "      <td>1001.0</td>\n",
       "      <td>56</td>\n",
       "      <td>Other</td>\n",
       "      <td>2025-04-02</td>\n",
       "      <td>2025-07-13</td>\n",
       "      <td>42.6</td>\n",
       "      <td>77.4</td>\n",
       "      <td>1</td>\n",
       "      <td>0</td>\n",
       "      <td>0</td>\n",
       "      <td>...</td>\n",
       "      <td>0</td>\n",
       "      <td>0</td>\n",
       "      <td>0</td>\n",
       "      <td>0</td>\n",
       "      <td>0</td>\n",
       "      <td>0</td>\n",
       "      <td>1</td>\n",
       "      <td>0</td>\n",
       "      <td>2</td>\n",
       "      <td>1</td>\n",
       "    </tr>\n",
       "    <tr>\n",
       "      <th>1</th>\n",
       "      <td>1002.0</td>\n",
       "      <td>69</td>\n",
       "      <td>Male</td>\n",
       "      <td>2023-01-02</td>\n",
       "      <td>2025-07-13</td>\n",
       "      <td>65.3</td>\n",
       "      <td>98.0</td>\n",
       "      <td>4</td>\n",
       "      <td>0</td>\n",
       "      <td>1</td>\n",
       "      <td>...</td>\n",
       "      <td>1</td>\n",
       "      <td>0</td>\n",
       "      <td>0</td>\n",
       "      <td>0</td>\n",
       "      <td>0</td>\n",
       "      <td>0</td>\n",
       "      <td>0</td>\n",
       "      <td>1</td>\n",
       "      <td>1</td>\n",
       "      <td>1</td>\n",
       "    </tr>\n",
       "    <tr>\n",
       "      <th>2</th>\n",
       "      <td>1003.0</td>\n",
       "      <td>46</td>\n",
       "      <td>Male</td>\n",
       "      <td>2022-08-21</td>\n",
       "      <td>2025-07-13</td>\n",
       "      <td>40.1</td>\n",
       "      <td>47.8</td>\n",
       "      <td>0</td>\n",
       "      <td>0</td>\n",
       "      <td>1</td>\n",
       "      <td>...</td>\n",
       "      <td>0</td>\n",
       "      <td>1</td>\n",
       "      <td>0</td>\n",
       "      <td>0</td>\n",
       "      <td>0</td>\n",
       "      <td>1</td>\n",
       "      <td>0</td>\n",
       "      <td>0</td>\n",
       "      <td>1</td>\n",
       "      <td>0</td>\n",
       "    </tr>\n",
       "    <tr>\n",
       "      <th>3</th>\n",
       "      <td>1004.0</td>\n",
       "      <td>32</td>\n",
       "      <td>Other</td>\n",
       "      <td>2023-09-14</td>\n",
       "      <td>2025-07-13</td>\n",
       "      <td>5.8</td>\n",
       "      <td>53.2</td>\n",
       "      <td>1</td>\n",
       "      <td>1</td>\n",
       "      <td>1</td>\n",
       "      <td>...</td>\n",
       "      <td>0</td>\n",
       "      <td>0</td>\n",
       "      <td>0</td>\n",
       "      <td>1</td>\n",
       "      <td>0</td>\n",
       "      <td>0</td>\n",
       "      <td>0</td>\n",
       "      <td>0</td>\n",
       "      <td>2</td>\n",
       "      <td>1</td>\n",
       "    </tr>\n",
       "    <tr>\n",
       "      <th>4</th>\n",
       "      <td>1005.0</td>\n",
       "      <td>60</td>\n",
       "      <td>Female</td>\n",
       "      <td>2023-07-29</td>\n",
       "      <td>2025-07-13</td>\n",
       "      <td>32.7</td>\n",
       "      <td>16.8</td>\n",
       "      <td>5</td>\n",
       "      <td>0</td>\n",
       "      <td>1</td>\n",
       "      <td>...</td>\n",
       "      <td>1</td>\n",
       "      <td>0</td>\n",
       "      <td>0</td>\n",
       "      <td>0</td>\n",
       "      <td>0</td>\n",
       "      <td>0</td>\n",
       "      <td>1</td>\n",
       "      <td>0</td>\n",
       "      <td>0</td>\n",
       "      <td>1</td>\n",
       "    </tr>\n",
       "  </tbody>\n",
       "</table>\n",
       "<p>5 rows × 32 columns</p>\n",
       "</div>"
      ],
      "text/plain": [
       "  user_id  age  gender signup_date last_active_date  average_watch_hours  \\\n",
       "0  1001.0   56   Other  2025-04-02       2025-07-13                 42.6   \n",
       "1  1002.0   69    Male  2023-01-02       2025-07-13                 65.3   \n",
       "2  1003.0   46    Male  2022-08-21       2025-07-13                 40.1   \n",
       "3  1004.0   32   Other  2023-09-14       2025-07-13                  5.8   \n",
       "4  1005.0   60  Female  2023-07-29       2025-07-13                 32.7   \n",
       "\n",
       "   mobile_app_usage_pct  complaints_raised  received_promotions  \\\n",
       "0                  77.4                  1                    0   \n",
       "1                  98.0                  4                    0   \n",
       "2                  47.8                  0                    0   \n",
       "3                  53.2                  1                    1   \n",
       "4                  16.8                  5                    0   \n",
       "\n",
       "   referred_by_friend  ...  country_India  country_UK  country_USA  age_25-34  \\\n",
       "0                   0  ...              0           0            0          0   \n",
       "1                   1  ...              1           0            0          0   \n",
       "2                   1  ...              0           1            0          0   \n",
       "3                   1  ...              0           0            0          1   \n",
       "4                   1  ...              1           0            0          0   \n",
       "\n",
       "   age_35-44  age_45-54  age_55-64  age_65+  gender_le  complaint_flag  \n",
       "0          0          0          1        0          2               1  \n",
       "1          0          0          0        1          1               1  \n",
       "2          0          1          0        0          1               0  \n",
       "3          0          0          0        0          2               1  \n",
       "4          0          0          1        0          0               1  \n",
       "\n",
       "[5 rows x 32 columns]"
      ]
     },
     "execution_count": 102,
     "metadata": {},
     "output_type": "execute_result"
    }
   ],
   "source": [
    "df.head()"
   ]
  },
  {
   "cell_type": "code",
   "execution_count": 103,
   "id": "d17025e9",
   "metadata": {},
   "outputs": [
    {
     "name": "stdout",
     "output_type": "stream",
     "text": [
      "\n",
      "Chi-square test results:\n",
      "gender {'chi2': 4.424236630705249, 'p_value': 0.10946851390153048}\n",
      "received_promotions {'chi2': 2.569079144582524, 'p_value': 0.1089711488386035}\n",
      "referred_by_friend {'chi2': 0.7403934174412926, 'p_value': 0.3895348816283575}\n",
      "heavy_mobile_user {'chi2': 0.13515683601503423, 'p_value': 0.7131440515972632}\n"
     ]
    }
   ],
   "source": [
    "cat_tests = ['gender','received_promotions','referred_by_friend','heavy_mobile_user']\n",
    "chi_results = {}\n",
    "for col in cat_tests:\n",
    "    if col in df.columns:\n",
    "        ct = pd.crosstab(df[col], df['is_churned'])\n",
    "    try:\n",
    "        chi2, p, dof, ex = chi2_contingency(ct)\n",
    "        chi_results[col] = {'chi2':chi2,'p_value':p}\n",
    "    except Exception as e:\n",
    "        chi_results[col] = {'error':str(e)}\n",
    "\n",
    "\n",
    "print('\\nChi-square test results:')\n",
    "for k,v in chi_results.items():\n",
    "    print(k, v)"
   ]
  },
  {
   "cell_type": "markdown",
   "id": "3db0b2cb",
   "metadata": {},
   "source": [
    "### t square"
   ]
  },
  {
   "cell_type": "code",
   "execution_count": 104,
   "id": "ebe07f29",
   "metadata": {},
   "outputs": [
    {
     "name": "stdout",
     "output_type": "stream",
     "text": [
      "\n",
      "T-test for average_watch_hours: t-stat = -0.1733965118422404 p-value = 0.8624009411691611\n"
     ]
    }
   ],
   "source": [
    "churn_watch = df.loc[df['is_churned']==1, 'average_watch_hours'].dropna()\n",
    "retain_watch = df.loc[df['is_churned']==0, 'average_watch_hours'].dropna()\n",
    "tstat, pval = ttest_ind(churn_watch, retain_watch, equal_var=False)\n",
    "print('\\nT-test for average_watch_hours: t-stat =', tstat, 'p-value =', pval)"
   ]
  },
  {
   "cell_type": "markdown",
   "id": "9b743dfa",
   "metadata": {},
   "source": [
    "### Visualisations"
   ]
  },
  {
   "cell_type": "code",
   "execution_count": null,
   "id": "a2539fb1",
   "metadata": {},
   "outputs": [
    {
     "data": {
      "text/plain": [
       "([<matplotlib.axis.XTick at 0x12e6143a0>,\n",
       "  <matplotlib.axis.XTick at 0x12e6143d0>],\n",
       " [Text(0, 0, 'Retained'), Text(1, 0, 'Churned')])"
      ]
     },
     "execution_count": 105,
     "metadata": {},
     "output_type": "execute_result"
    },
    {
     "data": {
      "image/png": "[encoded data removed]",
      "text/plain": [
       "<Figure size 1000x600 with 1 Axes>"
      ]
     },
     "metadata": {},
     "output_type": "display_data"
    }
   ],
   "source": [
    "# Churn distribution\n",
    "plt.figure(figsize=(10, 6))\n",
    "churn_by_sub = df.groupby(['is_churned']).size()\n",
    "churn_by_sub.plot(kind='bar', color=['green', 'red'])\n",
    "plt.title('Churn Distribution')\n",
    "plt.xlabel('Churned')\n",
    "plt.ylabel('Count')\n",
    "plt.xticks([0, 1], ['Retained', 'Churned'], rotation=0)"
   ]
  },
  {
   "cell_type": "code",
   "execution_count": 106,
   "id": "7fea6b0f",
   "metadata": {},
   "outputs": [
    {
     "data": {
      "image/png": "[encoded data removed]",
      "text/plain": [
       "<Figure size 640x480 with 1 Axes>"
      ]
     },
     "metadata": {},
     "output_type": "display_data"
    }
   ],
   "source": [
    "plt.figure()\n",
    "sns.boxplot(x='is_churned', y='average_watch_hours', data=df)\n",
    "plt.title('Average watch hours — churned vs retained')\n",
    "plt.show()"
   ]
  },
  {
   "cell_type": "code",
   "execution_count": 107,
   "id": "6d406a13",
   "metadata": {},
   "outputs": [
    {
     "data": {
      "image/png": "[encoded data removed]",
      "text/plain": [
       "<Figure size 640x480 with 1 Axes>"
      ]
     },
     "metadata": {},
     "output_type": "display_data"
    }
   ],
   "source": [
    "promo_churn = pd.crosstab(df['received_promotions'], df['is_churned'], normalize='index')\n",
    "promo_churn.plot(kind='bar', stacked=True)\n",
    "plt.title('Churn rate by received_promotions')\n",
    "plt.ylabel('Proportion')\n",
    "plt.show()"
   ]
  },
  {
   "cell_type": "code",
   "execution_count": 172,
   "id": "d90da89a",
   "metadata": {},
   "outputs": [
    {
     "data": {
      "text/html": [
       "<div>\n",
       "<style scoped>\n",
       "    .dataframe tbody tr th:only-of-type {\n",
       "        vertical-align: middle;\n",
       "    }\n",
       "\n",
       "    .dataframe tbody tr th {\n",
       "        vertical-align: top;\n",
       "    }\n",
       "\n",
       "    .dataframe thead th {\n",
       "        text-align: right;\n",
       "    }\n",
       "</style>\n",
       "<table border=\"1\" class=\"dataframe\">\n",
       "  <thead>\n",
       "    <tr style=\"text-align: right;\">\n",
       "      <th>is_churned</th>\n",
       "      <th>0</th>\n",
       "      <th>1</th>\n",
       "    </tr>\n",
       "    <tr>\n",
       "      <th>received_promotions</th>\n",
       "      <th></th>\n",
       "      <th></th>\n",
       "    </tr>\n",
       "  </thead>\n",
       "  <tbody>\n",
       "    <tr>\n",
       "      <th>0</th>\n",
       "      <td>0.748042</td>\n",
       "      <td>0.251958</td>\n",
       "    </tr>\n",
       "    <tr>\n",
       "      <th>1</th>\n",
       "      <td>0.784447</td>\n",
       "      <td>0.215553</td>\n",
       "    </tr>\n",
       "  </tbody>\n",
       "</table>\n",
       "</div>"
      ],
      "text/plain": [
       "is_churned                  0         1\n",
       "received_promotions                    \n",
       "0                    0.748042  0.251958\n",
       "1                    0.784447  0.215553"
      ]
     },
     "execution_count": 172,
     "metadata": {},
     "output_type": "execute_result"
    }
   ],
   "source": [
    "promo_churn"
   ]
  },
  {
   "cell_type": "code",
   "execution_count": 108,
   "id": "37f7cdee",
   "metadata": {},
   "outputs": [
    {
     "data": {
      "image/png": "[encoded data removed]",
      "text/plain": [
       "<Figure size 640x480 with 1 Axes>"
      ]
     },
     "metadata": {},
     "output_type": "display_data"
    }
   ],
   "source": [
    "# Mobile usage by churn\n",
    "mob = df.groupby('heavy_mobile_user')['is_churned'].mean()\n",
    "mob.plot(kind='bar')\n",
    "plt.title('Churn rate by heavy_mobile_user')\n",
    "plt.ylabel('Churn rate')\n",
    "plt.show()"
   ]
  },
  {
   "cell_type": "code",
   "execution_count": 173,
   "id": "72dd5e22",
   "metadata": {},
   "outputs": [
    {
     "data": {
      "text/plain": [
       "heavy_mobile_user\n",
       "0    0.23092\n",
       "1    0.24109\n",
       "Name: is_churned, dtype: float64"
      ]
     },
     "execution_count": 173,
     "metadata": {},
     "output_type": "execute_result"
    }
   ],
   "source": [
    "mob"
   ]
  },
  {
   "cell_type": "code",
   "execution_count": 109,
   "id": "016180d0",
   "metadata": {},
   "outputs": [
    {
     "data": {
      "image/png": "[encoded data removed]",
      "text/plain": [
       "<Figure size 640x480 with 1 Axes>"
      ]
     },
     "metadata": {},
     "output_type": "display_data"
    }
   ],
   "source": [
    "# Complaints by churn\n",
    "sns.boxplot(x='is_churned', y='complaints_raised', data=df)\n",
    "plt.title('Complaints Raised — churned vs retained')\n",
    "plt.show()"
   ]
  },
  {
   "cell_type": "markdown",
   "id": "0b617e93",
   "metadata": {},
   "source": [
    "### Logistic Regression model"
   ]
  },
  {
   "cell_type": "code",
   "execution_count": 110,
   "id": "cc11b41f",
   "metadata": {},
   "outputs": [
    {
     "data": {
      "text/plain": [
       "Index(['user_id', 'age', 'gender', 'signup_date', 'last_active_date',\n",
       "       'average_watch_hours', 'mobile_app_usage_pct', 'complaints_raised',\n",
       "       'received_promotions', 'referred_by_friend', 'is_churned',\n",
       "       'monthly_fee', 'tenure_days', 'is_loyal', 'watch_per_fee_ratio',\n",
       "       'heavy_mobile_user', 'low_watch_time', 'promo_low_watch',\n",
       "       'subscription_type_Premium', 'subscription_type_Standard',\n",
       "       'country_France', 'country_Germany', 'country_India', 'country_UK',\n",
       "       'country_USA', 'age_25-34', 'age_35-44', 'age_45-54', 'age_55-64',\n",
       "       'age_65+', 'gender_le', 'complaint_flag'],\n",
       "      dtype='object')"
      ]
     },
     "execution_count": 110,
     "metadata": {},
     "output_type": "execute_result"
    }
   ],
   "source": [
    "df.columns"
   ]
  },
  {
   "cell_type": "code",
   "execution_count": 165,
   "id": "53e5e50c",
   "metadata": {},
   "outputs": [],
   "source": [
    "# Prepare features and target\n",
    "exclude_cols = ['user_id', 'age', 'gender', 'signup_date', 'last_active_date', 'is_churned', \n",
    "                 'watch_per_fee_ratio', 'heavy_mobile_user', 'low_watch_time', 'promo_low_watch', 'tenure_days']\n",
    "feature_cols = [col for col in df.columns if col not in exclude_cols ]\n"
   ]
  },
  {
   "cell_type": "code",
   "execution_count": 166,
   "id": "3647cf35",
   "metadata": {},
   "outputs": [
    {
     "name": "stdout",
     "output_type": "stream",
     "text": [
      "Features used: 21\n",
      "Target variable: is_churned\n",
      "Class distribution: Retained=1148, Churned=351\n"
     ]
    }
   ],
   "source": [
    "X = df[feature_cols]\n",
    "y = df['is_churned']\n",
    "\n",
    "print(f\"Features used: {len(feature_cols)}\")\n",
    "print(f\"Target variable: is_churned\")\n",
    "print(f\"Class distribution: Retained={sum(y==0)}, Churned={sum(y==1)}\")"
   ]
  },
  {
   "cell_type": "code",
   "execution_count": 167,
   "id": "ea254dd3",
   "metadata": {},
   "outputs": [
    {
     "name": "stdout",
     "output_type": "stream",
     "text": [
      "Train set size: 1124 (Churned: 263)\n",
      "Test set size: 375 (Churned: 88)\n"
     ]
    }
   ],
   "source": [
    "# Split data with stratification\n",
    "X_train, X_test, y_train, y_test = train_test_split(X, y, test_size=0.25, random_state=42, stratify=y)\n",
    "print(f\"Train set size: {X_train.shape[0]} (Churned: {sum(y_train==1)})\")\n",
    "print(f\"Test set size: {X_test.shape[0]} (Churned: {sum(y_test==1)})\")"
   ]
  },
  {
   "cell_type": "markdown",
   "id": "7f541f63",
   "metadata": {},
   "source": [
    "#### Model 1"
   ]
  },
  {
   "cell_type": "code",
   "execution_count": 168,
   "id": "a9df8f6f",
   "metadata": {},
   "outputs": [
    {
     "name": "stdout",
     "output_type": "stream",
     "text": [
      "Confusion Matrix:\n",
      "True Negatives: 287 | False Positives: 0\n",
      "False Negatives: 88 | True Positives: 0\n",
      "Classification Report:\n",
      "              precision    recall  f1-score   support\n",
      "\n",
      "    Retained       0.77      1.00      0.87       287\n",
      "     Churned       0.00      0.00      0.00        88\n",
      "\n",
      "    accuracy                           0.77       375\n",
      "   macro avg       0.38      0.50      0.43       375\n",
      "weighted avg       0.59      0.77      0.66       375\n",
      "\n",
      "ROC AUC: 0.5079585049097244\n"
     ]
    },
    {
     "name": "stderr",
     "output_type": "stream",
     "text": [
      "/Library/Frameworks/Python.framework/Versions/3.10/lib/python3.10/site-packages/sklearn/metrics/_classification.py:1731: UndefinedMetricWarning: Precision is ill-defined and being set to 0.0 in labels with no predicted samples. Use `zero_division` parameter to control this behavior.\n",
      "  _warn_prf(average, modifier, f\"{metric.capitalize()} is\", result.shape[0])\n",
      "/Library/Frameworks/Python.framework/Versions/3.10/lib/python3.10/site-packages/sklearn/metrics/_classification.py:1731: UndefinedMetricWarning: Precision is ill-defined and being set to 0.0 in labels with no predicted samples. Use `zero_division` parameter to control this behavior.\n",
      "  _warn_prf(average, modifier, f\"{metric.capitalize()} is\", result.shape[0])\n",
      "/Library/Frameworks/Python.framework/Versions/3.10/lib/python3.10/site-packages/sklearn/metrics/_classification.py:1731: UndefinedMetricWarning: Precision is ill-defined and being set to 0.0 in labels with no predicted samples. Use `zero_division` parameter to control this behavior.\n",
      "  _warn_prf(average, modifier, f\"{metric.capitalize()} is\", result.shape[0])\n"
     ]
    },
    {
     "data": {
      "image/png": "[encoded data removed]",
      "text/plain": [
       "<Figure size 600x500 with 1 Axes>"
      ]
     },
     "metadata": {},
     "output_type": "display_data"
    },
    {
     "data": {
      "image/png": "[encoded data removed]",
      "text/plain": [
       "<Figure size 640x480 with 1 Axes>"
      ]
     },
     "metadata": {},
     "output_type": "display_data"
    },
    {
     "name": "stdout",
     "output_type": "stream",
     "text": [
      "Top predictors (by absolute coefficient):                        feature      coef  abs_coef\n",
      "3          received_promotions -0.308642  0.308642\n",
      "6                     is_loyal  0.264898  0.264898\n",
      "11               country_India  0.210246  0.210246\n",
      "9               country_France  0.176844  0.176844\n",
      "8   subscription_type_Standard  0.164576  0.164576\n",
      "19                   gender_le -0.152071  0.152071\n",
      "15                   age_35-44  0.133567  0.133567\n",
      "18                     age_65+  0.125287  0.125287\n",
      "12                  country_UK  0.116922  0.116922\n",
      "10             country_Germany  0.110003  0.110003\n"
     ]
    }
   ],
   "source": [
    "# Fit model\n",
    "logreg = LogisticRegression(max_iter=1000)\n",
    "logreg.fit(X_train, y_train)\n",
    "\n",
    "\n",
    "# Predictions\n",
    "y_pred = logreg.predict(X_test)\n",
    "y_proba = logreg.predict_proba(X_test)[:,1]\n",
    "\n",
    "\n",
    "print(\"Confusion Matrix:\")\n",
    "cm = confusion_matrix(y_test, y_pred)\n",
    "print(f\"True Negatives: {cm[0,0]} | False Positives: {cm[0,1]}\")\n",
    "print(f\"False Negatives: {cm[1,0]} | True Positives: {cm[1,1]}\")\n",
    "\n",
    "print(\"Classification Report:\")\n",
    "print(classification_report(y_test, y_pred, target_names=['Retained', 'Churned']))\n",
    "\n",
    "# Confusion Matrix Heatmap\n",
    "plt.figure(figsize=(6, 5))\n",
    "sns.heatmap(cm, annot=True, fmt='d', cmap='Blues', cbar=False,\n",
    "            xticklabels=['Retained', 'Churned'],\n",
    "            yticklabels=['Retained', 'Churned'])\n",
    "plt.xlabel('Predicted', fontsize=12)\n",
    "plt.ylabel('Actual', fontsize=12)\n",
    "plt.title('Confusion Matrix', fontsize=14, fontweight='bold')\n",
    "\n",
    "auc = roc_auc_score(y_test, y_proba)\n",
    "print('ROC AUC:', auc)\n",
    "\n",
    "\n",
    "# ROC curve plot\n",
    "fpr, tpr, _ = roc_curve(y_test, y_proba)\n",
    "plt.figure()\n",
    "plt.plot(fpr, tpr)\n",
    "plt.plot([0,1],[0,1],'--')\n",
    "plt.title(f'ROC Curve (AUC = {auc:.3f})')\n",
    "plt.xlabel('False Positive Rate')\n",
    "plt.ylabel('True Positive Rate')\n",
    "plt.show()\n",
    "\n",
    "\n",
    "# Coefficients interpretation\n",
    "coeffs = pd.DataFrame({'feature':feature_cols, 'coef':logreg.coef_[0]})\n",
    "coeffs['abs_coef'] = coeffs['coef'].abs()\n",
    "coeffs = coeffs.sort_values('abs_coef', ascending=False)\n",
    "print('Top predictors (by absolute coefficient):', coeffs.head(10))\n"
   ]
  },
  {
   "cell_type": "code",
   "execution_count": 169,
   "id": "c75067a5",
   "metadata": {},
   "outputs": [
    {
     "name": "stdout",
     "output_type": "stream",
     "text": [
      "Logistic Regression model trained (with class balancing)\n",
      "Model Evaluation:\n",
      "Accuracy: 0.5600\n",
      "Precision: 0.2749\n",
      "Recall: 0.5341\n",
      "F1-Score: 0.3629\n",
      "Confusion Matrix:\n",
      "True Negatives: 163 | False Positives: 124\n",
      "False Negatives: 41 | True Positives: 47\n",
      "Classification Report:\n",
      "              precision    recall  f1-score   support\n",
      "\n",
      "    Retained       0.80      0.57      0.66       287\n",
      "     Churned       0.27      0.53      0.36        88\n",
      "\n",
      "    accuracy                           0.56       375\n",
      "   macro avg       0.54      0.55      0.51       375\n",
      "weighted avg       0.68      0.56      0.59       375\n",
      "\n",
      "ROC-AUC Score: 0.5376\n"
     ]
    },
    {
     "data": {
      "image/png": "[encoded data removed]",
      "text/plain": [
       "<Figure size 600x500 with 1 Axes>"
      ]
     },
     "metadata": {},
     "output_type": "display_data"
    },
    {
     "data": {
      "image/png": "[encoded data removed]",
      "text/plain": [
       "<Figure size 800x600 with 1 Axes>"
      ]
     },
     "metadata": {},
     "output_type": "display_data"
    },
    {
     "name": "stdout",
     "output_type": "stream",
     "text": [
      "Top predictors (by absolute coefficient):                        feature      coef  abs_coef\n",
      "3          received_promotions -0.308642  0.308642\n",
      "6                     is_loyal  0.264898  0.264898\n",
      "11               country_India  0.210246  0.210246\n",
      "9               country_France  0.176844  0.176844\n",
      "8   subscription_type_Standard  0.164576  0.164576\n",
      "19                   gender_le -0.152071  0.152071\n",
      "15                   age_35-44  0.133567  0.133567\n",
      "18                     age_65+  0.125287  0.125287\n",
      "12                  country_UK  0.116922  0.116922\n",
      "10             country_Germany  0.110003  0.110003\n"
     ]
    }
   ],
   "source": [
    "# Train Logistic Regression with class weighting to handle imbalance\n",
    "log_reg = LogisticRegression(random_state=42, max_iter=1000, class_weight='balanced', \n",
    "                             C=0.001, solver='liblinear')\n",
    "log_reg.fit(X_train, y_train)\n",
    "\n",
    "print(\"Logistic Regression model trained (with class balancing)\")\n",
    "\n",
    "# Predictions\n",
    "y_pred = log_reg.predict(X_test)\n",
    "y_pred_proba = log_reg.predict_proba(X_test)[:, 1]\n",
    "\n",
    "# Evaluation\n",
    "print(\"Model Evaluation:\")\n",
    "accuracy = accuracy_score(y_test, y_pred)\n",
    "precision = precision_score(y_test, y_pred)\n",
    "recall = recall_score(y_test, y_pred)\n",
    "f1 = f1_score(y_test, y_pred)\n",
    "\n",
    "print(f\"Accuracy: {accuracy:.4f}\")\n",
    "print(f\"Precision: {precision:.4f}\")\n",
    "print(f\"Recall: {recall:.4f}\")\n",
    "print(f\"F1-Score: {f1:.4f}\")\n",
    "\n",
    "print(\"Confusion Matrix:\")\n",
    "cm = confusion_matrix(y_test, y_pred)\n",
    "print(f\"True Negatives: {cm[0,0]} | False Positives: {cm[0,1]}\")\n",
    "print(f\"False Negatives: {cm[1,0]} | True Positives: {cm[1,1]}\")\n",
    "\n",
    "print(\"Classification Report:\")\n",
    "print(classification_report(y_test, y_pred, target_names=['Retained', 'Churned']))\n",
    "\n",
    "# Confusion Matrix Heatmap\n",
    "plt.figure(figsize=(6, 5))\n",
    "sns.heatmap(cm, annot=True, fmt='d', cmap='Blues', cbar=False,\n",
    "            xticklabels=['Retained', 'Churned'],\n",
    "            yticklabels=['Retained', 'Churned'])\n",
    "plt.xlabel('Predicted', fontsize=12)\n",
    "plt.ylabel('Actual', fontsize=12)\n",
    "plt.title('Confusion Matrix', fontsize=14, fontweight='bold')\n",
    "\n",
    "# ROC-AUC\n",
    "auc_score = roc_auc_score(y_test, y_pred_proba)\n",
    "print(f\"ROC-AUC Score: {auc_score:.4f}\")\n",
    "\n",
    "# Plot ROC Curve\n",
    "fpr, tpr, thresholds = roc_curve(y_test, y_pred_proba)\n",
    "plt.figure(figsize=(8, 6))\n",
    "plt.plot(fpr, tpr, linewidth=2, label=f'ROC Curve (AUC = {auc_score:.4f})')\n",
    "plt.plot([0, 1], [0, 1], 'k--', linewidth=1, label='Random Classifier')\n",
    "plt.xlabel('False Positive Rate', fontsize=12)\n",
    "plt.ylabel('True Positive Rate', fontsize=12)\n",
    "plt.title('ROC Curve - Logistic Regression', fontsize=14, fontweight='bold')\n",
    "plt.legend(fontsize=10)\n",
    "plt.grid(True, alpha=0.3)\n",
    "plt.show()\n",
    "\n",
    "\n",
    "\n",
    "# Coefficients interpretation\n",
    "coeffs = pd.DataFrame({'feature':feature_cols, 'coef':logreg.coef_[0]})\n",
    "coeffs['abs_coef'] = coeffs['coef'].abs()\n",
    "coeffs = coeffs.sort_values('abs_coef', ascending=False)\n",
    "print('Top predictors (by absolute coefficient):', coeffs.head(10))"
   ]
  },
  {
   "cell_type": "markdown",
   "id": "877ee4b9",
   "metadata": {},
   "source": [
    "### Linear Regression Model"
   ]
  },
  {
   "cell_type": "code",
   "execution_count": 147,
   "id": "e326e2d3",
   "metadata": {},
   "outputs": [
    {
     "data": {
      "text/plain": [
       "Index(['user_id', 'age', 'gender', 'signup_date', 'last_active_date',\n",
       "       'average_watch_hours', 'mobile_app_usage_pct', 'complaints_raised',\n",
       "       'received_promotions', 'referred_by_friend', 'is_churned',\n",
       "       'monthly_fee', 'tenure_days', 'is_loyal', 'watch_per_fee_ratio',\n",
       "       'heavy_mobile_user', 'low_watch_time', 'promo_low_watch',\n",
       "       'subscription_type_Premium', 'subscription_type_Standard',\n",
       "       'country_France', 'country_Germany', 'country_India', 'country_UK',\n",
       "       'country_USA', 'age_25-34', 'age_35-44', 'age_45-54', 'age_55-64',\n",
       "       'age_65+', 'gender_le', 'complaint_flag'],\n",
       "      dtype='object')"
      ]
     },
     "execution_count": 147,
     "metadata": {},
     "output_type": "execute_result"
    }
   ],
   "source": [
    "df.columns"
   ]
  },
  {
   "cell_type": "code",
   "execution_count": 148,
   "id": "3a9fbd70",
   "metadata": {},
   "outputs": [],
   "source": [
    "# Target and Features\n",
    "target = 'average_watch_hours'\n",
    "\n",
    "exclude_cols = ['user_id', 'signup_date', 'last_active_date', 'age', 'gender', 'average_watch_hours', 'is_churned', 'is_loyal']\n",
    "feature_cols = [col for col in df.columns if col not in exclude_cols]\n",
    "\n",
    "X = df[feature_cols].copy()\n",
    "y = df[target].copy()"
   ]
  },
  {
   "cell_type": "code",
   "execution_count": null,
   "id": "497397f6",
   "metadata": {},
   "outputs": [
    {
     "name": "stdout",
     "output_type": "stream",
     "text": [
      "\\Linear Regression Results\n",
      "R2 Score: 0.9044\n",
      "RMSE: 7.0410\n",
      "MAE: 5.8399\n"
     ]
    },
    {
     "data": {
      "image/png": "[encoded data removed]",
      "text/plain": [
       "<Figure size 800x500 with 1 Axes>"
      ]
     },
     "metadata": {},
     "output_type": "display_data"
    },
    {
     "name": "stdout",
     "output_type": "stream",
     "text": [
      "\n",
      "Top 10 Positive Influencers on Watch Hours:\n",
      "            Feature  Coefficient\n",
      "        monthly_fee    13.567643\n",
      "watch_per_fee_ratio     6.753966\n",
      "  heavy_mobile_user     1.304102\n",
      "received_promotions     1.292129\n",
      "        country_USA     0.989189\n",
      "     complaint_flag     0.941980\n",
      "         country_UK     0.938171\n",
      "    country_Germany     0.614685\n",
      "            age_65+     0.530943\n",
      "          age_45-54     0.374379\n",
      "\n",
      "Top 10 Negative Influencers on Watch Hours:\n",
      "                  Feature  Coefficient\n",
      "                gender_le    -0.267213\n",
      "     mobile_app_usage_pct    -0.279013\n",
      "           country_France    -0.290496\n",
      "                age_55-64    -0.401224\n",
      "              tenure_days    -0.456002\n",
      "                age_25-34    -0.582423\n",
      "                age_35-44    -0.772783\n",
      "          promo_low_watch    -1.345374\n",
      "           low_watch_time    -9.028611\n",
      "subscription_type_Premium    -9.157289\n"
     ]
    }
   ],
   "source": [
    "\n",
    "# Train-Test Split\n",
    "X_train, X_test, y_train, y_test = train_test_split(X, y, test_size=0.25, random_state=42)\n",
    "\n",
    "# Scale only numeric continuous features\n",
    "scale_cols = ['monthly_fee', 'mobile_app_usage_pct', 'complaints_raised', 'tenure_days']\n",
    "other_cols = [c for c in feature_cols if c not in scale_cols]\n",
    "\n",
    "from sklearn.compose import ColumnTransformer\n",
    "ct = ColumnTransformer([\n",
    "    ('scale', StandardScaler(), scale_cols),\n",
    "    ('keep', 'passthrough', other_cols)\n",
    "])\n",
    "\n",
    "X_train_scaled = ct.fit_transform(X_train)\n",
    "X_test_scaled = ct.transform(X_test)\n",
    "\n",
    "# Train Linear Regression\n",
    "lin_reg = LinearRegression()\n",
    "lin_reg.fit(X_train_scaled, y_train)\n",
    "\n",
    "# Predictions\n",
    "y_pred = lin_reg.predict(X_test_scaled)\n",
    "\n",
    "# Evaluation\n",
    "r2 = r2_score(y_test, y_pred)\n",
    "rmse = np.sqrt(mean_squared_error(y_test, y_pred))\n",
    "mae = mean_absolute_error(y_test, y_pred)\n",
    "\n",
    "print(\"Linear Regression Results\")\n",
    "print(f\"R2 Score: {r2:.4f}\")\n",
    "print(f\"RMSE: {rmse:.4f}\")\n",
    "print(f\"MAE: {mae:.4f}\")\n",
    "\n",
    "# Residual Plot\n",
    "residuals = y_test - y_pred\n",
    "\n",
    "plt.figure(figsize=(8,5))\n",
    "sns.scatterplot(x=y_pred, y=residuals, alpha=0.6)\n",
    "plt.axhline(0, color='red', linestyle='--')\n",
    "plt.title('Residual Plot')\n",
    "plt.xlabel('Predicted Values')\n",
    "plt.ylabel('Residuals')\n",
    "plt.grid(alpha=0.3)\n",
    "plt.show()\n",
    "\n",
    "\n",
    "# Get the actual column order used by ColumnTransformer\n",
    "all_cols = scale_cols + other_cols\n",
    "\n",
    "coef_df = pd.DataFrame({\n",
    "    'Feature': all_cols,\n",
    "    'Coefficient': lin_reg.coef_\n",
    "}).sort_values(by='Coefficient', ascending=False)\n",
    "\n",
    "print(\"Top 10 Positive Influencers on Watch Hours:\")\n",
    "print(coef_df.head(10).to_string(index=False))\n",
    "\n",
    "print(\"Top 10 Negative Influencers on Watch Hours:\")\n",
    "print(coef_df.tail(10).to_string(index=False))"
   ]
  },
  {
   "cell_type": "code",
   "execution_count": null,
   "id": "b3382d60",
   "metadata": {},
   "outputs": [],
   "source": []
  }
 ],
 "metadata": {
  "kernelspec": {
   "display_name": "Python 3",
   "language": "python",
   "name": "python3"
  },
  "language_info": {
   "codemirror_mode": {
    "name": "ipython",
    "version": 3
   },
   "file_extension": ".py",
   "mimetype": "text/x-python",
   "name": "python",
   "nbconvert_exporter": "python",
   "pygments_lexer": "ipython3",
   "version": "3.10.1"
  }
 },
 "nbformat": 4,
 "nbformat_minor": 5
}
